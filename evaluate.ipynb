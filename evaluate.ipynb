{
 "cells": [
  {
   "cell_type": "markdown",
   "id": "a2938f20",
   "metadata": {},
   "source": [
    "# $Evaluate$ $Zillow$"
   ]
  },
  {
   "cell_type": "markdown",
   "id": "500c0e6a",
   "metadata": {},
   "source": [
    "## imports"
   ]
  },
  {
   "cell_type": "code",
   "execution_count": 22,
   "id": "424b0621",
   "metadata": {},
   "outputs": [],
   "source": [
    "import numpy as np\n",
    "import pandas as pd\n",
    "from scipy import stats\n",
    "import sklearn.preprocessing\n",
    "from sklearn.model_selection import train_test_split\n",
    "from sklearn.preprocessing import QuantileTransformer\n",
    "from sklearn.preprocessing import MinMaxScaler\n",
    "\n",
    "from sklearn.linear_model import LinearRegression\n",
    "\n",
    "from math import sqrt\n",
    "from sklearn.metrics import mean_squared_error, r2_score, explained_variance_score\n",
    "\n",
    "from sklearn.feature_selection import f_regression \n",
    "\n",
    "from statsmodels.stats.outliers_influence import variance_inflation_factor\n",
    "\n",
    "import seaborn as sns\n",
    "import matplotlib.pyplot as plt\n",
    "import wrangle as w"
   ]
  },
  {
   "cell_type": "markdown",
   "id": "49f6e042",
   "metadata": {},
   "source": [
    "### 1. Load your zillow dataset."
   ]
  },
  {
   "cell_type": "code",
   "execution_count": 2,
   "id": "afe2bee6",
   "metadata": {},
   "outputs": [],
   "source": [
    "# wrangel zillow data\n",
    "df = w.wrangle_single_family_residential()"
   ]
  },
  {
   "cell_type": "markdown",
   "id": "32506b83",
   "metadata": {},
   "source": [
    "### handle outliers\n",
    "train = w.handle_outliers(train)"
   ]
  },
  {
   "cell_type": "code",
   "execution_count": 3,
   "id": "a2a14068",
   "metadata": {},
   "outputs": [],
   "source": [
    "df = w.remove_outliers(df,['squarefeet','taxamount','tax_value','bathroom','bedroom'])"
   ]
  },
  {
   "cell_type": "code",
   "execution_count": 4,
   "id": "07d4048d",
   "metadata": {},
   "outputs": [
    {
     "data": {
      "text/plain": [
       "(2046943, 7)"
      ]
     },
     "execution_count": 4,
     "metadata": {},
     "output_type": "execute_result"
    }
   ],
   "source": [
    "df.shape"
   ]
  },
  {
   "cell_type": "code",
   "execution_count": 14,
   "id": "425e0fd4",
   "metadata": {},
   "outputs": [
    {
     "data": {
      "text/plain": [
       "0.043589605814314814"
      ]
     },
     "execution_count": 14,
     "metadata": {},
     "output_type": "execute_result"
    }
   ],
   "source": [
    "1-(2046943/2140235)\n",
    "# outliers removed are about 4.4% of the data"
   ]
  },
  {
   "cell_type": "code",
   "execution_count": 19,
   "id": "5075b40b",
   "metadata": {},
   "outputs": [
    {
     "data": {
      "text/plain": [
       "(1146287, 8)"
      ]
     },
     "execution_count": 19,
     "metadata": {},
     "output_type": "execute_result"
    }
   ],
   "source": [
    "train.shape"
   ]
  },
  {
   "cell_type": "code",
   "execution_count": 20,
   "id": "aa00f0da",
   "metadata": {},
   "outputs": [
    {
     "name": "stdout",
     "output_type": "stream",
     "text": [
      "<class 'pandas.core.frame.DataFrame'>\n",
      "Int64Index: 1146287 entries, 1754169 to 1513164\n",
      "Data columns (total 8 columns):\n",
      " #   Column      Non-Null Count    Dtype  \n",
      "---  ------      --------------    -----  \n",
      " 0   bedroom     1146287 non-null  float64\n",
      " 1   bathroom    1146287 non-null  float64\n",
      " 2   squarefeet  1146287 non-null  float64\n",
      " 3   tax_value   1146287 non-null  float64\n",
      " 4   yearbuilt   1146287 non-null  float64\n",
      " 5   taxamount   1146287 non-null  float64\n",
      " 6   fips        1146287 non-null  float64\n",
      " 7   age         1146287 non-null  float64\n",
      "dtypes: float64(8)\n",
      "memory usage: 78.7 MB\n"
     ]
    }
   ],
   "source": [
    "train.info()"
   ]
  },
  {
   "cell_type": "code",
   "execution_count": 21,
   "id": "9e2efe32",
   "metadata": {},
   "outputs": [
    {
     "data": {
      "text/html": [
       "<div>\n",
       "<style scoped>\n",
       "    .dataframe tbody tr th:only-of-type {\n",
       "        vertical-align: middle;\n",
       "    }\n",
       "\n",
       "    .dataframe tbody tr th {\n",
       "        vertical-align: top;\n",
       "    }\n",
       "\n",
       "    .dataframe thead th {\n",
       "        text-align: right;\n",
       "    }\n",
       "</style>\n",
       "<table border=\"1\" class=\"dataframe\">\n",
       "  <thead>\n",
       "    <tr style=\"text-align: right;\">\n",
       "      <th></th>\n",
       "      <th>count</th>\n",
       "      <th>mean</th>\n",
       "      <th>std</th>\n",
       "      <th>min</th>\n",
       "      <th>25%</th>\n",
       "      <th>50%</th>\n",
       "      <th>75%</th>\n",
       "      <th>max</th>\n",
       "    </tr>\n",
       "  </thead>\n",
       "  <tbody>\n",
       "    <tr>\n",
       "      <th>bedroom</th>\n",
       "      <td>1146287.0</td>\n",
       "      <td>3.260069</td>\n",
       "      <td>0.867203</td>\n",
       "      <td>1.00</td>\n",
       "      <td>3.000</td>\n",
       "      <td>3.00</td>\n",
       "      <td>4.000</td>\n",
       "      <td>6.0</td>\n",
       "    </tr>\n",
       "    <tr>\n",
       "      <th>bathroom</th>\n",
       "      <td>1146287.0</td>\n",
       "      <td>2.147012</td>\n",
       "      <td>0.817398</td>\n",
       "      <td>0.00</td>\n",
       "      <td>2.000</td>\n",
       "      <td>2.00</td>\n",
       "      <td>3.000</td>\n",
       "      <td>5.5</td>\n",
       "    </tr>\n",
       "    <tr>\n",
       "      <th>squarefeet</th>\n",
       "      <td>1146287.0</td>\n",
       "      <td>1756.303304</td>\n",
       "      <td>708.028175</td>\n",
       "      <td>1.00</td>\n",
       "      <td>1246.000</td>\n",
       "      <td>1594.00</td>\n",
       "      <td>2119.000</td>\n",
       "      <td>5057.0</td>\n",
       "    </tr>\n",
       "    <tr>\n",
       "      <th>tax_value</th>\n",
       "      <td>1146287.0</td>\n",
       "      <td>374963.054685</td>\n",
       "      <td>264586.835940</td>\n",
       "      <td>22.00</td>\n",
       "      <td>183509.000</td>\n",
       "      <td>316213.00</td>\n",
       "      <td>500000.000</td>\n",
       "      <td>1460504.0</td>\n",
       "    </tr>\n",
       "    <tr>\n",
       "      <th>yearbuilt</th>\n",
       "      <td>1146287.0</td>\n",
       "      <td>1960.392843</td>\n",
       "      <td>21.584448</td>\n",
       "      <td>1801.00</td>\n",
       "      <td>1949.000</td>\n",
       "      <td>1958.00</td>\n",
       "      <td>1974.000</td>\n",
       "      <td>2016.0</td>\n",
       "    </tr>\n",
       "    <tr>\n",
       "      <th>taxamount</th>\n",
       "      <td>1146287.0</td>\n",
       "      <td>4630.846192</td>\n",
       "      <td>3048.304862</td>\n",
       "      <td>20.24</td>\n",
       "      <td>2477.285</td>\n",
       "      <td>3974.58</td>\n",
       "      <td>6030.335</td>\n",
       "      <td>17607.6</td>\n",
       "    </tr>\n",
       "    <tr>\n",
       "      <th>fips</th>\n",
       "      <td>1146287.0</td>\n",
       "      <td>6048.401857</td>\n",
       "      <td>20.494672</td>\n",
       "      <td>6037.00</td>\n",
       "      <td>6037.000</td>\n",
       "      <td>6037.00</td>\n",
       "      <td>6059.000</td>\n",
       "      <td>6111.0</td>\n",
       "    </tr>\n",
       "    <tr>\n",
       "      <th>age</th>\n",
       "      <td>1146287.0</td>\n",
       "      <td>56.607157</td>\n",
       "      <td>21.584448</td>\n",
       "      <td>1.00</td>\n",
       "      <td>43.000</td>\n",
       "      <td>59.00</td>\n",
       "      <td>68.000</td>\n",
       "      <td>216.0</td>\n",
       "    </tr>\n",
       "  </tbody>\n",
       "</table>\n",
       "</div>"
      ],
      "text/plain": [
       "                count           mean            std      min         25%  \\\n",
       "bedroom     1146287.0       3.260069       0.867203     1.00       3.000   \n",
       "bathroom    1146287.0       2.147012       0.817398     0.00       2.000   \n",
       "squarefeet  1146287.0    1756.303304     708.028175     1.00    1246.000   \n",
       "tax_value   1146287.0  374963.054685  264586.835940    22.00  183509.000   \n",
       "yearbuilt   1146287.0    1960.392843      21.584448  1801.00    1949.000   \n",
       "taxamount   1146287.0    4630.846192    3048.304862    20.24    2477.285   \n",
       "fips        1146287.0    6048.401857      20.494672  6037.00    6037.000   \n",
       "age         1146287.0      56.607157      21.584448     1.00      43.000   \n",
       "\n",
       "                  50%         75%        max  \n",
       "bedroom          3.00       4.000        6.0  \n",
       "bathroom         2.00       3.000        5.5  \n",
       "squarefeet    1594.00    2119.000     5057.0  \n",
       "tax_value   316213.00  500000.000  1460504.0  \n",
       "yearbuilt     1958.00    1974.000     2016.0  \n",
       "taxamount     3974.58    6030.335    17607.6  \n",
       "fips          6037.00    6059.000     6111.0  \n",
       "age             59.00      68.000      216.0  "
      ]
     },
     "execution_count": 21,
     "metadata": {},
     "output_type": "execute_result"
    }
   ],
   "source": [
    "train.describe().T"
   ]
  },
  {
   "cell_type": "markdown",
   "id": "5e0c370c",
   "metadata": {},
   "source": [
    "### 2. Fit a linear regression model (ordinary least squares) and compute yhat, predictions of taxvaluedollarcnt using only calculatedfinishedsqft."
   ]
  },
  {
   "cell_type": "code",
   "execution_count": 23,
   "id": "5899baf8",
   "metadata": {},
   "outputs": [],
   "source": [
    "#drop extra columns\n",
    "train = train.drop(columns=['bedroom','bathroom',\n",
    "                    'yearbuilt','taxamount', 'fips')"
   ]
  },
  {
   "cell_type": "code",
   "execution_count": 24,
   "id": "56d9ad0b",
   "metadata": {
    "scrolled": true
   },
   "outputs": [
    {
     "data": {
      "text/html": [
       "<div>\n",
       "<style scoped>\n",
       "    .dataframe tbody tr th:only-of-type {\n",
       "        vertical-align: middle;\n",
       "    }\n",
       "\n",
       "    .dataframe tbody tr th {\n",
       "        vertical-align: top;\n",
       "    }\n",
       "\n",
       "    .dataframe thead th {\n",
       "        text-align: right;\n",
       "    }\n",
       "</style>\n",
       "<table border=\"1\" class=\"dataframe\">\n",
       "  <thead>\n",
       "    <tr style=\"text-align: right;\">\n",
       "      <th></th>\n",
       "      <th>squarefeet</th>\n",
       "      <th>tax_value</th>\n",
       "    </tr>\n",
       "  </thead>\n",
       "  <tbody>\n",
       "    <tr>\n",
       "      <th>1754169</th>\n",
       "      <td>4044.0</td>\n",
       "      <td>1139088.0</td>\n",
       "    </tr>\n",
       "    <tr>\n",
       "      <th>1221606</th>\n",
       "      <td>2378.0</td>\n",
       "      <td>418000.0</td>\n",
       "    </tr>\n",
       "    <tr>\n",
       "      <th>1264841</th>\n",
       "      <td>1242.0</td>\n",
       "      <td>282308.0</td>\n",
       "    </tr>\n",
       "    <tr>\n",
       "      <th>4661</th>\n",
       "      <td>1569.0</td>\n",
       "      <td>62828.0</td>\n",
       "    </tr>\n",
       "    <tr>\n",
       "      <th>1080763</th>\n",
       "      <td>1006.0</td>\n",
       "      <td>536000.0</td>\n",
       "    </tr>\n",
       "  </tbody>\n",
       "</table>\n",
       "</div>"
      ],
      "text/plain": [
       "         squarefeet  tax_value\n",
       "1754169      4044.0  1139088.0\n",
       "1221606      2378.0   418000.0\n",
       "1264841      1242.0   282308.0\n",
       "4661         1569.0    62828.0\n",
       "1080763      1006.0   536000.0"
      ]
     },
     "execution_count": 24,
     "metadata": {},
     "output_type": "execute_result"
    }
   ],
   "source": [
    "train.head()"
   ]
  },
  {
   "cell_type": "code",
   "execution_count": 25,
   "id": "e6ccba36",
   "metadata": {},
   "outputs": [],
   "source": [
    "# create the scaler and fit/transform squarefeet\n",
    "mms = MinMaxScaler()\n",
    "\n",
    "train['squarefeet'] = mms.fit_transform(train[['squarefeet']])"
   ]
  },
  {
   "cell_type": "code",
   "execution_count": 26,
   "id": "91b257a3",
   "metadata": {},
   "outputs": [
    {
     "data": {
      "text/html": [
       "<div>\n",
       "<style scoped>\n",
       "    .dataframe tbody tr th:only-of-type {\n",
       "        vertical-align: middle;\n",
       "    }\n",
       "\n",
       "    .dataframe tbody tr th {\n",
       "        vertical-align: top;\n",
       "    }\n",
       "\n",
       "    .dataframe thead th {\n",
       "        text-align: right;\n",
       "    }\n",
       "</style>\n",
       "<table border=\"1\" class=\"dataframe\">\n",
       "  <thead>\n",
       "    <tr style=\"text-align: right;\">\n",
       "      <th></th>\n",
       "      <th>squarefeet</th>\n",
       "      <th>tax_value</th>\n",
       "    </tr>\n",
       "  </thead>\n",
       "  <tbody>\n",
       "    <tr>\n",
       "      <th>1754169</th>\n",
       "      <td>0.799644</td>\n",
       "      <td>1139088.0</td>\n",
       "    </tr>\n",
       "    <tr>\n",
       "      <th>1221606</th>\n",
       "      <td>0.470134</td>\n",
       "      <td>418000.0</td>\n",
       "    </tr>\n",
       "    <tr>\n",
       "      <th>1264841</th>\n",
       "      <td>0.245451</td>\n",
       "      <td>282308.0</td>\n",
       "    </tr>\n",
       "    <tr>\n",
       "      <th>4661</th>\n",
       "      <td>0.310127</td>\n",
       "      <td>62828.0</td>\n",
       "    </tr>\n",
       "    <tr>\n",
       "      <th>1080763</th>\n",
       "      <td>0.198774</td>\n",
       "      <td>536000.0</td>\n",
       "    </tr>\n",
       "  </tbody>\n",
       "</table>\n",
       "</div>"
      ],
      "text/plain": [
       "         squarefeet  tax_value\n",
       "1754169    0.799644  1139088.0\n",
       "1221606    0.470134   418000.0\n",
       "1264841    0.245451   282308.0\n",
       "4661       0.310127    62828.0\n",
       "1080763    0.198774   536000.0"
      ]
     },
     "execution_count": 26,
     "metadata": {},
     "output_type": "execute_result"
    }
   ],
   "source": [
    "train.head()"
   ]
  },
  {
   "cell_type": "code",
   "execution_count": 29,
   "id": "7a5eca41",
   "metadata": {},
   "outputs": [],
   "source": [
    "#split into my X_train and y_train\n",
    "X_train = train[['squarefeet']]\n",
    "y_train = train.tax_value\n",
    "\n",
    "X_validate = validate[['squarefeet']]\n",
    "y_validate = validate.tax_value\n",
    "\n",
    "X_test = test[['squarefeet']]\n",
    "y_test = test.tax_value"
   ]
  },
  {
   "cell_type": "code",
   "execution_count": 34,
   "id": "0aa980a9",
   "metadata": {},
   "outputs": [
    {
     "data": {
      "text/html": [
       "<div>\n",
       "<style scoped>\n",
       "    .dataframe tbody tr th:only-of-type {\n",
       "        vertical-align: middle;\n",
       "    }\n",
       "\n",
       "    .dataframe tbody tr th {\n",
       "        vertical-align: top;\n",
       "    }\n",
       "\n",
       "    .dataframe thead th {\n",
       "        text-align: right;\n",
       "    }\n",
       "</style>\n",
       "<table border=\"1\" class=\"dataframe\">\n",
       "  <thead>\n",
       "    <tr style=\"text-align: right;\">\n",
       "      <th></th>\n",
       "      <th>squarefeet</th>\n",
       "    </tr>\n",
       "  </thead>\n",
       "  <tbody>\n",
       "    <tr>\n",
       "      <th>1754169</th>\n",
       "      <td>0.799644</td>\n",
       "    </tr>\n",
       "    <tr>\n",
       "      <th>1221606</th>\n",
       "      <td>0.470134</td>\n",
       "    </tr>\n",
       "    <tr>\n",
       "      <th>1264841</th>\n",
       "      <td>0.245451</td>\n",
       "    </tr>\n",
       "    <tr>\n",
       "      <th>4661</th>\n",
       "      <td>0.310127</td>\n",
       "    </tr>\n",
       "    <tr>\n",
       "      <th>1080763</th>\n",
       "      <td>0.198774</td>\n",
       "    </tr>\n",
       "  </tbody>\n",
       "</table>\n",
       "</div>"
      ],
      "text/plain": [
       "         squarefeet\n",
       "1754169    0.799644\n",
       "1221606    0.470134\n",
       "1264841    0.245451\n",
       "4661       0.310127\n",
       "1080763    0.198774"
      ]
     },
     "execution_count": 34,
     "metadata": {},
     "output_type": "execute_result"
    }
   ],
   "source": [
    "X_train.head()"
   ]
  },
  {
   "cell_type": "code",
   "execution_count": 35,
   "id": "e00e4b90",
   "metadata": {},
   "outputs": [
    {
     "data": {
      "text/plain": [
       "1754169    1139088.0\n",
       "1221606     418000.0\n",
       "1264841     282308.0\n",
       "4661         62828.0\n",
       "1080763     536000.0\n",
       "Name: tax_value, dtype: float64"
      ]
     },
     "execution_count": 35,
     "metadata": {},
     "output_type": "execute_result"
    }
   ],
   "source": [
    "y_train.head()"
   ]
  },
  {
   "cell_type": "code",
   "execution_count": 37,
   "id": "646a151a",
   "metadata": {},
   "outputs": [
    {
     "data": {
      "text/plain": [
       "array([836322.73753838, 500340.59757615, 271243.53215172, ...,\n",
       "       187752.17204106, 453754.83867382, 227884.49248072])"
      ]
     },
     "execution_count": 37,
     "metadata": {},
     "output_type": "execute_result"
    }
   ],
   "source": [
    "model = LinearRegression().fit(X_train, y_train)\n",
    "predictions = model.predict(X_train)\n",
    "predictions"
   ]
  },
  {
   "cell_type": "code",
   "execution_count": 38,
   "id": "537a9193",
   "metadata": {},
   "outputs": [],
   "source": [
    "train['yhat'] = predictions"
   ]
  },
  {
   "cell_type": "code",
   "execution_count": 39,
   "id": "577fe6e6",
   "metadata": {},
   "outputs": [
    {
     "data": {
      "text/html": [
       "<div>\n",
       "<style scoped>\n",
       "    .dataframe tbody tr th:only-of-type {\n",
       "        vertical-align: middle;\n",
       "    }\n",
       "\n",
       "    .dataframe tbody tr th {\n",
       "        vertical-align: top;\n",
       "    }\n",
       "\n",
       "    .dataframe thead th {\n",
       "        text-align: right;\n",
       "    }\n",
       "</style>\n",
       "<table border=\"1\" class=\"dataframe\">\n",
       "  <thead>\n",
       "    <tr style=\"text-align: right;\">\n",
       "      <th></th>\n",
       "      <th>squarefeet</th>\n",
       "      <th>tax_value</th>\n",
       "      <th>yhat</th>\n",
       "    </tr>\n",
       "  </thead>\n",
       "  <tbody>\n",
       "    <tr>\n",
       "      <th>1754169</th>\n",
       "      <td>0.799644</td>\n",
       "      <td>1139088.0</td>\n",
       "      <td>836322.737538</td>\n",
       "    </tr>\n",
       "    <tr>\n",
       "      <th>1221606</th>\n",
       "      <td>0.470134</td>\n",
       "      <td>418000.0</td>\n",
       "      <td>500340.597576</td>\n",
       "    </tr>\n",
       "    <tr>\n",
       "      <th>1264841</th>\n",
       "      <td>0.245451</td>\n",
       "      <td>282308.0</td>\n",
       "      <td>271243.532152</td>\n",
       "    </tr>\n",
       "    <tr>\n",
       "      <th>4661</th>\n",
       "      <td>0.310127</td>\n",
       "      <td>62828.0</td>\n",
       "      <td>337189.606442</td>\n",
       "    </tr>\n",
       "    <tr>\n",
       "      <th>1080763</th>\n",
       "      <td>0.198774</td>\n",
       "      <td>536000.0</td>\n",
       "      <td>223649.423490</td>\n",
       "    </tr>\n",
       "  </tbody>\n",
       "</table>\n",
       "</div>"
      ],
      "text/plain": [
       "         squarefeet  tax_value           yhat\n",
       "1754169    0.799644  1139088.0  836322.737538\n",
       "1221606    0.470134   418000.0  500340.597576\n",
       "1264841    0.245451   282308.0  271243.532152\n",
       "4661       0.310127    62828.0  337189.606442\n",
       "1080763    0.198774   536000.0  223649.423490"
      ]
     },
     "execution_count": 39,
     "metadata": {},
     "output_type": "execute_result"
    }
   ],
   "source": [
    "train.head()"
   ]
  },
  {
   "cell_type": "markdown",
   "id": "7199dafd",
   "metadata": {},
   "source": [
    "### 3. Plot the residuals for the linear regression model that you made."
   ]
  },
  {
   "cell_type": "code",
   "execution_count": 41,
   "id": "1f0dec51",
   "metadata": {},
   "outputs": [],
   "source": [
    "train['residuals'] = train.tax_value - train.yhat"
   ]
  },
  {
   "cell_type": "code",
   "execution_count": 42,
   "id": "01407a0f",
   "metadata": {},
   "outputs": [
    {
     "data": {
      "text/html": [
       "<div>\n",
       "<style scoped>\n",
       "    .dataframe tbody tr th:only-of-type {\n",
       "        vertical-align: middle;\n",
       "    }\n",
       "\n",
       "    .dataframe tbody tr th {\n",
       "        vertical-align: top;\n",
       "    }\n",
       "\n",
       "    .dataframe thead th {\n",
       "        text-align: right;\n",
       "    }\n",
       "</style>\n",
       "<table border=\"1\" class=\"dataframe\">\n",
       "  <thead>\n",
       "    <tr style=\"text-align: right;\">\n",
       "      <th></th>\n",
       "      <th>squarefeet</th>\n",
       "      <th>tax_value</th>\n",
       "      <th>yhat</th>\n",
       "      <th>residuals</th>\n",
       "    </tr>\n",
       "  </thead>\n",
       "  <tbody>\n",
       "    <tr>\n",
       "      <th>1754169</th>\n",
       "      <td>0.799644</td>\n",
       "      <td>1139088.0</td>\n",
       "      <td>836322.737538</td>\n",
       "      <td>302765.262462</td>\n",
       "    </tr>\n",
       "    <tr>\n",
       "      <th>1221606</th>\n",
       "      <td>0.470134</td>\n",
       "      <td>418000.0</td>\n",
       "      <td>500340.597576</td>\n",
       "      <td>-82340.597576</td>\n",
       "    </tr>\n",
       "    <tr>\n",
       "      <th>1264841</th>\n",
       "      <td>0.245451</td>\n",
       "      <td>282308.0</td>\n",
       "      <td>271243.532152</td>\n",
       "      <td>11064.467848</td>\n",
       "    </tr>\n",
       "    <tr>\n",
       "      <th>4661</th>\n",
       "      <td>0.310127</td>\n",
       "      <td>62828.0</td>\n",
       "      <td>337189.606442</td>\n",
       "      <td>-274361.606442</td>\n",
       "    </tr>\n",
       "    <tr>\n",
       "      <th>1080763</th>\n",
       "      <td>0.198774</td>\n",
       "      <td>536000.0</td>\n",
       "      <td>223649.423490</td>\n",
       "      <td>312350.576510</td>\n",
       "    </tr>\n",
       "  </tbody>\n",
       "</table>\n",
       "</div>"
      ],
      "text/plain": [
       "         squarefeet  tax_value           yhat      residuals\n",
       "1754169    0.799644  1139088.0  836322.737538  302765.262462\n",
       "1221606    0.470134   418000.0  500340.597576  -82340.597576\n",
       "1264841    0.245451   282308.0  271243.532152   11064.467848\n",
       "4661       0.310127    62828.0  337189.606442 -274361.606442\n",
       "1080763    0.198774   536000.0  223649.423490  312350.576510"
      ]
     },
     "execution_count": 42,
     "metadata": {},
     "output_type": "execute_result"
    }
   ],
   "source": [
    "train.head()"
   ]
  },
  {
   "cell_type": "code",
   "execution_count": 45,
   "id": "43bb8ad9",
   "metadata": {
    "scrolled": true
   },
   "outputs": [
    {
     "data": {
      "image/png": "[encoded data removed]",
      "text/plain": [
       "<Figure size 432x288 with 1 Axes>"
      ]
     },
     "metadata": {
      "needs_background": "light"
     },
     "output_type": "display_data"
    }
   ],
   "source": [
    "sns.scatterplot(data=train, x = 'tax_value', y = 'residuals')\n",
    "\n",
    "plt.xlabel('tax_value')\n",
    "plt.ylabel('Residuals')\n",
    "plt.title('Residual vs Home Value Plot')\n",
    "plt.show()"
   ]
  },
  {
   "cell_type": "code",
   "execution_count": 49,
   "id": "65496921",
   "metadata": {},
   "outputs": [
    {
     "data": {
      "image/png": "[encoded data removed]",
      "text/plain": [
       "<Figure size 360x360 with 1 Axes>"
      ]
     },
     "metadata": {
      "needs_background": "light"
     },
     "output_type": "display_data"
    }
   ],
   "source": [
    "# visualize the line of best fit from OLS linear model\n",
    "\n",
    "#scatter is my actuals\n",
    "#plt.scatter(train.squarefeet, train.tax_value)\n",
    "\n",
    "#lineplot is my regression line\n",
    "#plt.plot(train.squarefeet, train.tax_value)\n",
    "sns.lmplot(data=train, x='squarefeet', y='tax_value', line_kws={'color':'red'})\n",
    "plt.xlabel('x = square feet')\n",
    "plt.ylabel('y = tax value')\n",
    "plt.title('OLS linear model')\n",
    "plt.show()"
   ]
  },
  {
   "cell_type": "code",
   "execution_count": null,
   "id": "7e302bb0",
   "metadata": {},
   "outputs": [],
   "source": [
    "# visualize the line of best fit from OLS linear model\n",
    "\n",
    "#scatter is my actuals\n",
    "plt.scatter(lr_model.squarefeet, lr_model.tax_value)\n",
    "\n",
    "#lineplot is my regression line\n",
    "plt.plot(lr_model.squarefeet, lr_model.yhat, color ='red' )\n",
    "\n",
    "plt.xlabel('x = squarefeet')\n",
    "plt.ylabel('y = tax_value')\n",
    "plt.title('OLS linear model')\n",
    "plt.show()"
   ]
  },
  {
   "cell_type": "markdown",
   "id": "86e62180",
   "metadata": {},
   "source": [
    "### 4. Calculate the sum of squared errors, explained sum of squares, total sum of squares, mean squared error, and root mean squared error for your model."
   ]
  },
  {
   "cell_type": "markdown",
   "id": "dd71153a",
   "metadata": {},
   "source": [
    "### MSE - mean squared error"
   ]
  },
  {
   "cell_type": "code",
   "execution_count": 50,
   "id": "a82c09fd",
   "metadata": {},
   "outputs": [
    {
     "data": {
      "text/plain": [
       "49617735218.69385"
      ]
     },
     "execution_count": 50,
     "metadata": {},
     "output_type": "execute_result"
    }
   ],
   "source": [
    "MSE = mean_squared_error(train.tax_value, train.yhat)\n",
    "MSE"
   ]
  },
  {
   "cell_type": "markdown",
   "id": "2c2a764e",
   "metadata": {},
   "source": [
    "### SSE - Sum of squared errors"
   ]
  },
  {
   "cell_type": "code",
   "execution_count": 52,
   "id": "0781c338",
   "metadata": {},
   "outputs": [
    {
     "data": {
      "text/plain": [
       "5.687616485063091e+16"
      ]
     },
     "execution_count": 52,
     "metadata": {},
     "output_type": "execute_result"
    }
   ],
   "source": [
    "SSE = MSE * len(train)\n",
    "SSE"
   ]
  },
  {
   "cell_type": "markdown",
   "id": "3a13e03f",
   "metadata": {},
   "source": [
    "### RMSE - root mean squared error"
   ]
  },
  {
   "cell_type": "code",
   "execution_count": 53,
   "id": "9918a01e",
   "metadata": {},
   "outputs": [
    {
     "data": {
      "text/plain": [
       "222750.3876959451"
      ]
     },
     "execution_count": 53,
     "metadata": {},
     "output_type": "execute_result"
    }
   ],
   "source": [
    "RMSE = MSE ** .5\n",
    "RMSE"
   ]
  },
  {
   "cell_type": "markdown",
   "id": "0da2a328",
   "metadata": {},
   "source": [
    "### ESS - explained sum of squared"
   ]
  },
  {
   "cell_type": "code",
   "execution_count": 55,
   "id": "fde620be",
   "metadata": {},
   "outputs": [
    {
     "data": {
      "text/plain": [
       "2.3370954961164796e+16"
      ]
     },
     "execution_count": 55,
     "metadata": {},
     "output_type": "execute_result"
    }
   ],
   "source": [
    "ESS = ((train.yhat - train.tax_value.mean())**2).sum()\n",
    "ESS"
   ]
  },
  {
   "cell_type": "markdown",
   "id": "26bdca6a",
   "metadata": {},
   "source": [
    "### TSS - total sum squared"
   ]
  },
  {
   "cell_type": "code",
   "execution_count": 56,
   "id": "fca398b4",
   "metadata": {},
   "outputs": [
    {
     "data": {
      "text/plain": [
       "8.024711981179571e+16"
      ]
     },
     "execution_count": 56,
     "metadata": {},
     "output_type": "execute_result"
    }
   ],
   "source": [
    "TSS = ESS + SSE\n",
    "TSS"
   ]
  },
  {
   "cell_type": "markdown",
   "id": "ae6fef38",
   "metadata": {},
   "source": [
    "### 5. Calculate the sum of squared errors, mean squared error, and root mean squared error for the baseline model (i.e. a model that always predicts the average taxvaluedollarcnt amount)."
   ]
  },
  {
   "cell_type": "code",
   "execution_count": 57,
   "id": "afbf5396",
   "metadata": {},
   "outputs": [
    {
     "data": {
      "text/plain": [
       "374963.0546852577"
      ]
     },
     "execution_count": 57,
     "metadata": {},
     "output_type": "execute_result"
    }
   ],
   "source": [
    "# establish baseline\n",
    "baseline = train.tax_value.mean()\n",
    "train['baseline']=baseline\n",
    "baseline"
   ]
  },
  {
   "cell_type": "code",
   "execution_count": 58,
   "id": "61d4e362",
   "metadata": {
    "scrolled": true
   },
   "outputs": [
    {
     "data": {
      "text/html": [
       "<div>\n",
       "<style scoped>\n",
       "    .dataframe tbody tr th:only-of-type {\n",
       "        vertical-align: middle;\n",
       "    }\n",
       "\n",
       "    .dataframe tbody tr th {\n",
       "        vertical-align: top;\n",
       "    }\n",
       "\n",
       "    .dataframe thead th {\n",
       "        text-align: right;\n",
       "    }\n",
       "</style>\n",
       "<table border=\"1\" class=\"dataframe\">\n",
       "  <thead>\n",
       "    <tr style=\"text-align: right;\">\n",
       "      <th></th>\n",
       "      <th>squarefeet</th>\n",
       "      <th>tax_value</th>\n",
       "      <th>yhat</th>\n",
       "      <th>residuals</th>\n",
       "      <th>baseline</th>\n",
       "    </tr>\n",
       "  </thead>\n",
       "  <tbody>\n",
       "    <tr>\n",
       "      <th>1754169</th>\n",
       "      <td>0.799644</td>\n",
       "      <td>1139088.0</td>\n",
       "      <td>836322.737538</td>\n",
       "      <td>302765.262462</td>\n",
       "      <td>374963.054685</td>\n",
       "    </tr>\n",
       "    <tr>\n",
       "      <th>1221606</th>\n",
       "      <td>0.470134</td>\n",
       "      <td>418000.0</td>\n",
       "      <td>500340.597576</td>\n",
       "      <td>-82340.597576</td>\n",
       "      <td>374963.054685</td>\n",
       "    </tr>\n",
       "    <tr>\n",
       "      <th>1264841</th>\n",
       "      <td>0.245451</td>\n",
       "      <td>282308.0</td>\n",
       "      <td>271243.532152</td>\n",
       "      <td>11064.467848</td>\n",
       "      <td>374963.054685</td>\n",
       "    </tr>\n",
       "    <tr>\n",
       "      <th>4661</th>\n",
       "      <td>0.310127</td>\n",
       "      <td>62828.0</td>\n",
       "      <td>337189.606442</td>\n",
       "      <td>-274361.606442</td>\n",
       "      <td>374963.054685</td>\n",
       "    </tr>\n",
       "    <tr>\n",
       "      <th>1080763</th>\n",
       "      <td>0.198774</td>\n",
       "      <td>536000.0</td>\n",
       "      <td>223649.423490</td>\n",
       "      <td>312350.576510</td>\n",
       "      <td>374963.054685</td>\n",
       "    </tr>\n",
       "  </tbody>\n",
       "</table>\n",
       "</div>"
      ],
      "text/plain": [
       "         squarefeet  tax_value           yhat      residuals       baseline\n",
       "1754169    0.799644  1139088.0  836322.737538  302765.262462  374963.054685\n",
       "1221606    0.470134   418000.0  500340.597576  -82340.597576  374963.054685\n",
       "1264841    0.245451   282308.0  271243.532152   11064.467848  374963.054685\n",
       "4661       0.310127    62828.0  337189.606442 -274361.606442  374963.054685\n",
       "1080763    0.198774   536000.0  223649.423490  312350.576510  374963.054685"
      ]
     },
     "execution_count": 58,
     "metadata": {},
     "output_type": "execute_result"
    }
   ],
   "source": [
    "train.head()"
   ]
  },
  {
   "cell_type": "markdown",
   "id": "929140b5",
   "metadata": {},
   "source": [
    "### MSE"
   ]
  },
  {
   "cell_type": "code",
   "execution_count": 61,
   "id": "6c7e61e4",
   "metadata": {},
   "outputs": [
    {
     "data": {
      "text/plain": [
       "70006132680.37177"
      ]
     },
     "execution_count": 61,
     "metadata": {},
     "output_type": "execute_result"
    }
   ],
   "source": [
    "MSE_baseline = mean_squared_error(train.tax_value, train.baseline)\n",
    "MSE_baseline"
   ]
  },
  {
   "cell_type": "markdown",
   "id": "cc430cb2",
   "metadata": {},
   "source": [
    "### SSE"
   ]
  },
  {
   "cell_type": "code",
   "execution_count": 62,
   "id": "71e080a2",
   "metadata": {},
   "outputs": [
    {
     "data": {
      "text/plain": [
       "8.024711981178531e+16"
      ]
     },
     "execution_count": 62,
     "metadata": {},
     "output_type": "execute_result"
    }
   ],
   "source": [
    "SSE_baseline = MSE_baseline * len(train)\n",
    "SSE_baseline"
   ]
  },
  {
   "cell_type": "markdown",
   "id": "bba3b07a",
   "metadata": {},
   "source": [
    "### RSME"
   ]
  },
  {
   "cell_type": "code",
   "execution_count": 63,
   "id": "0936f639",
   "metadata": {},
   "outputs": [
    {
     "data": {
      "text/plain": [
       "264586.7205291523"
      ]
     },
     "execution_count": 63,
     "metadata": {},
     "output_type": "execute_result"
    }
   ],
   "source": [
    "RMSE_baseline = MSE_baseline**.5\n",
    "RMSE_baseline"
   ]
  },
  {
   "cell_type": "markdown",
   "id": "25e16b80",
   "metadata": {},
   "source": [
    "### Evaluation DataFrame"
   ]
  },
  {
   "cell_type": "code",
   "execution_count": 67,
   "id": "2108206e",
   "metadata": {
    "scrolled": false
   },
   "outputs": [
    {
     "name": "stdout",
     "output_type": "stream",
     "text": [
      "  metric   model_error\n",
      "0    SSE  5.687616e+16\n",
      "1    MSE  4.961774e+10\n",
      "2   RMSE  2.227504e+05\n",
      "          metric  baseline_error\n",
      "0   SSE_baseline    8.024712e+16\n",
      "1   MSE_baseline    7.000613e+10\n",
      "2  RMSE_baseline    2.645867e+05\n"
     ]
    }
   ],
   "source": [
    "df_eval = pd.DataFrame(np.array(['SSE','MSE','RMSE']), columns=['metric'])\n",
    "df_baseline_eval = pd.DataFrame(np.array(['SSE_baseline','MSE_baseline','RMSE_baseline']), columns=['metric'])\n",
    "\n",
    "df_eval['model_error'] = np.array([SSE, MSE, RMSE])\n",
    "df_baseline_eval['baseline_error'] = np.array([SSE_baseline, MSE_baseline, RMSE_baseline])\n",
    "\n",
    "df_eval.\n",
    "print(df_eval)\n",
    "print(df_baseline_eval)\n"
   ]
  },
  {
   "cell_type": "code",
   "execution_count": 74,
   "id": "fa3c1e25",
   "metadata": {
    "scrolled": true
   },
   "outputs": [
    {
     "data": {
      "text/html": [
       "<div>\n",
       "<style scoped>\n",
       "    .dataframe tbody tr th:only-of-type {\n",
       "        vertical-align: middle;\n",
       "    }\n",
       "\n",
       "    .dataframe tbody tr th {\n",
       "        vertical-align: top;\n",
       "    }\n",
       "\n",
       "    .dataframe thead th {\n",
       "        text-align: right;\n",
       "    }\n",
       "</style>\n",
       "<table border=\"1\" class=\"dataframe\">\n",
       "  <thead>\n",
       "    <tr style=\"text-align: right;\">\n",
       "      <th></th>\n",
       "      <th>metric</th>\n",
       "      <th>model_error</th>\n",
       "      <th>metric</th>\n",
       "      <th>baseline_error</th>\n",
       "    </tr>\n",
       "  </thead>\n",
       "  <tbody>\n",
       "    <tr>\n",
       "      <th>0</th>\n",
       "      <td>SSE</td>\n",
       "      <td>5.687616e+16</td>\n",
       "      <td>SSE_baseline</td>\n",
       "      <td>8.024712e+16</td>\n",
       "    </tr>\n",
       "    <tr>\n",
       "      <th>1</th>\n",
       "      <td>MSE</td>\n",
       "      <td>4.961774e+10</td>\n",
       "      <td>MSE_baseline</td>\n",
       "      <td>7.000613e+10</td>\n",
       "    </tr>\n",
       "    <tr>\n",
       "      <th>2</th>\n",
       "      <td>RMSE</td>\n",
       "      <td>2.227504e+05</td>\n",
       "      <td>RMSE_baseline</td>\n",
       "      <td>2.645867e+05</td>\n",
       "    </tr>\n",
       "  </tbody>\n",
       "</table>\n",
       "</div>"
      ],
      "text/plain": [
       "  metric   model_error         metric  baseline_error\n",
       "0    SSE  5.687616e+16   SSE_baseline    8.024712e+16\n",
       "1    MSE  4.961774e+10   MSE_baseline    7.000613e+10\n",
       "2   RMSE  2.227504e+05  RMSE_baseline    2.645867e+05"
      ]
     },
     "execution_count": 74,
     "metadata": {},
     "output_type": "execute_result"
    }
   ],
   "source": [
    "eval_df = pd.concat([df_eval, df_baseline_eval], axis=1)\n",
    "eval_df"
   ]
  },
  {
   "cell_type": "code",
   "execution_count": 77,
   "id": "cb58a903",
   "metadata": {
    "scrolled": true
   },
   "outputs": [],
   "source": [
    "eval_df['error_delta'] = df_eval.model_error - df_baseline_eval.baseline_error\n"
   ]
  },
  {
   "cell_type": "code",
   "execution_count": 78,
   "id": "e864a193",
   "metadata": {},
   "outputs": [
    {
     "data": {
      "text/html": [
       "<div>\n",
       "<style scoped>\n",
       "    .dataframe tbody tr th:only-of-type {\n",
       "        vertical-align: middle;\n",
       "    }\n",
       "\n",
       "    .dataframe tbody tr th {\n",
       "        vertical-align: top;\n",
       "    }\n",
       "\n",
       "    .dataframe thead th {\n",
       "        text-align: right;\n",
       "    }\n",
       "</style>\n",
       "<table border=\"1\" class=\"dataframe\">\n",
       "  <thead>\n",
       "    <tr style=\"text-align: right;\">\n",
       "      <th></th>\n",
       "      <th>metric</th>\n",
       "      <th>model_error</th>\n",
       "      <th>metric</th>\n",
       "      <th>baseline_error</th>\n",
       "      <th>error_delta</th>\n",
       "    </tr>\n",
       "  </thead>\n",
       "  <tbody>\n",
       "    <tr>\n",
       "      <th>0</th>\n",
       "      <td>SSE</td>\n",
       "      <td>5.687616e+16</td>\n",
       "      <td>SSE_baseline</td>\n",
       "      <td>8.024712e+16</td>\n",
       "      <td>-2.337095e+16</td>\n",
       "    </tr>\n",
       "    <tr>\n",
       "      <th>1</th>\n",
       "      <td>MSE</td>\n",
       "      <td>4.961774e+10</td>\n",
       "      <td>MSE_baseline</td>\n",
       "      <td>7.000613e+10</td>\n",
       "      <td>-2.038840e+10</td>\n",
       "    </tr>\n",
       "    <tr>\n",
       "      <th>2</th>\n",
       "      <td>RMSE</td>\n",
       "      <td>2.227504e+05</td>\n",
       "      <td>RMSE_baseline</td>\n",
       "      <td>2.645867e+05</td>\n",
       "      <td>-4.183633e+04</td>\n",
       "    </tr>\n",
       "  </tbody>\n",
       "</table>\n",
       "</div>"
      ],
      "text/plain": [
       "  metric   model_error         metric  baseline_error   error_delta\n",
       "0    SSE  5.687616e+16   SSE_baseline    8.024712e+16 -2.337095e+16\n",
       "1    MSE  4.961774e+10   MSE_baseline    7.000613e+10 -2.038840e+10\n",
       "2   RMSE  2.227504e+05  RMSE_baseline    2.645867e+05 -4.183633e+04"
      ]
     },
     "execution_count": 78,
     "metadata": {},
     "output_type": "execute_result"
    }
   ],
   "source": [
    "eval_df"
   ]
  },
  {
   "cell_type": "markdown",
   "id": "aa8d5627",
   "metadata": {},
   "source": [
    "## Example of definition with dataframe and columns\n",
    "\n",
    "``` python\n",
    "\n",
    "def y (df, feature, target):\n",
    "    new_df = pd.DataFrame()\n",
    "    baseline = df[feature].mean()\n",
    "    new_df[feature]=df[feature]\n",
    "    new_df[target]=df[target]\n",
    "    return new_df\n",
    "```"
   ]
  },
  {
   "cell_type": "markdown",
   "id": "9b848631",
   "metadata": {},
   "source": [
    "### 6. Write python code that compares the sum of squared errors for your model against the sum of squared errors for the baseline model and outputs whether or not your model performs better than the baseline model."
   ]
  },
  {
   "cell_type": "code",
   "execution_count": 66,
   "id": "d2956dfc",
   "metadata": {},
   "outputs": [
    {
     "name": "stdout",
     "output_type": "stream",
     "text": [
      "My OSL model performs better than baseline\n"
     ]
    }
   ],
   "source": [
    "if SSE < SSE_baseline:\n",
    "    print('My OSL model performs better than baseline')\n",
    "else:\n",
    "    print('My OSL model performs worse than baseline. :( )')"
   ]
  },
  {
   "cell_type": "markdown",
   "id": "92abf384",
   "metadata": {},
   "source": [
    "### 7. What is the amount of variance explained in your model?"
   ]
  },
  {
   "cell_type": "code",
   "execution_count": 79,
   "id": "6b6663fb",
   "metadata": {
    "scrolled": false
   },
   "outputs": [
    {
     "name": "stdout",
     "output_type": "stream",
     "text": [
      "R-squared =  0.291\n",
      "Percent of variance in y explained by x =  29.1 %\n"
     ]
    }
   ],
   "source": [
    "# calculated\n",
    "R2 = ESS/TSS\n",
    "print('R-squared = ',round(R2,3))\n",
    "print(\"Percent of variance in y explained by x = \", round(R2*100,1), \"%\")\n"
   ]
  },
  {
   "cell_type": "code",
   "execution_count": 82,
   "id": "0f8c2821",
   "metadata": {},
   "outputs": [
    {
     "data": {
      "text/plain": [
       "0.291237305662428"
      ]
     },
     "execution_count": 82,
     "metadata": {},
     "output_type": "execute_result"
    }
   ],
   "source": [
    "# Using sklearn\n",
    "r2_score(train.tax_value, train.yhat)"
   ]
  },
  {
   "cell_type": "code",
   "execution_count": 84,
   "id": "fbafa943",
   "metadata": {},
   "outputs": [
    {
     "name": "stdout",
     "output_type": "stream",
     "text": [
      "Explained Variance =  0.291\n"
     ]
    }
   ],
   "source": [
    "#  Using sklearn.metrics.explained_variance_score\n",
    "\n",
    "evs = explained_variance_score(train.tax_value, train.yhat)\n",
    "print('Explained Variance = ', round(evs,3))"
   ]
  },
  {
   "cell_type": "markdown",
   "id": "ee322af2",
   "metadata": {},
   "source": [
    "### 8. Is your model better than the baseline model?"
   ]
  },
  {
   "cell_type": "code",
   "execution_count": 86,
   "id": "0ba398a5",
   "metadata": {},
   "outputs": [
    {
     "data": {
      "text/plain": [
       "41836.33283320721"
      ]
     },
     "execution_count": 86,
     "metadata": {},
     "output_type": "execute_result"
    }
   ],
   "source": [
    "#Difference in RMSE\n",
    "RMSE_baseline-RMSE"
   ]
  },
  {
   "cell_type": "markdown",
   "id": "4e4c6528",
   "metadata": {},
   "source": [
    "### 9. Create a file named evaluate.py that contains the following functions.\n",
    "\n",
    "* plot_residuals(y, yhat): creates a residual plot\n",
    "* regression_errors(y, yhat): returns the following values:\n",
    "    * sum of squared errors (SSE)\n",
    "    * explained sum of squares (ESS)\n",
    "    * total sum of squares (TSS)\n",
    "    * mean squared error (MSE)\n",
    "    * root mean squared error (RMSE)\n",
    "* baseline_mean_errors(y): computes the SSE, MSE, and RMSE for the baseline model\n",
    "* better_than_baseline(y, yhat): returns true if your model performs better than the baseline, otherwise false\n"
   ]
  },
  {
   "cell_type": "code",
   "execution_count": 87,
   "id": "cae27f15",
   "metadata": {},
   "outputs": [
    {
     "data": {
      "image/png": "[encoded data removed]",
      "text/plain": [
       "<Figure size 432x288 with 1 Axes>"
      ]
     },
     "metadata": {
      "needs_background": "light"
     },
     "output_type": "display_data"
    }
   ],
   "source": [
    "def plot_residuals(y, yhat):\n",
    "    residuals = y - yhat\n",
    "    \n",
    "    plt.scatter(x=y, y=residuals)\n",
    "    plt.xlabel('Home Value')\n",
    "    plt.ylabel('Residuals')\n",
    "    plt.title('Residual vs Home Value Plot')\n",
    "    plt.show()\n",
    "    \n",
    "plot_residuals(train.tax_value, train.yhat)"
   ]
  },
  {
   "cell_type": "code",
   "execution_count": 89,
   "id": "b4736eb8",
   "metadata": {},
   "outputs": [
    {
     "data": {
      "text/plain": [
       "('SSE = 5.687616485063091e+16',\n",
       " 'ESS = 2.3370954961164796e+16',\n",
       " 'TSS = 8.024711981179571e+16',\n",
       " 'MSE = 49617735218.69385',\n",
       " 'RMSE = 222750.3876959451')"
      ]
     },
     "execution_count": 89,
     "metadata": {},
     "output_type": "execute_result"
    }
   ],
   "source": [
    "def regression_errors(y, yhat):\n",
    "    MSE = mean_squared_error(y, yhat)\n",
    "    SSE = MSE * len(y)\n",
    "    RMSE = MSE**.5\n",
    "    \n",
    "    ESS = ((yhat - y.mean())**2).sum()\n",
    "    TSS = ESS + SSE\n",
    "    \n",
    "    return f'SSE = {SSE}', f'ESS = {ESS}', f'TSS = {TSS}', f'MSE = {MSE}', f'RMSE = {RMSE}'\n",
    "\n",
    "regression_errors(train.tax_value, train.yhat)\n"
   ]
  },
  {
   "cell_type": "code",
   "execution_count": 92,
   "id": "68d9401b",
   "metadata": {},
   "outputs": [
    {
     "data": {
      "text/plain": [
       "('baseline SSE = 8.024711981178531e+16',\n",
       " 'baseline MSE = 70006132680.37177',\n",
       " 'baseline RMSE = 264586.7205291523')"
      ]
     },
     "execution_count": 92,
     "metadata": {},
     "output_type": "execute_result"
    }
   ],
   "source": [
    "def baseline_mean_errors(y):\n",
    "    baseline = np.repeat(y.mean(), len(y))\n",
    "    \n",
    "    MSE = mean_squared_error(y, baseline)\n",
    "    SSE = MSE * len(y)\n",
    "    RMSE = MSE**.5\n",
    "    \n",
    "    return f'baseline SSE = {SSE}',f'baseline MSE = {MSE}', f'baseline RMSE = {RMSE}'\n",
    "\n",
    "baseline_mean_errors(train.tax_value)\n"
   ]
  },
  {
   "cell_type": "code",
   "execution_count": 94,
   "id": "aa3fbfb3",
   "metadata": {},
   "outputs": [
    {
     "name": "stdout",
     "output_type": "stream",
     "text": [
      "My OSL model performs better than baseline\n"
     ]
    }
   ],
   "source": [
    "def better_than_baseline(y, yhat):\n",
    "    SSE, ESS, TSS, MSE, RMSE = regression_errors(y, yhat)\n",
    "    \n",
    "    SSE_baseline, MSE_baseline, RMSE_baseline = baseline_mean_errors(y)\n",
    "    \n",
    "    if SSE < SSE_baseline:\n",
    "        print('My OSL model performs better than baseline')\n",
    "    else:\n",
    "        print('My OSL model performs worse than baseline. :( )')\n",
    "        \n",
    "better_than_baseline(train.tax_value, train.yhat)"
   ]
  }
 ],
 "metadata": {
  "kernelspec": {
   "display_name": "Python 3 (ipykernel)",
   "language": "python",
   "name": "python3"
  },
  "language_info": {
   "codemirror_mode": {
    "name": "ipython",
    "version": 3
   },
   "file_extension": ".py",
   "mimetype": "text/x-python",
   "name": "python",
   "nbconvert_exporter": "python",
   "pygments_lexer": "ipython3",
   "version": "3.9.12"
  }
 },
 "nbformat": 4,
 "nbformat_minor": 5
}
