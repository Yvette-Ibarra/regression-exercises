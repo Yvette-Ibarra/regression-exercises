{
 "cells": [
  {
   "cell_type": "markdown",
   "id": "d07936df",
   "metadata": {},
   "source": [
    "# Regression Model"
   ]
  },
  {
   "cell_type": "code",
   "execution_count": 1,
   "id": "dcc68820",
   "metadata": {},
   "outputs": [],
   "source": [
    "import numpy as np\n",
    "import pandas as pd\n",
    "import env \n",
    "from env import host, user, password\n",
    "\n",
    "import seaborn as sns\n",
    "import matplotlib.pyplot as plt"
   ]
  },
  {
   "cell_type": "markdown",
   "id": "a871c04a",
   "metadata": {},
   "source": [
    "What are we aming to do with **Wrangle**?\n",
    "* Where is our data coming From\n",
    "* How do we get it ( AKA how can we make it obtainable for others?)\n",
    "\n",
    "### Prepare\n",
    "* What does this data look like?\n",
    "* Does the data look like its \"suppose to\"\n",
    "     * Do number look like numbers, do we see any major errors in the data that could be chalked up to clerical error or otherwise corrupted information?\n",
    "     * Nulls, Nans, whitspace, other problems\n",
    "* If we have problems with our data, how do we deal with it?\n",
    "     * Fix the problems, record how you fixed the problems(Documentation!!!)\n",
    "     * Examine univariate distributions (Understand wht exploration is goint to look like going foward ex. How Normal does this data look on first blush? 'Normal' In the distributin sense, and assert how that will impact both our statistical testing, exploration and use of these variables)\n",
    "     * Script it out into something that can be repeated"
   ]
  },
  {
   "cell_type": "code",
   "execution_count": 17,
   "id": "822316a3",
   "metadata": {},
   "outputs": [],
   "source": [
    "# pd.read_sql? (to see documentaion)"
   ]
  },
  {
   "cell_type": "markdown",
   "id": "b41f2d5e",
   "metadata": {},
   "source": [
    "# steps:\n",
    "I have identified what data I need and where it lives, so lets go ahead and replicate that here with python."
   ]
  },
  {
   "cell_type": "code",
   "execution_count": null,
   "id": "5513eb4b",
   "metadata": {},
   "outputs": [],
   "source": [
    "### Another way to wrangle data\n",
    "def wrangle_grades():\n",
    "    '''\n",
    "    Read student_grades csv file into a pandas DataFrame,\n",
    "    drop student_id column, replace whitespaces with NaN values,\n",
    "    drop any rows with Null values, convert all columns to int64,\n",
    "    return cleaned student grades DataFrame.\n",
    "    '''\n",
    "    # Acquire data from csv file.\n",
    "    file = \"https://gist.githubusercontent.com/ryanorsinger/14c8f919920e111f53c6d2c3a3af7e70/raw/07f6e8004fa171638d6d599cfbf0513f6f60b9e8/student_grades.csv\"\n",
    "\n",
    "    grades = pd.read_csv(file)\n",
    "\n",
    "    # Replace white space values with NaN values.\n",
    "    grades = grades.replace(r'^\\s*$', np.nan, regex=True)\n",
    "\n",
    "    # Drop all rows with NaN values.\n",
    "    df = grades.dropna()\n",
    "\n",
    "    # Convert all columns to int64 data types.\n",
    "    df = df.astype('int')\n",
    "\n",
    "    return df"
   ]
  },
  {
   "cell_type": "code",
   "execution_count": 66,
   "id": "0e2d9d91",
   "metadata": {},
   "outputs": [
    {
     "data": {
      "text/html": [
       "<div>\n",
       "<style scoped>\n",
       "    .dataframe tbody tr th:only-of-type {\n",
       "        vertical-align: middle;\n",
       "    }\n",
       "\n",
       "    .dataframe tbody tr th {\n",
       "        vertical-align: top;\n",
       "    }\n",
       "\n",
       "    .dataframe thead th {\n",
       "        text-align: right;\n",
       "    }\n",
       "</style>\n",
       "<table border=\"1\" class=\"dataframe\">\n",
       "  <thead>\n",
       "    <tr style=\"text-align: right;\">\n",
       "      <th></th>\n",
       "      <th>student_id</th>\n",
       "      <th>exam1</th>\n",
       "      <th>exam2</th>\n",
       "      <th>exam3</th>\n",
       "      <th>final_grade</th>\n",
       "    </tr>\n",
       "  </thead>\n",
       "  <tbody>\n",
       "    <tr>\n",
       "      <th>0</th>\n",
       "      <td>1</td>\n",
       "      <td>100.0</td>\n",
       "      <td>90</td>\n",
       "      <td>95</td>\n",
       "      <td>96</td>\n",
       "    </tr>\n",
       "    <tr>\n",
       "      <th>1</th>\n",
       "      <td>2</td>\n",
       "      <td>98.0</td>\n",
       "      <td>93</td>\n",
       "      <td>96</td>\n",
       "      <td>95</td>\n",
       "    </tr>\n",
       "    <tr>\n",
       "      <th>2</th>\n",
       "      <td>3</td>\n",
       "      <td>85.0</td>\n",
       "      <td>83</td>\n",
       "      <td>87</td>\n",
       "      <td>87</td>\n",
       "    </tr>\n",
       "    <tr>\n",
       "      <th>3</th>\n",
       "      <td>4</td>\n",
       "      <td>83.0</td>\n",
       "      <td>80</td>\n",
       "      <td>86</td>\n",
       "      <td>85</td>\n",
       "    </tr>\n",
       "    <tr>\n",
       "      <th>4</th>\n",
       "      <td>5</td>\n",
       "      <td>93.0</td>\n",
       "      <td>90</td>\n",
       "      <td>96</td>\n",
       "      <td>97</td>\n",
       "    </tr>\n",
       "    <tr>\n",
       "      <th>...</th>\n",
       "      <td>...</td>\n",
       "      <td>...</td>\n",
       "      <td>...</td>\n",
       "      <td>...</td>\n",
       "      <td>...</td>\n",
       "    </tr>\n",
       "    <tr>\n",
       "      <th>99</th>\n",
       "      <td>101</td>\n",
       "      <td>62.0</td>\n",
       "      <td>70</td>\n",
       "      <td>79</td>\n",
       "      <td>70</td>\n",
       "    </tr>\n",
       "    <tr>\n",
       "      <th>100</th>\n",
       "      <td>102</td>\n",
       "      <td>58.0</td>\n",
       "      <td>65</td>\n",
       "      <td>70</td>\n",
       "      <td>68</td>\n",
       "    </tr>\n",
       "    <tr>\n",
       "      <th>101</th>\n",
       "      <td>103</td>\n",
       "      <td>57.0</td>\n",
       "      <td>65</td>\n",
       "      <td>75</td>\n",
       "      <td>65</td>\n",
       "    </tr>\n",
       "    <tr>\n",
       "      <th>102</th>\n",
       "      <td>104</td>\n",
       "      <td>70.0</td>\n",
       "      <td>75</td>\n",
       "      <td>78</td>\n",
       "      <td>72</td>\n",
       "    </tr>\n",
       "    <tr>\n",
       "      <th>103</th>\n",
       "      <td>10</td>\n",
       "      <td>NaN</td>\n",
       "      <td>70</td>\n",
       "      <td>79</td>\n",
       "      <td>70</td>\n",
       "    </tr>\n",
       "  </tbody>\n",
       "</table>\n",
       "<p>104 rows × 5 columns</p>\n",
       "</div>"
      ],
      "text/plain": [
       "     student_id  exam1  exam2 exam3  final_grade\n",
       "0             1  100.0     90    95           96\n",
       "1             2   98.0     93    96           95\n",
       "2             3   85.0     83    87           87\n",
       "3             4   83.0     80    86           85\n",
       "4             5   93.0     90    96           97\n",
       "..          ...    ...    ...   ...          ...\n",
       "99          101   62.0     70    79           70\n",
       "100         102   58.0     65    70           68\n",
       "101         103   57.0     65    75           65\n",
       "102         104   70.0     75    78           72\n",
       "103          10    NaN     70    79           70\n",
       "\n",
       "[104 rows x 5 columns]"
      ]
     },
     "execution_count": 66,
     "metadata": {},
     "output_type": "execute_result"
    }
   ],
   "source": [
    "endpoint = '/school_sample'\n",
    "url = f'mysql+pymysql://{user}:{password}@{host}'\n",
    "url = url + endpoint\n",
    "query = 'SELECT * FROM student_grades'\n",
    "# we can use pd.read_sql\n",
    "pd.read_sql(query, url)"
   ]
  },
  {
   "cell_type": "code",
   "execution_count": 20,
   "id": "e42f017b",
   "metadata": {},
   "outputs": [],
   "source": [
    "def get_connection(db, user=env.user, host=env.host, password=env.password):\n",
    "    return f'mysql+pymysql://{user}:{password}@{host}/{db}'"
   ]
  },
  {
   "cell_type": "code",
   "execution_count": 21,
   "id": "fffe067b",
   "metadata": {},
   "outputs": [],
   "source": [
    " sql_query = \"\"\"\n",
    "                SELECT * FROM student_grades\n",
    "                \"\"\"\n",
    "\n",
    "df = pd.read_sql(sql_query, get_connection('school_sample'))"
   ]
  },
  {
   "cell_type": "markdown",
   "id": "1271c33c",
   "metadata": {},
   "source": [
    "### What do we want to know about this data?\n",
    "    * df.info(), gives us basic information about the features\n",
    "    * df.describe(), basic descriptive statistics\n",
    "    * df.size, df.shape\n",
    "    * df.isnull, figure out where the missing data is located"
   ]
  },
  {
   "cell_type": "code",
   "execution_count": 22,
   "id": "a81721c0",
   "metadata": {},
   "outputs": [
    {
     "data": {
      "text/plain": [
       "(520, (104, 5))"
      ]
     },
     "execution_count": 22,
     "metadata": {},
     "output_type": "execute_result"
    }
   ],
   "source": [
    "df.size, df.shape"
   ]
  },
  {
   "cell_type": "code",
   "execution_count": 23,
   "id": "59345bff",
   "metadata": {},
   "outputs": [
    {
     "name": "stdout",
     "output_type": "stream",
     "text": [
      "<class 'pandas.core.frame.DataFrame'>\n",
      "RangeIndex: 104 entries, 0 to 103\n",
      "Data columns (total 5 columns):\n",
      " #   Column       Non-Null Count  Dtype  \n",
      "---  ------       --------------  -----  \n",
      " 0   student_id   104 non-null    int64  \n",
      " 1   exam1        103 non-null    float64\n",
      " 2   exam2        104 non-null    int64  \n",
      " 3   exam3        104 non-null    object \n",
      " 4   final_grade  104 non-null    int64  \n",
      "dtypes: float64(1), int64(3), object(1)\n",
      "memory usage: 4.2+ KB\n"
     ]
    }
   ],
   "source": [
    "df.info()"
   ]
  },
  {
   "cell_type": "markdown",
   "id": "7dd630c2",
   "metadata": {},
   "source": [
    "Takeaways from .infor()\n",
    "WE have a missing value in exam1 as shown with the non-null count\n",
    "WE have noticed a blank vale in the table when we executed our sql query, how do we take care of this\n",
    "Furthermore, how do we find the non-null blank values\n",
    "** Exam3 is an object type and not interperted as a number in pandas."
   ]
  },
  {
   "cell_type": "code",
   "execution_count": 24,
   "id": "e201f5c6",
   "metadata": {},
   "outputs": [
    {
     "data": {
      "text/html": [
       "<div>\n",
       "<style scoped>\n",
       "    .dataframe tbody tr th:only-of-type {\n",
       "        vertical-align: middle;\n",
       "    }\n",
       "\n",
       "    .dataframe tbody tr th {\n",
       "        vertical-align: top;\n",
       "    }\n",
       "\n",
       "    .dataframe thead th {\n",
       "        text-align: right;\n",
       "    }\n",
       "</style>\n",
       "<table border=\"1\" class=\"dataframe\">\n",
       "  <thead>\n",
       "    <tr style=\"text-align: right;\">\n",
       "      <th></th>\n",
       "      <th>student_id</th>\n",
       "      <th>exam1</th>\n",
       "      <th>exam2</th>\n",
       "      <th>final_grade</th>\n",
       "    </tr>\n",
       "  </thead>\n",
       "  <tbody>\n",
       "    <tr>\n",
       "      <th>count</th>\n",
       "      <td>104.000000</td>\n",
       "      <td>103.000000</td>\n",
       "      <td>104.000000</td>\n",
       "      <td>104.000000</td>\n",
       "    </tr>\n",
       "    <tr>\n",
       "      <th>mean</th>\n",
       "      <td>52.500000</td>\n",
       "      <td>78.621359</td>\n",
       "      <td>77.307692</td>\n",
       "      <td>81.692308</td>\n",
       "    </tr>\n",
       "    <tr>\n",
       "      <th>std</th>\n",
       "      <td>30.166206</td>\n",
       "      <td>14.260955</td>\n",
       "      <td>10.295703</td>\n",
       "      <td>10.918122</td>\n",
       "    </tr>\n",
       "    <tr>\n",
       "      <th>min</th>\n",
       "      <td>1.000000</td>\n",
       "      <td>57.000000</td>\n",
       "      <td>65.000000</td>\n",
       "      <td>65.000000</td>\n",
       "    </tr>\n",
       "    <tr>\n",
       "      <th>25%</th>\n",
       "      <td>26.750000</td>\n",
       "      <td>70.000000</td>\n",
       "      <td>70.000000</td>\n",
       "      <td>72.000000</td>\n",
       "    </tr>\n",
       "    <tr>\n",
       "      <th>50%</th>\n",
       "      <td>52.500000</td>\n",
       "      <td>79.000000</td>\n",
       "      <td>75.000000</td>\n",
       "      <td>81.000000</td>\n",
       "    </tr>\n",
       "    <tr>\n",
       "      <th>75%</th>\n",
       "      <td>78.250000</td>\n",
       "      <td>92.000000</td>\n",
       "      <td>89.000000</td>\n",
       "      <td>93.000000</td>\n",
       "    </tr>\n",
       "    <tr>\n",
       "      <th>max</th>\n",
       "      <td>104.000000</td>\n",
       "      <td>100.000000</td>\n",
       "      <td>93.000000</td>\n",
       "      <td>97.000000</td>\n",
       "    </tr>\n",
       "  </tbody>\n",
       "</table>\n",
       "</div>"
      ],
      "text/plain": [
       "       student_id       exam1       exam2  final_grade\n",
       "count  104.000000  103.000000  104.000000   104.000000\n",
       "mean    52.500000   78.621359   77.307692    81.692308\n",
       "std     30.166206   14.260955   10.295703    10.918122\n",
       "min      1.000000   57.000000   65.000000    65.000000\n",
       "25%     26.750000   70.000000   70.000000    72.000000\n",
       "50%     52.500000   79.000000   75.000000    81.000000\n",
       "75%     78.250000   92.000000   89.000000    93.000000\n",
       "max    104.000000  100.000000   93.000000    97.000000"
      ]
     },
     "execution_count": 24,
     "metadata": {},
     "output_type": "execute_result"
    }
   ],
   "source": [
    "df.describe()"
   ]
  },
  {
   "cell_type": "markdown",
   "id": "465145fa",
   "metadata": {},
   "source": [
    "Looks like Exam 1 had the widest range out of what we have presently available, averge grades are passing accorss the board"
   ]
  },
  {
   "cell_type": "markdown",
   "id": "7b2c3d57",
   "metadata": {},
   "source": [
    "Lets look into the real nulls and the fake nulls and determine how and what to do with them"
   ]
  },
  {
   "cell_type": "code",
   "execution_count": 25,
   "id": "0d145f31",
   "metadata": {},
   "outputs": [
    {
     "data": {
      "text/plain": [
       "student_id     0\n",
       "exam1          1\n",
       "exam2          0\n",
       "exam3          0\n",
       "final_grade    0\n",
       "dtype: int64"
      ]
     },
     "execution_count": 25,
     "metadata": {},
     "output_type": "execute_result"
    }
   ],
   "source": [
    "df.isnull().sum()"
   ]
  },
  {
   "cell_type": "markdown",
   "id": "b5849ff4",
   "metadata": {},
   "source": [
    "### How we interact with null values:\n",
    "    * Do we have enough domain knowledge to assert or impute value?\n",
    "    * IF we do , then this is likely the best choice, due to the corraboration of extraneous knowledge to the application of the specific dataset that we are examining\n",
    "    * what is the risk of removinf it entirely?\n",
    "    * If the data represents a small portion of our info, then we have a fairly low risk of dropping that information entirely\n",
    "    * (Imputation is more if we have domain knowledge, since these are grades/risk assesment its best to not assume the average)\n",
    "    * We have to make judgement calls as the data practitione"
   ]
  },
  {
   "cell_type": "code",
   "execution_count": 26,
   "id": "d60df54b",
   "metadata": {},
   "outputs": [],
   "source": [
    "# cast whitespace as an integer does not play nice\n",
    "# Noo: int(' ')"
   ]
  },
  {
   "cell_type": "code",
   "execution_count": 29,
   "id": "5a8999aa",
   "metadata": {},
   "outputs": [],
   "source": [
    "#df.exam3.astype(int)"
   ]
  },
  {
   "cell_type": "markdown",
   "id": "e32ded94",
   "metadata": {},
   "source": [
    "### regex mini lesson for very smols\n",
    "^ : 'starts with'\n",
    "\n",
    "\\s : 'any type of whitespace'\n",
    "\n",
    "Zero or more times' : *\n",
    "\n",
    "$ : 'ends with'\n",
    "\n",
    "'^\\s*$' : something that starts with any whitespace character or zero or more times until the end\n",
    "\n"
   ]
  },
  {
   "cell_type": "code",
   "execution_count": 30,
   "id": "09703def",
   "metadata": {},
   "outputs": [
    {
     "data": {
      "text/plain": [
       "0      95\n",
       "1      96\n",
       "2      87\n",
       "3      86\n",
       "4      96\n",
       "       ..\n",
       "99     79\n",
       "100    70\n",
       "101    75\n",
       "102    78\n",
       "103    79\n",
       "Name: exam3, Length: 104, dtype: object"
      ]
     },
     "execution_count": 30,
     "metadata": {},
     "output_type": "execute_result"
    }
   ],
   "source": [
    "# lets change the whitespace into a null value,\n",
    "# since that effectively what it is\n",
    "# Note its not the only option\n",
    "df.exam3.replace(r'^\\s*$', np.NAN,regex =True)"
   ]
  },
  {
   "cell_type": "code",
   "execution_count": 31,
   "id": "4b8aad9e",
   "metadata": {},
   "outputs": [],
   "source": [
    "# we can reassign exam3 or: pass a .replace\n",
    "df = df.replace(r'^\\s*$', np.NAN,regex =True)"
   ]
  },
  {
   "cell_type": "code",
   "execution_count": 32,
   "id": "7a5430ab",
   "metadata": {},
   "outputs": [],
   "source": [
    "df = df.dropna()"
   ]
  },
  {
   "cell_type": "code",
   "execution_count": 33,
   "id": "31dd7668",
   "metadata": {},
   "outputs": [
    {
     "name": "stdout",
     "output_type": "stream",
     "text": [
      "<class 'pandas.core.frame.DataFrame'>\n",
      "Int64Index: 102 entries, 0 to 102\n",
      "Data columns (total 5 columns):\n",
      " #   Column       Non-Null Count  Dtype  \n",
      "---  ------       --------------  -----  \n",
      " 0   student_id   102 non-null    int64  \n",
      " 1   exam1        102 non-null    float64\n",
      " 2   exam2        102 non-null    int64  \n",
      " 3   exam3        102 non-null    object \n",
      " 4   final_grade  102 non-null    int64  \n",
      "dtypes: float64(1), int64(3), object(1)\n",
      "memory usage: 4.8+ KB\n"
     ]
    }
   ],
   "source": [
    "# recheck df.info\n",
    "df.info()"
   ]
  },
  {
   "cell_type": "code",
   "execution_count": null,
   "id": "7519fe37",
   "metadata": {},
   "outputs": [],
   "source": []
  },
  {
   "cell_type": "code",
   "execution_count": 34,
   "id": "78da4812",
   "metadata": {},
   "outputs": [
    {
     "data": {
      "text/plain": [
       "0"
      ]
     },
     "execution_count": 34,
     "metadata": {},
     "output_type": "execute_result"
    }
   ],
   "source": [
    "# did truncation change the number, any isntance where exam 1 is not an int\n",
    "(df.exam1.astype(int) != df.exam1).sum()\n",
    "# nope"
   ]
  },
  {
   "cell_type": "code",
   "execution_count": 36,
   "id": "4301b261",
   "metadata": {},
   "outputs": [
    {
     "data": {
      "text/html": [
       "<div>\n",
       "<style scoped>\n",
       "    .dataframe tbody tr th:only-of-type {\n",
       "        vertical-align: middle;\n",
       "    }\n",
       "\n",
       "    .dataframe tbody tr th {\n",
       "        vertical-align: top;\n",
       "    }\n",
       "\n",
       "    .dataframe thead th {\n",
       "        text-align: right;\n",
       "    }\n",
       "</style>\n",
       "<table border=\"1\" class=\"dataframe\">\n",
       "  <thead>\n",
       "    <tr style=\"text-align: right;\">\n",
       "      <th></th>\n",
       "      <th>student_id</th>\n",
       "      <th>exam1</th>\n",
       "      <th>exam2</th>\n",
       "      <th>final_grade</th>\n",
       "    </tr>\n",
       "  </thead>\n",
       "  <tbody>\n",
       "    <tr>\n",
       "      <th>count</th>\n",
       "      <td>102.000000</td>\n",
       "      <td>102.000000</td>\n",
       "      <td>102.000000</td>\n",
       "      <td>102.000000</td>\n",
       "    </tr>\n",
       "    <tr>\n",
       "      <th>mean</th>\n",
       "      <td>53.313725</td>\n",
       "      <td>78.833333</td>\n",
       "      <td>77.500000</td>\n",
       "      <td>81.970588</td>\n",
       "    </tr>\n",
       "    <tr>\n",
       "      <th>std</th>\n",
       "      <td>29.886909</td>\n",
       "      <td>14.167375</td>\n",
       "      <td>10.297313</td>\n",
       "      <td>10.833991</td>\n",
       "    </tr>\n",
       "    <tr>\n",
       "      <th>min</th>\n",
       "      <td>1.000000</td>\n",
       "      <td>57.000000</td>\n",
       "      <td>65.000000</td>\n",
       "      <td>65.000000</td>\n",
       "    </tr>\n",
       "    <tr>\n",
       "      <th>25%</th>\n",
       "      <td>28.250000</td>\n",
       "      <td>70.000000</td>\n",
       "      <td>70.000000</td>\n",
       "      <td>72.000000</td>\n",
       "    </tr>\n",
       "    <tr>\n",
       "      <th>50%</th>\n",
       "      <td>53.500000</td>\n",
       "      <td>79.000000</td>\n",
       "      <td>75.000000</td>\n",
       "      <td>81.000000</td>\n",
       "    </tr>\n",
       "    <tr>\n",
       "      <th>75%</th>\n",
       "      <td>78.750000</td>\n",
       "      <td>92.000000</td>\n",
       "      <td>89.000000</td>\n",
       "      <td>93.000000</td>\n",
       "    </tr>\n",
       "    <tr>\n",
       "      <th>max</th>\n",
       "      <td>104.000000</td>\n",
       "      <td>100.000000</td>\n",
       "      <td>93.000000</td>\n",
       "      <td>97.000000</td>\n",
       "    </tr>\n",
       "  </tbody>\n",
       "</table>\n",
       "</div>"
      ],
      "text/plain": [
       "       student_id       exam1       exam2  final_grade\n",
       "count  102.000000  102.000000  102.000000   102.000000\n",
       "mean    53.313725   78.833333   77.500000    81.970588\n",
       "std     29.886909   14.167375   10.297313    10.833991\n",
       "min      1.000000   57.000000   65.000000    65.000000\n",
       "25%     28.250000   70.000000   70.000000    72.000000\n",
       "50%     53.500000   79.000000   75.000000    81.000000\n",
       "75%     78.750000   92.000000   89.000000    93.000000\n",
       "max    104.000000  100.000000   93.000000    97.000000"
      ]
     },
     "execution_count": 36,
     "metadata": {},
     "output_type": "execute_result"
    }
   ],
   "source": [
    "df.describe()"
   ]
  },
  {
   "cell_type": "code",
   "execution_count": null,
   "id": "88f072ae",
   "metadata": {},
   "outputs": [],
   "source": []
  },
  {
   "cell_type": "code",
   "execution_count": 44,
   "id": "04b3f4d0",
   "metadata": {},
   "outputs": [],
   "source": [
    "# create a wrangle function\n",
    "def wrangle_grades():\n",
    "    ''' Wrangle Grades will read in a data set of grades from our clud database, \n",
    "        utilizing the get_connection function located in the env.py file\n",
    "        \n",
    "        The acquired data will then be passed into basic data frame and return \n",
    "        the function will be a single panda data frame'''\n",
    "   \n",
    "    # squl query for acquisition\n",
    "    sql_query = \"\"\"\n",
    "                SELECT * FROM student_grades\n",
    "                \"\"\"\n",
    "    # Acquisition\n",
    "    df = pd.read_sql(sql_query, get_connection('school_sample'))\n",
    "    \n",
    "    # Preparation\n",
    "    #replace any whitespace with null values\n",
    "    df = df.replace(r'^\\s*$', np.NAN,regex =True)\n",
    "    # drop out any null values:\n",
    "    df = df.dropna()\n",
    "    # cast everything as an integer:\n",
    "    df = df.astype(int)\n",
    "    # remove student id, which is a arbritrasy\n",
    "    df = df.drop(columns = {'student_id'})\n",
    "    \n",
    "    return df\n",
    "    "
   ]
  },
  {
   "cell_type": "code",
   "execution_count": 47,
   "id": "91a7c475",
   "metadata": {
    "scrolled": false
   },
   "outputs": [],
   "source": [
    "clean_df = wrangle_grades()"
   ]
  },
  {
   "cell_type": "code",
   "execution_count": 49,
   "id": "b56d8e22",
   "metadata": {
    "scrolled": true
   },
   "outputs": [
    {
     "data": {
      "text/plain": [
       "<seaborn.axisgrid.FacetGrid at 0x16a030d00>"
      ]
     },
     "execution_count": 49,
     "metadata": {},
     "output_type": "execute_result"
    },
    {
     "data": {
      "image/png": "[encoded data removed]",
      "text/plain": [
       "<Figure size 360x360 with 1 Axes>"
      ]
     },
     "metadata": {
      "needs_background": "light"
     },
     "output_type": "display_data"
    }
   ],
   "source": [
    "# lets check out some distributions before we move on explorations.\n",
    "sns.displot(x='final_grade', data = clean_df)"
   ]
  },
  {
   "cell_type": "markdown",
   "id": "a8af4370",
   "metadata": {},
   "source": [
    "takeaway: out target variable isnt exceptional Normal , so we will keep that in our pocket for late.\n",
    "In the event that we want to utilize an algorithms for that is  contigent on Normal Data"
   ]
  },
  {
   "cell_type": "code",
   "execution_count": 50,
   "id": "0d576a60",
   "metadata": {},
   "outputs": [],
   "source": [
    "# for my other columns:\n",
    "columns = list(clean_df.columns)"
   ]
  },
  {
   "cell_type": "code",
   "execution_count": 51,
   "id": "70755349",
   "metadata": {},
   "outputs": [
    {
     "data": {
      "text/plain": [
       "Index(['exam1', 'exam2', 'exam3', 'final_grade'], dtype='object')"
      ]
     },
     "execution_count": 51,
     "metadata": {},
     "output_type": "execute_result"
    }
   ],
   "source": [
    "clean_df.columns"
   ]
  },
  {
   "cell_type": "code",
   "execution_count": 61,
   "id": "30fa683f",
   "metadata": {},
   "outputs": [
    {
     "data": {
      "image/png": "[encoded data removed]",
      "text/plain": [
       "<Figure size 1152x216 with 4 Axes>"
      ]
     },
     "metadata": {
      "needs_background": "light"
     },
     "output_type": "display_data"
    }
   ],
   "source": [
    "plt.figure(figsize=(16, 3))\n",
    "\n",
    "for i, col in enumerate(clean_df):\n",
    "    \n",
    "    # i starts at 0, but plot nos should start at 1\n",
    "    plot_number = i + 1\n",
    "    \n",
    "    # Create subplot.\n",
    "    # plt.subplot(row X col, where?)\n",
    "    plt.subplot(1,4,plot_number)\n",
    "    \n",
    "    # Title with column name.\n",
    "    plt.title(col)\n",
    "    \n",
    "    # Display histogram for column.\n",
    "    clean_df[col].hist(bins=5, edgecolor='black')\n",
    "    \n",
    "    # Hide gridlines.\n",
    "    plt.grid(False)"
   ]
  },
  {
   "cell_type": "markdown",
   "id": "5791eba0",
   "metadata": {},
   "source": [
    "takeaways:\n",
    "alll our grade distributions apper to be roughly bimodal:\n",
    "That is to day that the students fall into one of two different pools of student that may represent different populations\n",
    "\n",
    "Question going foward:\n",
    "Can we capture grades predictably utilizing these features?\n",
    "Does the bimodal distribution of these features and the target impact our capacity to use one model\n",
    "Does that even matter if the distribution of the .... are just as bimodal as the target?"
   ]
  },
  {
   "cell_type": "markdown",
   "id": "62f8d518",
   "metadata": {},
   "source": [
    "### Main Stages in Exploration\n",
    "\n",
    "* Hypothesize\n",
    "    \n",
    "* Visualize\n",
    "        * Plot out the distributions of each feature Why?\n",
    "        * Plot out the interaction of two or more variables? Why?\n",
    "        * Plot out how subgroups compare to each-other and to the overall population? Why?\n",
    "        * Document takeaways Why?\n",
    "        * Identify features that correlate with each other Why?\n",
    "* Test Hypotheses"
   ]
  },
  {
   "cell_type": "markdown",
   "id": "bd2340ae",
   "metadata": {},
   "source": [
    "# Wrangle$ $Exercise$ $Review$"
   ]
  },
  {
   "cell_type": "code",
   "execution_count": 2,
   "id": "a4e94213",
   "metadata": {},
   "outputs": [],
   "source": [
    "# squl query for acquisition\n",
    "sql_query =  \"\"\"\n",
    "            SELECT bedroomcnt, bathroomcnt, calculatedfinishedsquarefeet, taxvaluedollarcnt, yearbuilt, taxamount, fips\n",
    "            FROM properties_2017\n",
    "            Where propertylandusetypeid = 261;\n",
    "        \"\"\"\n",
    "    # Acquisition\n",
    "df = pd.read_sql(sql_query, env.get_connection('zillow'))"
   ]
  },
  {
   "cell_type": "code",
   "execution_count": 4,
   "id": "db7c5cf5",
   "metadata": {},
   "outputs": [
    {
     "data": {
      "text/html": [
       "<div>\n",
       "<style scoped>\n",
       "    .dataframe tbody tr th:only-of-type {\n",
       "        vertical-align: middle;\n",
       "    }\n",
       "\n",
       "    .dataframe tbody tr th {\n",
       "        vertical-align: top;\n",
       "    }\n",
       "\n",
       "    .dataframe thead th {\n",
       "        text-align: right;\n",
       "    }\n",
       "</style>\n",
       "<table border=\"1\" class=\"dataframe\">\n",
       "  <thead>\n",
       "    <tr style=\"text-align: right;\">\n",
       "      <th></th>\n",
       "      <th>bedroomcnt</th>\n",
       "      <th>bathroomcnt</th>\n",
       "      <th>calculatedfinishedsquarefeet</th>\n",
       "      <th>taxvaluedollarcnt</th>\n",
       "      <th>yearbuilt</th>\n",
       "      <th>taxamount</th>\n",
       "      <th>fips</th>\n",
       "    </tr>\n",
       "  </thead>\n",
       "  <tbody>\n",
       "    <tr>\n",
       "      <th>0</th>\n",
       "      <td>0.0</td>\n",
       "      <td>0.0</td>\n",
       "      <td>NaN</td>\n",
       "      <td>27516.0</td>\n",
       "      <td>NaN</td>\n",
       "      <td>NaN</td>\n",
       "      <td>6037.0</td>\n",
       "    </tr>\n",
       "    <tr>\n",
       "      <th>1</th>\n",
       "      <td>0.0</td>\n",
       "      <td>0.0</td>\n",
       "      <td>NaN</td>\n",
       "      <td>10.0</td>\n",
       "      <td>NaN</td>\n",
       "      <td>NaN</td>\n",
       "      <td>6037.0</td>\n",
       "    </tr>\n",
       "    <tr>\n",
       "      <th>2</th>\n",
       "      <td>0.0</td>\n",
       "      <td>0.0</td>\n",
       "      <td>NaN</td>\n",
       "      <td>10.0</td>\n",
       "      <td>NaN</td>\n",
       "      <td>NaN</td>\n",
       "      <td>6037.0</td>\n",
       "    </tr>\n",
       "    <tr>\n",
       "      <th>3</th>\n",
       "      <td>0.0</td>\n",
       "      <td>0.0</td>\n",
       "      <td>NaN</td>\n",
       "      <td>2108.0</td>\n",
       "      <td>NaN</td>\n",
       "      <td>174.21</td>\n",
       "      <td>6037.0</td>\n",
       "    </tr>\n",
       "    <tr>\n",
       "      <th>4</th>\n",
       "      <td>4.0</td>\n",
       "      <td>2.0</td>\n",
       "      <td>3633.0</td>\n",
       "      <td>296425.0</td>\n",
       "      <td>2005.0</td>\n",
       "      <td>6941.39</td>\n",
       "      <td>6037.0</td>\n",
       "    </tr>\n",
       "  </tbody>\n",
       "</table>\n",
       "</div>"
      ],
      "text/plain": [
       "   bedroomcnt  bathroomcnt  calculatedfinishedsquarefeet  taxvaluedollarcnt  \\\n",
       "0         0.0          0.0                           NaN            27516.0   \n",
       "1         0.0          0.0                           NaN               10.0   \n",
       "2         0.0          0.0                           NaN               10.0   \n",
       "3         0.0          0.0                           NaN             2108.0   \n",
       "4         4.0          2.0                        3633.0           296425.0   \n",
       "\n",
       "   yearbuilt  taxamount    fips  \n",
       "0        NaN        NaN  6037.0  \n",
       "1        NaN        NaN  6037.0  \n",
       "2        NaN        NaN  6037.0  \n",
       "3        NaN     174.21  6037.0  \n",
       "4     2005.0    6941.39  6037.0  "
      ]
     },
     "execution_count": 4,
     "metadata": {},
     "output_type": "execute_result"
    }
   ],
   "source": [
    "df.head()"
   ]
  },
  {
   "cell_type": "code",
   "execution_count": 5,
   "id": "4cf7e615",
   "metadata": {},
   "outputs": [],
   "source": [
    "df.to_csv('zillow')"
   ]
  },
  {
   "cell_type": "code",
   "execution_count": null,
   "id": "e31972c7",
   "metadata": {},
   "outputs": [],
   "source": [
    "def get_zillow_data():\n",
    "        ''' Acquire Zillow data using properties_2017 table from Code up Data Base. Columns bedroomcnt, \n",
    "            bathroomcnt, calculatedfinishedsquarefeet, taxvaluedollarcnt, yearbuilt, taxamount, fips \n",
    "        '''\n",
    "   \n",
    "    # sql query for acquisition\n",
    "    sql_query = \"\"\"\n",
    "                SELECT bedroomcnt, bathroomcnt, calculatedfinishedsquarefeet, taxvaluedollarcnt, yearbuilt, taxamount, fips\n",
    "                FROM properties_2017\n",
    "                Where propertylandusetypeid = 261;\n",
    "                \"\"\"\n",
    "    # Acquisition\n",
    "    df = pd.read_sql(sql_query, env.get_connection('zillow'))"
   ]
  },
  {
   "cell_type": "code",
   "execution_count": 6,
   "id": "315bc73b",
   "metadata": {},
   "outputs": [],
   "source": [
    "def wrangle_single_family_residential():\n",
    "    '''Wrangle_single_family_residential checks to see if the csv or zillow data exits. If it does not\n",
    "        it will call for the data and save a csv file. It will return a dataframe that had drop all nulls.\n",
    "    '''\n",
    "    # obtain csv file\n",
    "    if os.path.isfile('zillow.csv'):\n",
    "        \n",
    "        # If csv file exists read in data from csv file.\n",
    "        df = pd.read_csv('zillow.csv', index_col=0)\n",
    "        \n",
    "    else:\n",
    "        \n",
    "        # Read fresh data from db into a DataFrame\n",
    "        df = get_zillow_data()\n",
    "        \n",
    "        # Cache data\n",
    "        df.to_csv('zillow.csv')\n",
    "    # replace blank spaces and special characters\n",
    "    df = df.replace(r'^\\s*$', np.nan, regex = True)\n",
    "    \n",
    "    df = df.dropna()\n",
    "    return df"
   ]
  },
  {
   "cell_type": "code",
   "execution_count": null,
   "id": "0743c42c",
   "metadata": {},
   "outputs": [],
   "source": []
  }
 ],
 "metadata": {
  "kernelspec": {
   "display_name": "Python 3 (ipykernel)",
   "language": "python",
   "name": "python3"
  },
  "language_info": {
   "codemirror_mode": {
    "name": "ipython",
    "version": 3
   },
   "file_extension": ".py",
   "mimetype": "text/x-python",
   "name": "python",
   "nbconvert_exporter": "python",
   "pygments_lexer": "ipython3",
   "version": "3.9.12"
  }
 },
 "nbformat": 4,
 "nbformat_minor": 5
}
