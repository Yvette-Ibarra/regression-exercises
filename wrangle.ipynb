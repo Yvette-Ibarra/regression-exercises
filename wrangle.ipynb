{
 "cells": [
  {
   "cell_type": "markdown",
   "id": "c0af017e",
   "metadata": {},
   "source": [
    "# $ Wrangle$ $Linear$ $Regression$"
   ]
  },
  {
   "cell_type": "code",
   "execution_count": null,
   "id": "fa44258e",
   "metadata": {},
   "outputs": [],
   "source": []
  },
  {
   "cell_type": "code",
   "execution_count": 1,
   "id": "1142de10",
   "metadata": {},
   "outputs": [],
   "source": [
    "import numpy as np\n",
    "import pandas as pd\n",
    "\n",
    "import seaborn as sns\n",
    "import matplotlib.pyplot as plt\n",
    "import wrangle as w"
   ]
  },
  {
   "cell_type": "markdown",
   "id": "8563f8e1",
   "metadata": {},
   "source": [
    "Acquire bedroomcnt, bathroomcnt, calculatedfinishedsquarefeet, taxvaluedollarcnt, yearbuilt, taxamount, and fips from the zillow database for all 'Single Family Residential' properties."
   ]
  },
  {
   "cell_type": "code",
   "execution_count": 2,
   "id": "cf2432ad",
   "metadata": {},
   "outputs": [],
   "source": [
    "df = w.get_zillow_data()"
   ]
  },
  {
   "cell_type": "code",
   "execution_count": null,
   "id": "32fdfc61",
   "metadata": {
    "scrolled": true
   },
   "outputs": [],
   "source": [
    "df"
   ]
  },
  {
   "cell_type": "code",
   "execution_count": null,
   "id": "3cd763e3",
   "metadata": {},
   "outputs": [],
   "source": []
  },
  {
   "cell_type": "code",
   "execution_count": null,
   "id": "c9ab47fc",
   "metadata": {},
   "outputs": [],
   "source": [
    "df = w.wrangle_single_family_residential()"
   ]
  },
  {
   "cell_type": "code",
   "execution_count": 8,
   "id": "e1ee9790",
   "metadata": {
    "scrolled": true
   },
   "outputs": [],
   "source": [
    "columns = df.columns.to_list()"
   ]
  },
  {
   "cell_type": "code",
   "execution_count": null,
   "id": "dc8f2f9d",
   "metadata": {},
   "outputs": [],
   "source": [
    "# squl query for acquisition\n",
    "sql_query =  \"\"\"\n",
    "            SELECT bedroomcnt, bathroomcnt, calculatedfinishedsquarefeet, taxvaluedollarcnt, yearbuilt, taxamount, fips\n",
    "            FROM properties_2017\n",
    "            Where propertylandusetypeid = 261;\n",
    "        \"\"\"\n",
    "    # Acquisition\n",
    "df = pd.read_sql(sql_query, env.get_connection('zillow'))"
   ]
  },
  {
   "cell_type": "code",
   "execution_count": null,
   "id": "a8e33cfa",
   "metadata": {
    "scrolled": true
   },
   "outputs": [],
   "source": [
    "df.sample(20)"
   ]
  },
  {
   "cell_type": "markdown",
   "id": "4acc032d",
   "metadata": {},
   "source": [
    "<div class=\"alert alert-info\"> There is 2152863 rows × 7 columns.\n",
    "I can see NaN in calculatedfinishedsquarefeet,yearbuilt,taxamount"
   ]
  },
  {
   "cell_type": "code",
   "execution_count": 3,
   "id": "627ad12b",
   "metadata": {},
   "outputs": [],
   "source": [
    "def plot_boxplot(df,feature):\n",
    "    df.boxplot(column=[feature])\n",
    "    plt.grid(False)\n",
    "    Q1 = df[feature].quantile(.25)\n",
    "    Q2 = df[feature].quantile(.5)\n",
    "    Q3 = df[feature].quantile(.75)\n",
    "    Q4 = df[feature].quantile(1)\n",
    "    IQR =  Q3 - Q1\n",
    "    \n",
    "    lower_bound = Q1 - 1.5 * IQR\n",
    "    upper_bound = Q3 + 1.5 * IQR\n",
    "    print ('Q1:', Q1)\n",
    "    print ('Q2:', Q2)\n",
    "    print ('Q3:', Q3)\n",
    "    print ('Q4:', Q4)\n",
    "    print ('IQR', IQR)\n",
    "    print('lower bound:',lower_bound)\n",
    "    print('upper bound:' ,upper_bound)\n",
    "    plt.show()"
   ]
  },
  {
   "cell_type": "code",
   "execution_count": 9,
   "id": "3ff0da4c",
   "metadata": {},
   "outputs": [
    {
     "data": {
      "text/plain": [
       "['bedroomcnt',\n",
       " 'bathroomcnt',\n",
       " 'calculatedfinishedsquarefeet',\n",
       " 'taxvaluedollarcnt',\n",
       " 'yearbuilt',\n",
       " 'taxamount',\n",
       " 'fips']"
      ]
     },
     "execution_count": 9,
     "metadata": {},
     "output_type": "execute_result"
    }
   ],
   "source": [
    "columns"
   ]
  },
  {
   "cell_type": "code",
   "execution_count": null,
   "id": "532440af",
   "metadata": {},
   "outputs": [],
   "source": [
    "for i in columns:\n",
    "    print(i)\n",
    "    plot_boxplot(df, i)"
   ]
  },
  {
   "cell_type": "code",
   "execution_count": null,
   "id": "d47cb25d",
   "metadata": {},
   "outputs": [],
   "source": [
    "# bathrooms,squarefeet, taxamount"
   ]
  },
  {
   "cell_type": "code",
   "execution_count": 19,
   "id": "beb52cde",
   "metadata": {
    "scrolled": true
   },
   "outputs": [],
   "source": [
    "df = w.remove_outliers(df,['calculatedfinishedsquarefeet','taxamount','taxvaluedollarcnt'])"
   ]
  },
  {
   "cell_type": "code",
   "execution_count": 20,
   "id": "4a003234",
   "metadata": {},
   "outputs": [
    {
     "name": "stdout",
     "output_type": "stream",
     "text": [
      "bedroomcnt\n",
      "Q1: 3.0\n",
      "Q2: 3.0\n",
      "Q3: 4.0\n",
      "Q4: 5.0\n",
      "IQR 1.0\n",
      "lower bound: 1.5\n",
      "upper bound: 5.5\n"
     ]
    },
    {
     "data": {
      "image/png": "[encoded data removed]",
      "text/plain": [
       "<Figure size 432x288 with 1 Axes>"
      ]
     },
     "metadata": {
      "needs_background": "light"
     },
     "output_type": "display_data"
    },
    {
     "name": "stdout",
     "output_type": "stream",
     "text": [
      "bathroomcnt\n",
      "Q1: 2.0\n",
      "Q2: 2.0\n",
      "Q3: 2.5\n",
      "Q4: 3.0\n",
      "IQR 0.5\n",
      "lower bound: 1.25\n",
      "upper bound: 3.25\n"
     ]
    },
    {
     "data": {
      "image/png": "[encoded data removed]",
      "text/plain": [
       "<Figure size 432x288 with 1 Axes>"
      ]
     },
     "metadata": {
      "needs_background": "light"
     },
     "output_type": "display_data"
    },
    {
     "name": "stdout",
     "output_type": "stream",
     "text": [
      "calculatedfinishedsquarefeet\n",
      "Q1: 1389.0\n",
      "Q2: 1672.0\n",
      "Q3: 2082.0\n",
      "Q4: 3292.0\n",
      "IQR 693.0\n",
      "lower bound: 349.5\n",
      "upper bound: 3121.5\n"
     ]
    },
    {
     "data": {
      "image/png": "[encoded data removed]",
      "text/plain": [
       "<Figure size 432x288 with 1 Axes>"
      ]
     },
     "metadata": {
      "needs_background": "light"
     },
     "output_type": "display_data"
    },
    {
     "name": "stdout",
     "output_type": "stream",
     "text": [
      "taxvaluedollarcnt\n",
      "Q1: 193333.0\n",
      "Q2: 321886.0\n",
      "Q3: 480212.0\n",
      "Q4: 982250.0\n",
      "IQR 286879.0\n",
      "lower bound: -236985.5\n",
      "upper bound: 910530.5\n"
     ]
    },
    {
     "data": {
      "image/png": "[encoded data removed]",
      "text/plain": [
       "<Figure size 432x288 with 1 Axes>"
      ]
     },
     "metadata": {
      "needs_background": "light"
     },
     "output_type": "display_data"
    },
    {
     "name": "stdout",
     "output_type": "stream",
     "text": [
      "yearbuilt\n",
      "Q1: 1954.0\n",
      "Q2: 1962.0\n",
      "Q3: 1976.0\n",
      "Q4: 2016.0\n",
      "IQR 22.0\n",
      "lower bound: 1921.0\n",
      "upper bound: 2009.0\n"
     ]
    },
    {
     "data": {
      "image/png": "[encoded data removed]",
      "text/plain": [
       "<Figure size 432x288 with 1 Axes>"
      ]
     },
     "metadata": {
      "needs_background": "light"
     },
     "output_type": "display_data"
    },
    {
     "name": "stdout",
     "output_type": "stream",
     "text": [
      "taxamount\n",
      "Q1: 2593.68\n",
      "Q2: 4013.46\n",
      "Q3: 5791.305\n",
      "Q4: 11390.03\n",
      "IQR 3197.6250000000005\n",
      "lower bound: -2202.757500000001\n",
      "upper bound: 10587.7425\n"
     ]
    },
    {
     "data": {
      "image/png": "[encoded data removed]",
      "text/plain": [
       "<Figure size 432x288 with 1 Axes>"
      ]
     },
     "metadata": {
      "needs_background": "light"
     },
     "output_type": "display_data"
    },
    {
     "name": "stdout",
     "output_type": "stream",
     "text": [
      "fips\n",
      "Q1: 6037.0\n",
      "Q2: 6037.0\n",
      "Q3: 6059.0\n",
      "Q4: 6111.0\n",
      "IQR 22.0\n",
      "lower bound: 6004.0\n",
      "upper bound: 6092.0\n"
     ]
    },
    {
     "data": {
      "image/png": "[encoded data removed]",
      "text/plain": [
       "<Figure size 432x288 with 1 Axes>"
      ]
     },
     "metadata": {
      "needs_background": "light"
     },
     "output_type": "display_data"
    }
   ],
   "source": [
    "for i in columns:\n",
    "    print(i)\n",
    "    plot_boxplot(df, i)"
   ]
  },
  {
   "cell_type": "markdown",
   "id": "1544faa5",
   "metadata": {},
   "source": [
    "### Look into bedroom count"
   ]
  },
  {
   "cell_type": "code",
   "execution_count": null,
   "id": "8bbe211e",
   "metadata": {},
   "outputs": [],
   "source": [
    "df.bedroomcnt.max()"
   ]
  },
  {
   "cell_type": "code",
   "execution_count": null,
   "id": "c2f662f4",
   "metadata": {},
   "outputs": [],
   "source": [
    "df[df.bedroomcnt > df.bedroomcnt.quantile(.75)]"
   ]
  },
  {
   "cell_type": "code",
   "execution_count": null,
   "id": "ba341dd2",
   "metadata": {
    "scrolled": true
   },
   "outputs": [],
   "source": [
    "plot_boxplot(df,'bedroomcnt')"
   ]
  },
  {
   "cell_type": "code",
   "execution_count": null,
   "id": "dc6db6b4",
   "metadata": {
    "scrolled": true
   },
   "outputs": [],
   "source": [
    "df.bedroomcnt.value_counts( sort=True, bins = 5)"
   ]
  },
  {
   "cell_type": "code",
   "execution_count": null,
   "id": "2ad84e2e",
   "metadata": {},
   "outputs": [],
   "source": [
    "(6)/(len(df))* 100,(75 +6)/(2152852)* 100"
   ]
  },
  {
   "cell_type": "markdown",
   "id": "fdbb634c",
   "metadata": {},
   "source": [
    "<div class=\"alert alert-info\"> \n",
    "6 rows are 15 bedrooms and above that is 0.0003% of total data\n",
    "    \n",
    "75 + 6 rows are 10 bedrooms and above that is 0.004% of total data\n",
    "    \n",
    "If I where to remove outliers I might set parameters for outliers to be 15+ (revmoves 6 rows) or 10+(removes 81 rows) "
   ]
  },
  {
   "cell_type": "code",
   "execution_count": null,
   "id": "ab5c3142",
   "metadata": {},
   "outputs": [],
   "source": [
    "# bedrooms with more than 10 rooms\n",
    "df[df.bedroomcnt>10]"
   ]
  },
  {
   "cell_type": "markdown",
   "id": "4f4de94a",
   "metadata": {},
   "source": [
    "### Look into bathroom count"
   ]
  },
  {
   "cell_type": "code",
   "execution_count": null,
   "id": "3a78f5c6",
   "metadata": {
    "scrolled": true
   },
   "outputs": [],
   "source": [
    "plot_boxplot(df,'bathroomcnt')"
   ]
  },
  {
   "cell_type": "code",
   "execution_count": null,
   "id": "11054a94",
   "metadata": {},
   "outputs": [],
   "source": [
    "df.bathroomcnt.value_counts().sort_values"
   ]
  },
  {
   "cell_type": "code",
   "execution_count": null,
   "id": "f898fa78",
   "metadata": {
    "scrolled": true
   },
   "outputs": [],
   "source": [
    "df.bathroomcnt.value_counts(normalize=False, bins =16)"
   ]
  },
  {
   "cell_type": "code",
   "execution_count": null,
   "id": "a095edbb",
   "metadata": {},
   "outputs": [],
   "source": [
    "51/2152852 *100"
   ]
  },
  {
   "cell_type": "markdown",
   "id": "9d731365",
   "metadata": {},
   "source": [
    "<div class=\"alert alert-info\"> ????? not sure on this one\n",
    "21 rows are 16 bathrooms and above that 0.0007% of total data\n",
    "    \n",
    "51 rows are 14 bath rooms and above that 0.002% of total data\n",
    "\n",
    "    \n",
    "If I where to remove outliers I might set parameters for outliers to be 19.5+ (removes 21 rows) or 14 (removes 76  rows) "
   ]
  },
  {
   "cell_type": "code",
   "execution_count": null,
   "id": "d252557f",
   "metadata": {},
   "outputs": [],
   "source": [
    "# bathrooms with more than 10 rooms\n",
    "df.bathroomcnt[df.bathroomcnt>16].value_counts(bins=1)"
   ]
  },
  {
   "cell_type": "code",
   "execution_count": null,
   "id": "4b776b85",
   "metadata": {},
   "outputs": [],
   "source": [
    "def outliers (df,feature):\n",
    "    Q1 = df[feature].quantile(.25)\n",
    "    Q3 = df[feature].quantile(.75)\n",
    "    IQR =  Q3 - Q1\n",
    "    \n",
    "    lower_bound = Q1 - 1.5 * IQR\n",
    "    upper_bound = Q3 + 1.5 * IQR\n",
    "    ls = df[(df[feature]<lower_bound) | (df[feature] > upper_bound)]\n",
    "    return ls"
   ]
  },
  {
   "cell_type": "code",
   "execution_count": null,
   "id": "93cbdb63",
   "metadata": {},
   "outputs": [],
   "source": [
    "df[df.yearbuilt.isnull()]"
   ]
  },
  {
   "cell_type": "markdown",
   "id": "8b38c472",
   "metadata": {},
   "source": [
    "<div class=\"alert alert-info\"> \n",
    "Many values that have a year built NaN also have a bedroomcnt = 0, bathroomcnt = 0 and squarefeet NaN,\n",
    "     9337 rows "
   ]
  },
  {
   "cell_type": "code",
   "execution_count": null,
   "id": "8e05b274",
   "metadata": {},
   "outputs": [],
   "source": [
    "df[(df.yearbuilt.isnull()) & (df.bathroomcnt.isnull())& (df.calculatedfinishedsquarefeet.isnull())]"
   ]
  },
  {
   "cell_type": "markdown",
   "id": "ba715d98",
   "metadata": {},
   "source": [
    "<div class=\"alert alert-info\"> \n",
    "There is three rows that have NaN in yearbuilt, bathrommcnt, bedroomcnt. and squarefeet"
   ]
  },
  {
   "cell_type": "code",
   "execution_count": null,
   "id": "1652311e",
   "metadata": {},
   "outputs": [],
   "source": [
    "outliers_bathroom = outliers(df, 'bathroomcnt') "
   ]
  },
  {
   "cell_type": "code",
   "execution_count": null,
   "id": "718d1640",
   "metadata": {},
   "outputs": [],
   "source": [
    "outliers_bedroom = outliers(df, 'bedroomcnt') "
   ]
  },
  {
   "cell_type": "code",
   "execution_count": null,
   "id": "f52d46f8",
   "metadata": {},
   "outputs": [],
   "source": [
    "outliers_squarefeet = outliers(df, 'calculatedfinishedsquarefeet') "
   ]
  },
  {
   "cell_type": "code",
   "execution_count": null,
   "id": "d302098c",
   "metadata": {},
   "outputs": [],
   "source": [
    "outliers_bathroom = outliers(df, 'bathroomcnt') "
   ]
  },
  {
   "cell_type": "code",
   "execution_count": null,
   "id": "3781bcd6",
   "metadata": {},
   "outputs": [],
   "source": []
  },
  {
   "cell_type": "code",
   "execution_count": null,
   "id": "68fc7539",
   "metadata": {},
   "outputs": [],
   "source": []
  },
  {
   "cell_type": "code",
   "execution_count": null,
   "id": "61be58c2",
   "metadata": {},
   "outputs": [],
   "source": [
    "plot_boxplot(df,'bathroomcnt')"
   ]
  },
  {
   "cell_type": "code",
   "execution_count": null,
   "id": "1ad41af9",
   "metadata": {},
   "outputs": [],
   "source": []
  },
  {
   "cell_type": "code",
   "execution_count": null,
   "id": "c1bd7baa",
   "metadata": {},
   "outputs": [],
   "source": []
  },
  {
   "cell_type": "code",
   "execution_count": null,
   "id": "8e69d9b7",
   "metadata": {},
   "outputs": [],
   "source": []
  },
  {
   "cell_type": "code",
   "execution_count": null,
   "id": "46dd7a49",
   "metadata": {},
   "outputs": [],
   "source": [
    "# to show all value counts in info\n",
    "df.info(show_counts=  True)"
   ]
  },
  {
   "cell_type": "markdown",
   "id": "da043f56",
   "metadata": {},
   "source": [
    "info() did not mark the null values. All columns are dataType- float64"
   ]
  },
  {
   "cell_type": "code",
   "execution_count": null,
   "id": "9b8c57a5",
   "metadata": {},
   "outputs": [],
   "source": [
    "df.isnull().any()"
   ]
  },
  {
   "cell_type": "code",
   "execution_count": null,
   "id": "61f58d1a",
   "metadata": {
    "scrolled": false
   },
   "outputs": [],
   "source": [
    "df.isna().sum()"
   ]
  },
  {
   "cell_type": "markdown",
   "id": "51260e43",
   "metadata": {},
   "source": [
    "<div class=\"alert alert-info\">\n",
    "Null values\n",
    "    \n",
    "* 11 values in bedroomcnt \n",
    "* 11 values in bathroomcnt\n",
    "* 8484 values in calculatedfinishedsquarefeet\n",
    "* 493 values in taxvaluedollarcnt\n",
    "* 9337 values in yearbuilt \n",
    "* 4442 values in taxamount\n",
    "\n",
    "No null values in fips"
   ]
  },
  {
   "cell_type": "code",
   "execution_count": null,
   "id": "73fbb730",
   "metadata": {},
   "outputs": [],
   "source": [
    "df.nunique()"
   ]
  },
  {
   "cell_type": "code",
   "execution_count": null,
   "id": "ca181d08",
   "metadata": {},
   "outputs": [],
   "source": [
    "df.size, df.shape"
   ]
  },
  {
   "cell_type": "code",
   "execution_count": null,
   "id": "9de79b73",
   "metadata": {},
   "outputs": [],
   "source": [
    "df.describe().T"
   ]
  },
  {
   "cell_type": "markdown",
   "id": "44e6c389",
   "metadata": {},
   "source": [
    "<div class=\"alert alert-info\">\n",
    "    \n",
    "Bedroom range 0 to 25\n",
    "    \n",
    "bathroom range 0 to 32\n",
    "    \n",
    "square feet range 1 to 952576.00\n",
    "    \n",
    "Year built has a range from 1801 to 2016\n",
    "    \n",
    "Tax amount has a range from 1.85 to 1337755.86\n",
    " "
   ]
  },
  {
   "cell_type": "code",
   "execution_count": null,
   "id": "9c11b585",
   "metadata": {},
   "outputs": [],
   "source": [
    "df = df.dropna()"
   ]
  },
  {
   "cell_type": "code",
   "execution_count": null,
   "id": "8f63dab5",
   "metadata": {},
   "outputs": [],
   "source": [
    "df.shape"
   ]
  },
  {
   "cell_type": "code",
   "execution_count": null,
   "id": "cb21d440",
   "metadata": {
    "scrolled": true
   },
   "outputs": [],
   "source": [
    "2140235-2152863"
   ]
  },
  {
   "cell_type": "markdown",
   "id": "54563c4e",
   "metadata": {},
   "source": [
    "<div class=\"alert alert-info\">\n",
    "If all null values are dropped we lose 12628 rows"
   ]
  },
  {
   "cell_type": "code",
   "execution_count": null,
   "id": "81cd537e",
   "metadata": {},
   "outputs": [],
   "source": [
    "def get_zillow_data():\n",
    "        ''' Acquire Zillow data using properties_2017 table from Code up Data Base. Columns bedroomcnt, \n",
    "            bathroomcnt, calculatedfinishedsquarefeet, taxvaluedollarcnt, yearbuilt, taxamount, fips \n",
    "        '''\n",
    "   \n",
    "    # sql query for acquisition\n",
    "        sql_query = \"\"\"\n",
    "        SELECT bedroomcnt, bathroomcnt, calculatedfinishedsquarefeet, taxvaluedollarcnt, yearbuilt, taxamount, fips\n",
    "        FROM properties_2017\n",
    "        Where propertylandusetypeid = 261;\n",
    "        \"\"\"\n",
    "    # Acquisition\n",
    "        df = pd.read_sql(sql_query, env.get_connection('zillow'))"
   ]
  },
  {
   "cell_type": "code",
   "execution_count": null,
   "id": "9b33c42d",
   "metadata": {},
   "outputs": [],
   "source": [
    "def wrangle_single_family_residential():\n",
    "    '''Wrangle_single_family_residential checks to see if the csv or zillow data exits. If it does not\n",
    "        it will call for the data and save a csv file. It will return a dataframe that had drop all nulls.\n",
    "    '''\n",
    "    # obtain csv file\n",
    "    if os.path.isfile('zillow.csv'):\n",
    "        \n",
    "        # If csv file exists read in data from csv file.\n",
    "        df = pd.read_csv('zillow.csv', index_col=0)\n",
    "        \n",
    "    else:\n",
    "        \n",
    "        # Read fresh data from db into a DataFrame\n",
    "        df = get_zillow_data()\n",
    "        \n",
    "        # Cache data\n",
    "        df.to_csv('zillow.csv')\n",
    "    # replace blank spaces and special characters\n",
    "    df = df.replace(r'^\\s*$', np.nan, regex = True)\n",
    "    \n",
    "    df = df.dropna()\n",
    "    return df"
   ]
  },
  {
   "cell_type": "code",
   "execution_count": null,
   "id": "86368412",
   "metadata": {},
   "outputs": [],
   "source": []
  },
  {
   "cell_type": "code",
   "execution_count": null,
   "id": "cfce278c",
   "metadata": {},
   "outputs": [],
   "source": [
    "df = w. wrangle_single_family_residential()"
   ]
  },
  {
   "cell_type": "code",
   "execution_count": null,
   "id": "8aa30200",
   "metadata": {
    "scrolled": true
   },
   "outputs": [],
   "source": [
    "df"
   ]
  },
  {
   "cell_type": "code",
   "execution_count": null,
   "id": "86f6ce93",
   "metadata": {},
   "outputs": [],
   "source": [
    "df.columns"
   ]
  },
  {
   "cell_type": "code",
   "execution_count": null,
   "id": "e1c915e7",
   "metadata": {},
   "outputs": [],
   "source": [
    "plt.figure(figsize=(25, 5))\n",
    "\n",
    "for i, col in enumerate(df):\n",
    "    \n",
    "    # i starts at 0, but plot nos should start at 1\n",
    "    plot_number = i + 1\n",
    "    \n",
    "    # Create subplot.\n",
    "    # plt.subplot(row X col, where?)\n",
    "    plt.subplot(1,7,plot_number)\n",
    "    \n",
    "    # Title with column name.\n",
    "    plt.title(col)\n",
    "    \n",
    "    # Display histogram for column.\n",
    "    df.boxplot(column=[col])\n",
    "    \n",
    "    # Hide gridlines.\n",
    "    plt.grid(False)"
   ]
  },
  {
   "cell_type": "code",
   "execution_count": null,
   "id": "7f862f97",
   "metadata": {},
   "outputs": [],
   "source": [
    "df.describe().T"
   ]
  },
  {
   "cell_type": "code",
   "execution_count": null,
   "id": "68eebae3",
   "metadata": {},
   "outputs": [],
   "source": [
    "df.shape"
   ]
  },
  {
   "cell_type": "code",
   "execution_count": null,
   "id": "ce4d5466",
   "metadata": {},
   "outputs": [],
   "source": []
  },
  {
   "cell_type": "code",
   "execution_count": null,
   "id": "d4ab65dc",
   "metadata": {},
   "outputs": [],
   "source": []
  },
  {
   "cell_type": "code",
   "execution_count": null,
   "id": "5c76ccf4",
   "metadata": {},
   "outputs": [],
   "source": []
  },
  {
   "cell_type": "code",
   "execution_count": null,
   "id": "53f4dce1",
   "metadata": {},
   "outputs": [],
   "source": []
  }
 ],
 "metadata": {
  "kernelspec": {
   "display_name": "Python 3 (ipykernel)",
   "language": "python",
   "name": "python3"
  },
  "language_info": {
   "codemirror_mode": {
    "name": "ipython",
    "version": 3
   },
   "file_extension": ".py",
   "mimetype": "text/x-python",
   "name": "python",
   "nbconvert_exporter": "python",
   "pygments_lexer": "ipython3",
   "version": "3.9.12"
  }
 },
 "nbformat": 4,
 "nbformat_minor": 5
}
