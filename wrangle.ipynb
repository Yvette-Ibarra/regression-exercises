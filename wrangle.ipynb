{
 "cells": [
  {
   "cell_type": "markdown",
   "id": "c0af017e",
   "metadata": {},
   "source": [
    "# $ Wrangle$ $Linear$ $Regression$"
   ]
  },
  {
   "cell_type": "code",
   "execution_count": null,
   "id": "fa44258e",
   "metadata": {},
   "outputs": [],
   "source": []
  },
  {
   "cell_type": "code",
   "execution_count": 1,
   "id": "1142de10",
   "metadata": {},
   "outputs": [],
   "source": [
    "import numpy as np\n",
    "import pandas as pd\n",
    "import env\n",
    "import seaborn as sns\n",
    "import matplotlib.pyplot as plt\n",
    "#import wrangle.py as w"
   ]
  },
  {
   "cell_type": "markdown",
   "id": "8563f8e1",
   "metadata": {},
   "source": [
    "Acquire bedroomcnt, bathroomcnt, calculatedfinishedsquarefeet, taxvaluedollarcnt, yearbuilt, taxamount, and fips from the zillow database for all 'Single Family Residential' properties."
   ]
  },
  {
   "cell_type": "code",
   "execution_count": 2,
   "id": "dc8f2f9d",
   "metadata": {},
   "outputs": [],
   "source": [
    "# squl query for acquisition\n",
    "sql_query =  \"\"\"\n",
    "            SELECT bedroomcnt, bathroomcnt, calculatedfinishedsquarefeet, taxvaluedollarcnt, yearbuilt, taxamount, fips\n",
    "            FROM properties_2017\n",
    "            Where propertylandusetypeid = 261;\n",
    "        \"\"\"\n",
    "    # Acquisition\n",
    "df = pd.read_sql(sql_query, env.get_connection('zillow'))"
   ]
  },
  {
   "cell_type": "code",
   "execution_count": 3,
   "id": "a8e33cfa",
   "metadata": {
    "scrolled": true
   },
   "outputs": [
    {
     "data": {
      "text/html": [
       "<div>\n",
       "<style scoped>\n",
       "    .dataframe tbody tr th:only-of-type {\n",
       "        vertical-align: middle;\n",
       "    }\n",
       "\n",
       "    .dataframe tbody tr th {\n",
       "        vertical-align: top;\n",
       "    }\n",
       "\n",
       "    .dataframe thead th {\n",
       "        text-align: right;\n",
       "    }\n",
       "</style>\n",
       "<table border=\"1\" class=\"dataframe\">\n",
       "  <thead>\n",
       "    <tr style=\"text-align: right;\">\n",
       "      <th></th>\n",
       "      <th>bedroomcnt</th>\n",
       "      <th>bathroomcnt</th>\n",
       "      <th>calculatedfinishedsquarefeet</th>\n",
       "      <th>taxvaluedollarcnt</th>\n",
       "      <th>yearbuilt</th>\n",
       "      <th>taxamount</th>\n",
       "      <th>fips</th>\n",
       "    </tr>\n",
       "  </thead>\n",
       "  <tbody>\n",
       "    <tr>\n",
       "      <th>1787127</th>\n",
       "      <td>4.0</td>\n",
       "      <td>2.0</td>\n",
       "      <td>2175.0</td>\n",
       "      <td>140428.0</td>\n",
       "      <td>2008.0</td>\n",
       "      <td>1914.82</td>\n",
       "      <td>6037.0</td>\n",
       "    </tr>\n",
       "    <tr>\n",
       "      <th>1817454</th>\n",
       "      <td>4.0</td>\n",
       "      <td>3.0</td>\n",
       "      <td>3023.0</td>\n",
       "      <td>660667.0</td>\n",
       "      <td>1969.0</td>\n",
       "      <td>7589.70</td>\n",
       "      <td>6059.0</td>\n",
       "    </tr>\n",
       "    <tr>\n",
       "      <th>67499</th>\n",
       "      <td>2.0</td>\n",
       "      <td>1.0</td>\n",
       "      <td>1249.0</td>\n",
       "      <td>322359.0</td>\n",
       "      <td>1941.0</td>\n",
       "      <td>4309.29</td>\n",
       "      <td>6037.0</td>\n",
       "    </tr>\n",
       "    <tr>\n",
       "      <th>1590451</th>\n",
       "      <td>3.0</td>\n",
       "      <td>2.0</td>\n",
       "      <td>1176.0</td>\n",
       "      <td>58742.0</td>\n",
       "      <td>1958.0</td>\n",
       "      <td>894.46</td>\n",
       "      <td>6059.0</td>\n",
       "    </tr>\n",
       "    <tr>\n",
       "      <th>653791</th>\n",
       "      <td>4.0</td>\n",
       "      <td>2.0</td>\n",
       "      <td>1625.0</td>\n",
       "      <td>245845.0</td>\n",
       "      <td>1958.0</td>\n",
       "      <td>2878.76</td>\n",
       "      <td>6059.0</td>\n",
       "    </tr>\n",
       "    <tr>\n",
       "      <th>2037888</th>\n",
       "      <td>2.0</td>\n",
       "      <td>1.0</td>\n",
       "      <td>1396.0</td>\n",
       "      <td>243762.0</td>\n",
       "      <td>1935.0</td>\n",
       "      <td>3071.01</td>\n",
       "      <td>6037.0</td>\n",
       "    </tr>\n",
       "    <tr>\n",
       "      <th>2119824</th>\n",
       "      <td>5.0</td>\n",
       "      <td>2.0</td>\n",
       "      <td>2657.0</td>\n",
       "      <td>343813.0</td>\n",
       "      <td>1974.0</td>\n",
       "      <td>3428.54</td>\n",
       "      <td>6059.0</td>\n",
       "    </tr>\n",
       "    <tr>\n",
       "      <th>94247</th>\n",
       "      <td>0.0</td>\n",
       "      <td>0.0</td>\n",
       "      <td>NaN</td>\n",
       "      <td>189669.0</td>\n",
       "      <td>NaN</td>\n",
       "      <td>2155.42</td>\n",
       "      <td>6059.0</td>\n",
       "    </tr>\n",
       "    <tr>\n",
       "      <th>1430143</th>\n",
       "      <td>3.0</td>\n",
       "      <td>2.5</td>\n",
       "      <td>1605.0</td>\n",
       "      <td>415000.0</td>\n",
       "      <td>1979.0</td>\n",
       "      <td>4859.78</td>\n",
       "      <td>6059.0</td>\n",
       "    </tr>\n",
       "    <tr>\n",
       "      <th>220932</th>\n",
       "      <td>2.0</td>\n",
       "      <td>2.0</td>\n",
       "      <td>1309.0</td>\n",
       "      <td>426535.0</td>\n",
       "      <td>1950.0</td>\n",
       "      <td>5202.56</td>\n",
       "      <td>6037.0</td>\n",
       "    </tr>\n",
       "    <tr>\n",
       "      <th>1566154</th>\n",
       "      <td>2.0</td>\n",
       "      <td>1.0</td>\n",
       "      <td>873.0</td>\n",
       "      <td>141411.0</td>\n",
       "      <td>1947.0</td>\n",
       "      <td>2596.20</td>\n",
       "      <td>6037.0</td>\n",
       "    </tr>\n",
       "    <tr>\n",
       "      <th>1493233</th>\n",
       "      <td>3.0</td>\n",
       "      <td>3.0</td>\n",
       "      <td>1318.0</td>\n",
       "      <td>194243.0</td>\n",
       "      <td>1979.0</td>\n",
       "      <td>2616.58</td>\n",
       "      <td>6037.0</td>\n",
       "    </tr>\n",
       "    <tr>\n",
       "      <th>627940</th>\n",
       "      <td>2.0</td>\n",
       "      <td>2.0</td>\n",
       "      <td>1596.0</td>\n",
       "      <td>78237.0</td>\n",
       "      <td>1954.0</td>\n",
       "      <td>1083.92</td>\n",
       "      <td>6037.0</td>\n",
       "    </tr>\n",
       "    <tr>\n",
       "      <th>768149</th>\n",
       "      <td>6.0</td>\n",
       "      <td>5.0</td>\n",
       "      <td>4359.0</td>\n",
       "      <td>280049.0</td>\n",
       "      <td>1936.0</td>\n",
       "      <td>3672.02</td>\n",
       "      <td>6037.0</td>\n",
       "    </tr>\n",
       "    <tr>\n",
       "      <th>1962763</th>\n",
       "      <td>2.0</td>\n",
       "      <td>1.0</td>\n",
       "      <td>768.0</td>\n",
       "      <td>74805.0</td>\n",
       "      <td>1912.0</td>\n",
       "      <td>1469.47</td>\n",
       "      <td>6037.0</td>\n",
       "    </tr>\n",
       "    <tr>\n",
       "      <th>192128</th>\n",
       "      <td>7.0</td>\n",
       "      <td>3.0</td>\n",
       "      <td>2877.0</td>\n",
       "      <td>705000.0</td>\n",
       "      <td>1969.0</td>\n",
       "      <td>8291.88</td>\n",
       "      <td>6059.0</td>\n",
       "    </tr>\n",
       "    <tr>\n",
       "      <th>1187214</th>\n",
       "      <td>5.0</td>\n",
       "      <td>4.0</td>\n",
       "      <td>3694.0</td>\n",
       "      <td>1052498.0</td>\n",
       "      <td>1996.0</td>\n",
       "      <td>11823.29</td>\n",
       "      <td>6037.0</td>\n",
       "    </tr>\n",
       "    <tr>\n",
       "      <th>1816873</th>\n",
       "      <td>3.0</td>\n",
       "      <td>1.5</td>\n",
       "      <td>1748.0</td>\n",
       "      <td>61955.0</td>\n",
       "      <td>1959.0</td>\n",
       "      <td>1207.50</td>\n",
       "      <td>6059.0</td>\n",
       "    </tr>\n",
       "    <tr>\n",
       "      <th>1978164</th>\n",
       "      <td>4.0</td>\n",
       "      <td>1.5</td>\n",
       "      <td>1236.0</td>\n",
       "      <td>51856.0</td>\n",
       "      <td>1959.0</td>\n",
       "      <td>838.48</td>\n",
       "      <td>6059.0</td>\n",
       "    </tr>\n",
       "    <tr>\n",
       "      <th>833306</th>\n",
       "      <td>4.0</td>\n",
       "      <td>2.0</td>\n",
       "      <td>1320.0</td>\n",
       "      <td>197843.0</td>\n",
       "      <td>1923.0</td>\n",
       "      <td>2249.10</td>\n",
       "      <td>6037.0</td>\n",
       "    </tr>\n",
       "  </tbody>\n",
       "</table>\n",
       "</div>"
      ],
      "text/plain": [
       "         bedroomcnt  bathroomcnt  calculatedfinishedsquarefeet  \\\n",
       "1787127         4.0          2.0                        2175.0   \n",
       "1817454         4.0          3.0                        3023.0   \n",
       "67499           2.0          1.0                        1249.0   \n",
       "1590451         3.0          2.0                        1176.0   \n",
       "653791          4.0          2.0                        1625.0   \n",
       "2037888         2.0          1.0                        1396.0   \n",
       "2119824         5.0          2.0                        2657.0   \n",
       "94247           0.0          0.0                           NaN   \n",
       "1430143         3.0          2.5                        1605.0   \n",
       "220932          2.0          2.0                        1309.0   \n",
       "1566154         2.0          1.0                         873.0   \n",
       "1493233         3.0          3.0                        1318.0   \n",
       "627940          2.0          2.0                        1596.0   \n",
       "768149          6.0          5.0                        4359.0   \n",
       "1962763         2.0          1.0                         768.0   \n",
       "192128          7.0          3.0                        2877.0   \n",
       "1187214         5.0          4.0                        3694.0   \n",
       "1816873         3.0          1.5                        1748.0   \n",
       "1978164         4.0          1.5                        1236.0   \n",
       "833306          4.0          2.0                        1320.0   \n",
       "\n",
       "         taxvaluedollarcnt  yearbuilt  taxamount    fips  \n",
       "1787127           140428.0     2008.0    1914.82  6037.0  \n",
       "1817454           660667.0     1969.0    7589.70  6059.0  \n",
       "67499             322359.0     1941.0    4309.29  6037.0  \n",
       "1590451            58742.0     1958.0     894.46  6059.0  \n",
       "653791            245845.0     1958.0    2878.76  6059.0  \n",
       "2037888           243762.0     1935.0    3071.01  6037.0  \n",
       "2119824           343813.0     1974.0    3428.54  6059.0  \n",
       "94247             189669.0        NaN    2155.42  6059.0  \n",
       "1430143           415000.0     1979.0    4859.78  6059.0  \n",
       "220932            426535.0     1950.0    5202.56  6037.0  \n",
       "1566154           141411.0     1947.0    2596.20  6037.0  \n",
       "1493233           194243.0     1979.0    2616.58  6037.0  \n",
       "627940             78237.0     1954.0    1083.92  6037.0  \n",
       "768149            280049.0     1936.0    3672.02  6037.0  \n",
       "1962763            74805.0     1912.0    1469.47  6037.0  \n",
       "192128            705000.0     1969.0    8291.88  6059.0  \n",
       "1187214          1052498.0     1996.0   11823.29  6037.0  \n",
       "1816873            61955.0     1959.0    1207.50  6059.0  \n",
       "1978164            51856.0     1959.0     838.48  6059.0  \n",
       "833306            197843.0     1923.0    2249.10  6037.0  "
      ]
     },
     "execution_count": 3,
     "metadata": {},
     "output_type": "execute_result"
    }
   ],
   "source": [
    "df.sample(20)"
   ]
  },
  {
   "cell_type": "markdown",
   "id": "4acc032d",
   "metadata": {},
   "source": [
    "<div class=\"alert alert-info\"> There is 2152863 rows × 7 columns.\n",
    "I can see NaN in calculatedfinishedsquarefeet,yearbuilt,taxamount"
   ]
  },
  {
   "cell_type": "code",
   "execution_count": 4,
   "id": "627ad12b",
   "metadata": {},
   "outputs": [],
   "source": [
    "def plot_boxplot(df,feature):\n",
    "    df.boxplot(column=[feature])\n",
    "    plt.grid(False)\n",
    "    Q1 = df[feature].quantile(.25)\n",
    "    Q2 = df[feature].quantile(.5)\n",
    "    Q3 = df[feature].quantile(.75)\n",
    "    Q4 = df[feature].quantile(1)\n",
    "    IQR =  Q3 - Q1\n",
    "    \n",
    "    lower_bound = Q1 - 1.5 * IQR\n",
    "    upper_bound = Q3 + 1.5 * IQR\n",
    "    print ('Q1:', Q1)\n",
    "    print ('Q2:', Q2)\n",
    "    print ('Q3:', Q3)\n",
    "    print ('Q4:', Q4)\n",
    "    print ('IQR', IQR)\n",
    "    print('lower bound:',lower_bound)\n",
    "    print('upper bound:' ,upper_bound)\n",
    "    plt.show()"
   ]
  },
  {
   "cell_type": "markdown",
   "id": "1544faa5",
   "metadata": {},
   "source": [
    "### Look into bedroom count"
   ]
  },
  {
   "cell_type": "code",
   "execution_count": 5,
   "id": "8bbe211e",
   "metadata": {},
   "outputs": [
    {
     "data": {
      "text/plain": [
       "25.0"
      ]
     },
     "execution_count": 5,
     "metadata": {},
     "output_type": "execute_result"
    }
   ],
   "source": [
    "df.bedroomcnt.max()"
   ]
  },
  {
   "cell_type": "code",
   "execution_count": 6,
   "id": "c2f662f4",
   "metadata": {},
   "outputs": [
    {
     "data": {
      "text/html": [
       "<div>\n",
       "<style scoped>\n",
       "    .dataframe tbody tr th:only-of-type {\n",
       "        vertical-align: middle;\n",
       "    }\n",
       "\n",
       "    .dataframe tbody tr th {\n",
       "        vertical-align: top;\n",
       "    }\n",
       "\n",
       "    .dataframe thead th {\n",
       "        text-align: right;\n",
       "    }\n",
       "</style>\n",
       "<table border=\"1\" class=\"dataframe\">\n",
       "  <thead>\n",
       "    <tr style=\"text-align: right;\">\n",
       "      <th></th>\n",
       "      <th>bedroomcnt</th>\n",
       "      <th>bathroomcnt</th>\n",
       "      <th>calculatedfinishedsquarefeet</th>\n",
       "      <th>taxvaluedollarcnt</th>\n",
       "      <th>yearbuilt</th>\n",
       "      <th>taxamount</th>\n",
       "      <th>fips</th>\n",
       "    </tr>\n",
       "  </thead>\n",
       "  <tbody>\n",
       "    <tr>\n",
       "      <th>30</th>\n",
       "      <td>5.0</td>\n",
       "      <td>5.5</td>\n",
       "      <td>4092.0</td>\n",
       "      <td>1697000.0</td>\n",
       "      <td>2013.0</td>\n",
       "      <td>27653.50</td>\n",
       "      <td>6059.0</td>\n",
       "    </tr>\n",
       "    <tr>\n",
       "      <th>32</th>\n",
       "      <td>5.0</td>\n",
       "      <td>4.5</td>\n",
       "      <td>3066.0</td>\n",
       "      <td>1151781.0</td>\n",
       "      <td>2015.0</td>\n",
       "      <td>12031.72</td>\n",
       "      <td>6059.0</td>\n",
       "    </tr>\n",
       "    <tr>\n",
       "      <th>50</th>\n",
       "      <td>5.0</td>\n",
       "      <td>4.5</td>\n",
       "      <td>3207.0</td>\n",
       "      <td>900000.0</td>\n",
       "      <td>2015.0</td>\n",
       "      <td>10059.28</td>\n",
       "      <td>6059.0</td>\n",
       "    </tr>\n",
       "    <tr>\n",
       "      <th>63</th>\n",
       "      <td>5.0</td>\n",
       "      <td>3.5</td>\n",
       "      <td>3541.0</td>\n",
       "      <td>933239.0</td>\n",
       "      <td>1960.0</td>\n",
       "      <td>11090.04</td>\n",
       "      <td>6111.0</td>\n",
       "    </tr>\n",
       "    <tr>\n",
       "      <th>90</th>\n",
       "      <td>6.0</td>\n",
       "      <td>3.0</td>\n",
       "      <td>2141.0</td>\n",
       "      <td>70421.0</td>\n",
       "      <td>1962.0</td>\n",
       "      <td>791.90</td>\n",
       "      <td>6111.0</td>\n",
       "    </tr>\n",
       "    <tr>\n",
       "      <th>...</th>\n",
       "      <td>...</td>\n",
       "      <td>...</td>\n",
       "      <td>...</td>\n",
       "      <td>...</td>\n",
       "      <td>...</td>\n",
       "      <td>...</td>\n",
       "      <td>...</td>\n",
       "    </tr>\n",
       "    <tr>\n",
       "      <th>2152818</th>\n",
       "      <td>5.0</td>\n",
       "      <td>5.0</td>\n",
       "      <td>3959.0</td>\n",
       "      <td>880424.0</td>\n",
       "      <td>2014.0</td>\n",
       "      <td>16789.56</td>\n",
       "      <td>6037.0</td>\n",
       "    </tr>\n",
       "    <tr>\n",
       "      <th>2152830</th>\n",
       "      <td>5.0</td>\n",
       "      <td>5.0</td>\n",
       "      <td>3605.0</td>\n",
       "      <td>588182.0</td>\n",
       "      <td>2013.0</td>\n",
       "      <td>15464.53</td>\n",
       "      <td>6037.0</td>\n",
       "    </tr>\n",
       "    <tr>\n",
       "      <th>2152832</th>\n",
       "      <td>5.0</td>\n",
       "      <td>4.5</td>\n",
       "      <td>4065.0</td>\n",
       "      <td>1342974.0</td>\n",
       "      <td>2014.0</td>\n",
       "      <td>16399.70</td>\n",
       "      <td>6059.0</td>\n",
       "    </tr>\n",
       "    <tr>\n",
       "      <th>2152836</th>\n",
       "      <td>5.0</td>\n",
       "      <td>4.0</td>\n",
       "      <td>2992.0</td>\n",
       "      <td>723838.0</td>\n",
       "      <td>2013.0</td>\n",
       "      <td>8691.16</td>\n",
       "      <td>6059.0</td>\n",
       "    </tr>\n",
       "    <tr>\n",
       "      <th>2152841</th>\n",
       "      <td>5.0</td>\n",
       "      <td>6.0</td>\n",
       "      <td>3961.0</td>\n",
       "      <td>1858784.0</td>\n",
       "      <td>2013.0</td>\n",
       "      <td>22269.77</td>\n",
       "      <td>6037.0</td>\n",
       "    </tr>\n",
       "  </tbody>\n",
       "</table>\n",
       "<p>182439 rows × 7 columns</p>\n",
       "</div>"
      ],
      "text/plain": [
       "         bedroomcnt  bathroomcnt  calculatedfinishedsquarefeet  \\\n",
       "30              5.0          5.5                        4092.0   \n",
       "32              5.0          4.5                        3066.0   \n",
       "50              5.0          4.5                        3207.0   \n",
       "63              5.0          3.5                        3541.0   \n",
       "90              6.0          3.0                        2141.0   \n",
       "...             ...          ...                           ...   \n",
       "2152818         5.0          5.0                        3959.0   \n",
       "2152830         5.0          5.0                        3605.0   \n",
       "2152832         5.0          4.5                        4065.0   \n",
       "2152836         5.0          4.0                        2992.0   \n",
       "2152841         5.0          6.0                        3961.0   \n",
       "\n",
       "         taxvaluedollarcnt  yearbuilt  taxamount    fips  \n",
       "30               1697000.0     2013.0   27653.50  6059.0  \n",
       "32               1151781.0     2015.0   12031.72  6059.0  \n",
       "50                900000.0     2015.0   10059.28  6059.0  \n",
       "63                933239.0     1960.0   11090.04  6111.0  \n",
       "90                 70421.0     1962.0     791.90  6111.0  \n",
       "...                    ...        ...        ...     ...  \n",
       "2152818           880424.0     2014.0   16789.56  6037.0  \n",
       "2152830           588182.0     2013.0   15464.53  6037.0  \n",
       "2152832          1342974.0     2014.0   16399.70  6059.0  \n",
       "2152836           723838.0     2013.0    8691.16  6059.0  \n",
       "2152841          1858784.0     2013.0   22269.77  6037.0  \n",
       "\n",
       "[182439 rows x 7 columns]"
      ]
     },
     "execution_count": 6,
     "metadata": {},
     "output_type": "execute_result"
    }
   ],
   "source": [
    "df[df.bedroomcnt > df.bedroomcnt.quantile(.75)]"
   ]
  },
  {
   "cell_type": "code",
   "execution_count": 95,
   "id": "ba341dd2",
   "metadata": {
    "scrolled": true
   },
   "outputs": [
    {
     "name": "stdout",
     "output_type": "stream",
     "text": [
      "Q1: 3.0\n",
      "Q2: 3.0\n",
      "Q3: 4.0\n",
      "Q4: 25.0\n",
      "IQR 1.0\n",
      "lower bound: 1.5\n",
      "upper bound: 5.5\n"
     ]
    },
    {
     "data": {
      "image/png": "[encoded data removed]",
      "text/plain": [
       "<Figure size 432x288 with 1 Axes>"
      ]
     },
     "metadata": {
      "needs_background": "light"
     },
     "output_type": "display_data"
    }
   ],
   "source": [
    "plot_boxplot(df,'bedroomcnt')"
   ]
  },
  {
   "cell_type": "code",
   "execution_count": 49,
   "id": "dc6db6b4",
   "metadata": {
    "scrolled": true
   },
   "outputs": [
    {
     "data": {
      "text/plain": [
       "(-0.026000000000000002, 5.0]    2121279\n",
       "(5.0, 10.0]                       31492\n",
       "(10.0, 15.0]                         75\n",
       "(15.0, 20.0]                          5\n",
       "(20.0, 25.0]                          1\n",
       "Name: bedroomcnt, dtype: int64"
      ]
     },
     "execution_count": 49,
     "metadata": {},
     "output_type": "execute_result"
    }
   ],
   "source": [
    "df.bedroomcnt.value_counts( sort=True, bins = 5)"
   ]
  },
  {
   "cell_type": "code",
   "execution_count": 48,
   "id": "2ad84e2e",
   "metadata": {},
   "outputs": [
    {
     "data": {
      "text/plain": [
       "(0.0002786986445491422, 0.0037624509255629276)"
      ]
     },
     "execution_count": 48,
     "metadata": {},
     "output_type": "execute_result"
    }
   ],
   "source": [
    "(6)/(len(df))* 100,(75 +6)/(2152852)* 100"
   ]
  },
  {
   "cell_type": "markdown",
   "id": "fdbb634c",
   "metadata": {},
   "source": [
    "<div class=\"alert alert-info\"> \n",
    "6 rows are 15 bedrooms and above that is 0.0003% of total data\n",
    "    \n",
    "75 + 6 rows are 10 bedrooms and above that is 0.004% of total data\n",
    "    \n",
    "If I where to remove outliers I might set parameters for outliers to be 15+ (revmoves 6 rows) or 10+(removes 81 rows) "
   ]
  },
  {
   "cell_type": "code",
   "execution_count": 34,
   "id": "ab5c3142",
   "metadata": {},
   "outputs": [
    {
     "data": {
      "text/html": [
       "<div>\n",
       "<style scoped>\n",
       "    .dataframe tbody tr th:only-of-type {\n",
       "        vertical-align: middle;\n",
       "    }\n",
       "\n",
       "    .dataframe tbody tr th {\n",
       "        vertical-align: top;\n",
       "    }\n",
       "\n",
       "    .dataframe thead th {\n",
       "        text-align: right;\n",
       "    }\n",
       "</style>\n",
       "<table border=\"1\" class=\"dataframe\">\n",
       "  <thead>\n",
       "    <tr style=\"text-align: right;\">\n",
       "      <th></th>\n",
       "      <th>bedroomcnt</th>\n",
       "      <th>bathroomcnt</th>\n",
       "      <th>calculatedfinishedsquarefeet</th>\n",
       "      <th>taxvaluedollarcnt</th>\n",
       "      <th>yearbuilt</th>\n",
       "      <th>taxamount</th>\n",
       "      <th>fips</th>\n",
       "    </tr>\n",
       "  </thead>\n",
       "  <tbody>\n",
       "    <tr>\n",
       "      <th>26485</th>\n",
       "      <td>25.0</td>\n",
       "      <td>20.0</td>\n",
       "      <td>11700.0</td>\n",
       "      <td>1608491.0</td>\n",
       "      <td>2010.0</td>\n",
       "      <td>19238.87</td>\n",
       "      <td>6037.0</td>\n",
       "    </tr>\n",
       "    <tr>\n",
       "      <th>55449</th>\n",
       "      <td>11.0</td>\n",
       "      <td>6.0</td>\n",
       "      <td>4764.0</td>\n",
       "      <td>388324.0</td>\n",
       "      <td>1982.0</td>\n",
       "      <td>5031.98</td>\n",
       "      <td>6037.0</td>\n",
       "    </tr>\n",
       "    <tr>\n",
       "      <th>64488</th>\n",
       "      <td>14.0</td>\n",
       "      <td>7.0</td>\n",
       "      <td>4618.0</td>\n",
       "      <td>877333.0</td>\n",
       "      <td>1942.0</td>\n",
       "      <td>10496.86</td>\n",
       "      <td>6037.0</td>\n",
       "    </tr>\n",
       "    <tr>\n",
       "      <th>129015</th>\n",
       "      <td>15.0</td>\n",
       "      <td>9.0</td>\n",
       "      <td>11704.0</td>\n",
       "      <td>919654.0</td>\n",
       "      <td>1903.0</td>\n",
       "      <td>12143.97</td>\n",
       "      <td>6037.0</td>\n",
       "    </tr>\n",
       "    <tr>\n",
       "      <th>133100</th>\n",
       "      <td>13.0</td>\n",
       "      <td>8.0</td>\n",
       "      <td>11573.0</td>\n",
       "      <td>573666.0</td>\n",
       "      <td>1912.0</td>\n",
       "      <td>7537.95</td>\n",
       "      <td>6037.0</td>\n",
       "    </tr>\n",
       "    <tr>\n",
       "      <th>...</th>\n",
       "      <td>...</td>\n",
       "      <td>...</td>\n",
       "      <td>...</td>\n",
       "      <td>...</td>\n",
       "      <td>...</td>\n",
       "      <td>...</td>\n",
       "      <td>...</td>\n",
       "    </tr>\n",
       "    <tr>\n",
       "      <th>1952019</th>\n",
       "      <td>11.0</td>\n",
       "      <td>5.0</td>\n",
       "      <td>3197.0</td>\n",
       "      <td>517883.0</td>\n",
       "      <td>1908.0</td>\n",
       "      <td>6449.63</td>\n",
       "      <td>6037.0</td>\n",
       "    </tr>\n",
       "    <tr>\n",
       "      <th>2020439</th>\n",
       "      <td>11.0</td>\n",
       "      <td>6.0</td>\n",
       "      <td>6253.0</td>\n",
       "      <td>517790.0</td>\n",
       "      <td>1932.0</td>\n",
       "      <td>6426.23</td>\n",
       "      <td>6037.0</td>\n",
       "    </tr>\n",
       "    <tr>\n",
       "      <th>2051558</th>\n",
       "      <td>14.0</td>\n",
       "      <td>20.0</td>\n",
       "      <td>16198.0</td>\n",
       "      <td>9359259.0</td>\n",
       "      <td>1952.0</td>\n",
       "      <td>14900.91</td>\n",
       "      <td>6037.0</td>\n",
       "    </tr>\n",
       "    <tr>\n",
       "      <th>2057669</th>\n",
       "      <td>13.0</td>\n",
       "      <td>8.0</td>\n",
       "      <td>7894.0</td>\n",
       "      <td>NaN</td>\n",
       "      <td>1953.0</td>\n",
       "      <td>NaN</td>\n",
       "      <td>6037.0</td>\n",
       "    </tr>\n",
       "    <tr>\n",
       "      <th>2077411</th>\n",
       "      <td>13.0</td>\n",
       "      <td>9.0</td>\n",
       "      <td>7030.0</td>\n",
       "      <td>1522875.0</td>\n",
       "      <td>1900.0</td>\n",
       "      <td>21398.33</td>\n",
       "      <td>6037.0</td>\n",
       "    </tr>\n",
       "  </tbody>\n",
       "</table>\n",
       "<p>81 rows × 7 columns</p>\n",
       "</div>"
      ],
      "text/plain": [
       "         bedroomcnt  bathroomcnt  calculatedfinishedsquarefeet  \\\n",
       "26485          25.0         20.0                       11700.0   \n",
       "55449          11.0          6.0                        4764.0   \n",
       "64488          14.0          7.0                        4618.0   \n",
       "129015         15.0          9.0                       11704.0   \n",
       "133100         13.0          8.0                       11573.0   \n",
       "...             ...          ...                           ...   \n",
       "1952019        11.0          5.0                        3197.0   \n",
       "2020439        11.0          6.0                        6253.0   \n",
       "2051558        14.0         20.0                       16198.0   \n",
       "2057669        13.0          8.0                        7894.0   \n",
       "2077411        13.0          9.0                        7030.0   \n",
       "\n",
       "         taxvaluedollarcnt  yearbuilt  taxamount    fips  \n",
       "26485            1608491.0     2010.0   19238.87  6037.0  \n",
       "55449             388324.0     1982.0    5031.98  6037.0  \n",
       "64488             877333.0     1942.0   10496.86  6037.0  \n",
       "129015            919654.0     1903.0   12143.97  6037.0  \n",
       "133100            573666.0     1912.0    7537.95  6037.0  \n",
       "...                    ...        ...        ...     ...  \n",
       "1952019           517883.0     1908.0    6449.63  6037.0  \n",
       "2020439           517790.0     1932.0    6426.23  6037.0  \n",
       "2051558          9359259.0     1952.0   14900.91  6037.0  \n",
       "2057669                NaN     1953.0        NaN  6037.0  \n",
       "2077411          1522875.0     1900.0   21398.33  6037.0  \n",
       "\n",
       "[81 rows x 7 columns]"
      ]
     },
     "execution_count": 34,
     "metadata": {},
     "output_type": "execute_result"
    }
   ],
   "source": [
    "# bedrooms with more than 10 rooms\n",
    "df[df.bedroomcnt>10]"
   ]
  },
  {
   "cell_type": "markdown",
   "id": "4f4de94a",
   "metadata": {},
   "source": [
    "### Look into bathroom count"
   ]
  },
  {
   "cell_type": "code",
   "execution_count": 18,
   "id": "3a78f5c6",
   "metadata": {
    "scrolled": true
   },
   "outputs": [
    {
     "name": "stdout",
     "output_type": "stream",
     "text": [
      "Q1: 2.0\n",
      "Q2: 2.0\n",
      "Q3: 3.0\n",
      "Q4: 32.0\n",
      "IQR 1.0\n",
      "lower bound: 0.5\n",
      "upper bound: 4.5\n"
     ]
    },
    {
     "data": {
      "image/png": "[encoded data removed]",
      "text/plain": [
       "<Figure size 432x288 with 1 Axes>"
      ]
     },
     "metadata": {
      "needs_background": "light"
     },
     "output_type": "display_data"
    }
   ],
   "source": [
    "plot_boxplot(df,'bathroomcnt')"
   ]
  },
  {
   "cell_type": "code",
   "execution_count": 40,
   "id": "11054a94",
   "metadata": {},
   "outputs": [
    {
     "data": {
      "text/plain": [
       "<bound method Series.sort_values of 2.00     943589\n",
       "3.00     422841\n",
       "1.00     414324\n",
       "2.50     142981\n",
       "4.00      82155\n",
       "1.50      31211\n",
       "3.50      28518\n",
       "5.00      28362\n",
       "4.50      19506\n",
       "0.00      13027\n",
       "6.00      10747\n",
       "5.50       6217\n",
       "7.00       4394\n",
       "8.00       1692\n",
       "6.50       1333\n",
       "9.00        713\n",
       "7.50        384\n",
       "10.00       325\n",
       "11.00       146\n",
       "8.50        110\n",
       "12.00        73\n",
       "9.50         50\n",
       "13.00        39\n",
       "14.00        25\n",
       "15.00        17\n",
       "0.50         16\n",
       "10.50        14\n",
       "16.00        12\n",
       "18.00         8\n",
       "20.00         6\n",
       "17.00         4\n",
       "1.75          3\n",
       "12.50         3\n",
       "11.50         3\n",
       "19.50         1\n",
       "14.50         1\n",
       "32.00         1\n",
       "19.00         1\n",
       "Name: bathroomcnt, dtype: int64>"
      ]
     },
     "execution_count": 40,
     "metadata": {},
     "output_type": "execute_result"
    }
   ],
   "source": [
    "df.bathroomcnt.value_counts().sort_values"
   ]
  },
  {
   "cell_type": "code",
   "execution_count": 72,
   "id": "f898fa78",
   "metadata": {
    "scrolled": true
   },
   "outputs": [
    {
     "data": {
      "text/plain": [
       "(-0.033, 2.0]    1402170\n",
       "(2.0, 4.0]        676495\n",
       "(4.0, 6.0]         64832\n",
       "(6.0, 8.0]          7803\n",
       "(8.0, 10.0]         1198\n",
       "(10.0, 12.0]         236\n",
       "(12.0, 14.0]          67\n",
       "(14.0, 16.0]          30\n",
       "(16.0, 18.0]          12\n",
       "(18.0, 20.0]           8\n",
       "(30.0, 32.0]           1\n",
       "(20.0, 22.0]           0\n",
       "(22.0, 24.0]           0\n",
       "(24.0, 26.0]           0\n",
       "(26.0, 28.0]           0\n",
       "(28.0, 30.0]           0\n",
       "Name: bathroomcnt, dtype: int64"
      ]
     },
     "execution_count": 72,
     "metadata": {},
     "output_type": "execute_result"
    }
   ],
   "source": [
    "df.bathroomcnt.value_counts(normalize=False, bins =16)"
   ]
  },
  {
   "cell_type": "code",
   "execution_count": 74,
   "id": "a095edbb",
   "metadata": {},
   "outputs": [
    {
     "data": {
      "text/plain": [
       "0.0023689505827618434"
      ]
     },
     "execution_count": 74,
     "metadata": {},
     "output_type": "execute_result"
    }
   ],
   "source": [
    "51/2152852 *100"
   ]
  },
  {
   "cell_type": "markdown",
   "id": "9d731365",
   "metadata": {},
   "source": [
    "<div class=\"alert alert-info\"> ????? not sure on this one\n",
    "21 rows are 16 bathrooms and above that 0.0007% of total data\n",
    "    \n",
    "51 rows are 14 bath rooms and above that 0.002% of total data\n",
    "\n",
    "    \n",
    "If I where to remove outliers I might set parameters for outliers to be 19.5+ (removes 21 rows) or 14 (removes 76  rows) "
   ]
  },
  {
   "cell_type": "code",
   "execution_count": 85,
   "id": "d252557f",
   "metadata": {},
   "outputs": [
    {
     "data": {
      "text/plain": [
       "(16.983999999999998, 32.0]    21\n",
       "Name: bathroomcnt, dtype: int64"
      ]
     },
     "execution_count": 85,
     "metadata": {},
     "output_type": "execute_result"
    }
   ],
   "source": [
    "# bathrooms with more than 10 rooms\n",
    "df.bathroomcnt[df.bathroomcnt>16].value_counts(bins=1)"
   ]
  },
  {
   "cell_type": "code",
   "execution_count": 50,
   "id": "4b776b85",
   "metadata": {},
   "outputs": [],
   "source": [
    "def outliers (df,feature):\n",
    "    Q1 = df[feature].quantile(.25)\n",
    "    Q3 = df[feature].quantile(.75)\n",
    "    IQR =  Q3 - Q1\n",
    "    \n",
    "    lower_bound = Q1 - 1.5 * IQR\n",
    "    upper_bound = Q3 + 1.5 * IQR\n",
    "    ls = df[(df[feature]<lower_bound) | (df[feature] > upper_bound)]\n",
    "    return ls"
   ]
  },
  {
   "cell_type": "code",
   "execution_count": 59,
   "id": "93cbdb63",
   "metadata": {},
   "outputs": [
    {
     "data": {
      "text/html": [
       "<div>\n",
       "<style scoped>\n",
       "    .dataframe tbody tr th:only-of-type {\n",
       "        vertical-align: middle;\n",
       "    }\n",
       "\n",
       "    .dataframe tbody tr th {\n",
       "        vertical-align: top;\n",
       "    }\n",
       "\n",
       "    .dataframe thead th {\n",
       "        text-align: right;\n",
       "    }\n",
       "</style>\n",
       "<table border=\"1\" class=\"dataframe\">\n",
       "  <thead>\n",
       "    <tr style=\"text-align: right;\">\n",
       "      <th></th>\n",
       "      <th>bedroomcnt</th>\n",
       "      <th>bathroomcnt</th>\n",
       "      <th>calculatedfinishedsquarefeet</th>\n",
       "      <th>taxvaluedollarcnt</th>\n",
       "      <th>yearbuilt</th>\n",
       "      <th>taxamount</th>\n",
       "      <th>fips</th>\n",
       "    </tr>\n",
       "  </thead>\n",
       "  <tbody>\n",
       "    <tr>\n",
       "      <th>0</th>\n",
       "      <td>0.0</td>\n",
       "      <td>0.0</td>\n",
       "      <td>NaN</td>\n",
       "      <td>27516.0</td>\n",
       "      <td>NaN</td>\n",
       "      <td>NaN</td>\n",
       "      <td>6037.0</td>\n",
       "    </tr>\n",
       "    <tr>\n",
       "      <th>1</th>\n",
       "      <td>0.0</td>\n",
       "      <td>0.0</td>\n",
       "      <td>NaN</td>\n",
       "      <td>10.0</td>\n",
       "      <td>NaN</td>\n",
       "      <td>NaN</td>\n",
       "      <td>6037.0</td>\n",
       "    </tr>\n",
       "    <tr>\n",
       "      <th>2</th>\n",
       "      <td>0.0</td>\n",
       "      <td>0.0</td>\n",
       "      <td>NaN</td>\n",
       "      <td>10.0</td>\n",
       "      <td>NaN</td>\n",
       "      <td>NaN</td>\n",
       "      <td>6037.0</td>\n",
       "    </tr>\n",
       "    <tr>\n",
       "      <th>3</th>\n",
       "      <td>0.0</td>\n",
       "      <td>0.0</td>\n",
       "      <td>NaN</td>\n",
       "      <td>2108.0</td>\n",
       "      <td>NaN</td>\n",
       "      <td>174.21</td>\n",
       "      <td>6037.0</td>\n",
       "    </tr>\n",
       "    <tr>\n",
       "      <th>5</th>\n",
       "      <td>0.0</td>\n",
       "      <td>0.0</td>\n",
       "      <td>NaN</td>\n",
       "      <td>124.0</td>\n",
       "      <td>NaN</td>\n",
       "      <td>NaN</td>\n",
       "      <td>6037.0</td>\n",
       "    </tr>\n",
       "    <tr>\n",
       "      <th>...</th>\n",
       "      <td>...</td>\n",
       "      <td>...</td>\n",
       "      <td>...</td>\n",
       "      <td>...</td>\n",
       "      <td>...</td>\n",
       "      <td>...</td>\n",
       "      <td>...</td>\n",
       "    </tr>\n",
       "    <tr>\n",
       "      <th>2152823</th>\n",
       "      <td>0.0</td>\n",
       "      <td>0.0</td>\n",
       "      <td>NaN</td>\n",
       "      <td>2568893.0</td>\n",
       "      <td>NaN</td>\n",
       "      <td>27309.30</td>\n",
       "      <td>6059.0</td>\n",
       "    </tr>\n",
       "    <tr>\n",
       "      <th>2152844</th>\n",
       "      <td>0.0</td>\n",
       "      <td>0.0</td>\n",
       "      <td>NaN</td>\n",
       "      <td>92679.0</td>\n",
       "      <td>NaN</td>\n",
       "      <td>1090.16</td>\n",
       "      <td>6111.0</td>\n",
       "    </tr>\n",
       "    <tr>\n",
       "      <th>2152854</th>\n",
       "      <td>0.0</td>\n",
       "      <td>0.0</td>\n",
       "      <td>NaN</td>\n",
       "      <td>1198476.0</td>\n",
       "      <td>NaN</td>\n",
       "      <td>NaN</td>\n",
       "      <td>6037.0</td>\n",
       "    </tr>\n",
       "    <tr>\n",
       "      <th>2152857</th>\n",
       "      <td>0.0</td>\n",
       "      <td>0.0</td>\n",
       "      <td>NaN</td>\n",
       "      <td>1087111.0</td>\n",
       "      <td>NaN</td>\n",
       "      <td>19313.08</td>\n",
       "      <td>6059.0</td>\n",
       "    </tr>\n",
       "    <tr>\n",
       "      <th>2152860</th>\n",
       "      <td>0.0</td>\n",
       "      <td>0.0</td>\n",
       "      <td>NaN</td>\n",
       "      <td>208057.0</td>\n",
       "      <td>NaN</td>\n",
       "      <td>5783.88</td>\n",
       "      <td>6059.0</td>\n",
       "    </tr>\n",
       "  </tbody>\n",
       "</table>\n",
       "<p>9337 rows × 7 columns</p>\n",
       "</div>"
      ],
      "text/plain": [
       "         bedroomcnt  bathroomcnt  calculatedfinishedsquarefeet  \\\n",
       "0               0.0          0.0                           NaN   \n",
       "1               0.0          0.0                           NaN   \n",
       "2               0.0          0.0                           NaN   \n",
       "3               0.0          0.0                           NaN   \n",
       "5               0.0          0.0                           NaN   \n",
       "...             ...          ...                           ...   \n",
       "2152823         0.0          0.0                           NaN   \n",
       "2152844         0.0          0.0                           NaN   \n",
       "2152854         0.0          0.0                           NaN   \n",
       "2152857         0.0          0.0                           NaN   \n",
       "2152860         0.0          0.0                           NaN   \n",
       "\n",
       "         taxvaluedollarcnt  yearbuilt  taxamount    fips  \n",
       "0                  27516.0        NaN        NaN  6037.0  \n",
       "1                     10.0        NaN        NaN  6037.0  \n",
       "2                     10.0        NaN        NaN  6037.0  \n",
       "3                   2108.0        NaN     174.21  6037.0  \n",
       "5                    124.0        NaN        NaN  6037.0  \n",
       "...                    ...        ...        ...     ...  \n",
       "2152823          2568893.0        NaN   27309.30  6059.0  \n",
       "2152844            92679.0        NaN    1090.16  6111.0  \n",
       "2152854          1198476.0        NaN        NaN  6037.0  \n",
       "2152857          1087111.0        NaN   19313.08  6059.0  \n",
       "2152860           208057.0        NaN    5783.88  6059.0  \n",
       "\n",
       "[9337 rows x 7 columns]"
      ]
     },
     "execution_count": 59,
     "metadata": {},
     "output_type": "execute_result"
    }
   ],
   "source": [
    "df[df.yearbuilt.isnull()]"
   ]
  },
  {
   "cell_type": "markdown",
   "id": "8b38c472",
   "metadata": {},
   "source": [
    "<div class=\"alert alert-info\"> \n",
    "Many values that have a year built NaN also have a bedroomcnt = 0, bathroomcnt = 0 and squarefeet NaN,\n",
    "     9337 rows "
   ]
  },
  {
   "cell_type": "code",
   "execution_count": 64,
   "id": "8e05b274",
   "metadata": {},
   "outputs": [
    {
     "data": {
      "text/html": [
       "<div>\n",
       "<style scoped>\n",
       "    .dataframe tbody tr th:only-of-type {\n",
       "        vertical-align: middle;\n",
       "    }\n",
       "\n",
       "    .dataframe tbody tr th {\n",
       "        vertical-align: top;\n",
       "    }\n",
       "\n",
       "    .dataframe thead th {\n",
       "        text-align: right;\n",
       "    }\n",
       "</style>\n",
       "<table border=\"1\" class=\"dataframe\">\n",
       "  <thead>\n",
       "    <tr style=\"text-align: right;\">\n",
       "      <th></th>\n",
       "      <th>bedroomcnt</th>\n",
       "      <th>bathroomcnt</th>\n",
       "      <th>calculatedfinishedsquarefeet</th>\n",
       "      <th>taxvaluedollarcnt</th>\n",
       "      <th>yearbuilt</th>\n",
       "      <th>taxamount</th>\n",
       "      <th>fips</th>\n",
       "    </tr>\n",
       "  </thead>\n",
       "  <tbody>\n",
       "    <tr>\n",
       "      <th>1442975</th>\n",
       "      <td>NaN</td>\n",
       "      <td>NaN</td>\n",
       "      <td>NaN</td>\n",
       "      <td>273196.0</td>\n",
       "      <td>NaN</td>\n",
       "      <td>NaN</td>\n",
       "      <td>6037.0</td>\n",
       "    </tr>\n",
       "    <tr>\n",
       "      <th>1722707</th>\n",
       "      <td>NaN</td>\n",
       "      <td>NaN</td>\n",
       "      <td>NaN</td>\n",
       "      <td>477161.0</td>\n",
       "      <td>NaN</td>\n",
       "      <td>NaN</td>\n",
       "      <td>6037.0</td>\n",
       "    </tr>\n",
       "    <tr>\n",
       "      <th>1776422</th>\n",
       "      <td>NaN</td>\n",
       "      <td>NaN</td>\n",
       "      <td>NaN</td>\n",
       "      <td>38855.0</td>\n",
       "      <td>NaN</td>\n",
       "      <td>NaN</td>\n",
       "      <td>6037.0</td>\n",
       "    </tr>\n",
       "  </tbody>\n",
       "</table>\n",
       "</div>"
      ],
      "text/plain": [
       "         bedroomcnt  bathroomcnt  calculatedfinishedsquarefeet  \\\n",
       "1442975         NaN          NaN                           NaN   \n",
       "1722707         NaN          NaN                           NaN   \n",
       "1776422         NaN          NaN                           NaN   \n",
       "\n",
       "         taxvaluedollarcnt  yearbuilt  taxamount    fips  \n",
       "1442975           273196.0        NaN        NaN  6037.0  \n",
       "1722707           477161.0        NaN        NaN  6037.0  \n",
       "1776422            38855.0        NaN        NaN  6037.0  "
      ]
     },
     "execution_count": 64,
     "metadata": {},
     "output_type": "execute_result"
    }
   ],
   "source": [
    "df[(df.yearbuilt.isnull()) & (df.bathroomcnt.isnull())& (df.calculatedfinishedsquarefeet.isnull())]"
   ]
  },
  {
   "cell_type": "markdown",
   "id": "ba715d98",
   "metadata": {},
   "source": [
    "<div class=\"alert alert-info\"> \n",
    "There is three rows that have NaN in yearbuilt, bathrommcnt, bedroomcnt. and squarefeet"
   ]
  },
  {
   "cell_type": "code",
   "execution_count": 67,
   "id": "1652311e",
   "metadata": {},
   "outputs": [],
   "source": [
    "outliers_bathroom = outliers(df, 'bathroomcnt') "
   ]
  },
  {
   "cell_type": "code",
   "execution_count": 49,
   "id": "718d1640",
   "metadata": {},
   "outputs": [],
   "source": [
    "outliers_bedroom = outliers(df, 'bedroomcnt') "
   ]
  },
  {
   "cell_type": "code",
   "execution_count": 68,
   "id": "f52d46f8",
   "metadata": {},
   "outputs": [],
   "source": [
    "outliers_squarefeet = outliers(df, 'calculatedfinishedsquarefeet') "
   ]
  },
  {
   "cell_type": "code",
   "execution_count": 69,
   "id": "d302098c",
   "metadata": {},
   "outputs": [],
   "source": [
    "outliers_bathroom = outliers(df, 'bathroomcnt') "
   ]
  },
  {
   "cell_type": "code",
   "execution_count": null,
   "id": "3781bcd6",
   "metadata": {},
   "outputs": [],
   "source": []
  },
  {
   "cell_type": "code",
   "execution_count": 71,
   "id": "68fc7539",
   "metadata": {},
   "outputs": [],
   "source": []
  },
  {
   "cell_type": "code",
   "execution_count": 72,
   "id": "61be58c2",
   "metadata": {},
   "outputs": [
    {
     "data": {
      "image/png": "[encoded data removed]",
      "text/plain": [
       "<Figure size 432x288 with 1 Axes>"
      ]
     },
     "metadata": {
      "needs_background": "light"
     },
     "output_type": "display_data"
    }
   ],
   "source": [
    "plot_boxplot(df,'bathroomcnt')"
   ]
  },
  {
   "cell_type": "code",
   "execution_count": null,
   "id": "1ad41af9",
   "metadata": {},
   "outputs": [],
   "source": []
  },
  {
   "cell_type": "code",
   "execution_count": null,
   "id": "c1bd7baa",
   "metadata": {},
   "outputs": [],
   "source": []
  },
  {
   "cell_type": "code",
   "execution_count": null,
   "id": "8e69d9b7",
   "metadata": {},
   "outputs": [],
   "source": []
  },
  {
   "cell_type": "code",
   "execution_count": 33,
   "id": "46dd7a49",
   "metadata": {},
   "outputs": [
    {
     "name": "stdout",
     "output_type": "stream",
     "text": [
      "<class 'pandas.core.frame.DataFrame'>\n",
      "RangeIndex: 2152863 entries, 0 to 2152862\n",
      "Data columns (total 7 columns):\n",
      " #   Column                        Non-Null Count    Dtype  \n",
      "---  ------                        --------------    -----  \n",
      " 0   bedroomcnt                    2152852 non-null  float64\n",
      " 1   bathroomcnt                   2152852 non-null  float64\n",
      " 2   calculatedfinishedsquarefeet  2144379 non-null  float64\n",
      " 3   taxvaluedollarcnt             2152370 non-null  float64\n",
      " 4   yearbuilt                     2143526 non-null  float64\n",
      " 5   taxamount                     2148421 non-null  float64\n",
      " 6   fips                          2152863 non-null  float64\n",
      "dtypes: float64(7)\n",
      "memory usage: 115.0 MB\n"
     ]
    }
   ],
   "source": [
    "# to show all value counts in info\n",
    "df.info(show_counts=  True)"
   ]
  },
  {
   "cell_type": "markdown",
   "id": "da043f56",
   "metadata": {},
   "source": [
    "info() did not mark the null values. All columns are dataType- float64"
   ]
  },
  {
   "cell_type": "code",
   "execution_count": null,
   "id": "9b8c57a5",
   "metadata": {},
   "outputs": [],
   "source": [
    "df.isnull().any()"
   ]
  },
  {
   "cell_type": "code",
   "execution_count": null,
   "id": "61f58d1a",
   "metadata": {
    "scrolled": false
   },
   "outputs": [],
   "source": [
    "df.isna().sum()"
   ]
  },
  {
   "cell_type": "markdown",
   "id": "51260e43",
   "metadata": {},
   "source": [
    "<div class=\"alert alert-info\">\n",
    "Null values\n",
    "    \n",
    "* 11 values in bedroomcnt \n",
    "* 11 values in bathroomcnt\n",
    "* 8484 values in calculatedfinishedsquarefeet\n",
    "* 493 values in taxvaluedollarcnt\n",
    "* 9337 values in yearbuilt \n",
    "* 4442 values in taxamount\n",
    "\n",
    "No null values in fips"
   ]
  },
  {
   "cell_type": "code",
   "execution_count": null,
   "id": "73fbb730",
   "metadata": {},
   "outputs": [],
   "source": [
    "df.nunique()"
   ]
  },
  {
   "cell_type": "code",
   "execution_count": null,
   "id": "ca181d08",
   "metadata": {},
   "outputs": [],
   "source": [
    "df.size, df.shape"
   ]
  },
  {
   "cell_type": "code",
   "execution_count": null,
   "id": "9de79b73",
   "metadata": {},
   "outputs": [],
   "source": [
    "df.describe().T"
   ]
  },
  {
   "cell_type": "markdown",
   "id": "44e6c389",
   "metadata": {},
   "source": [
    "<div class=\"alert alert-info\">\n",
    "    \n",
    "Bedroom range 0 to 25\n",
    "    \n",
    "bathroom range 0 to 32\n",
    "    \n",
    "square feet range 1 to 952576.00\n",
    "    \n",
    "Year built has a range from 1801 to 2016\n",
    "    \n",
    "Tax amount has a range from 1.85 to 1337755.86\n",
    " "
   ]
  },
  {
   "cell_type": "code",
   "execution_count": null,
   "id": "9c11b585",
   "metadata": {},
   "outputs": [],
   "source": [
    "df = df.dropna()"
   ]
  },
  {
   "cell_type": "code",
   "execution_count": null,
   "id": "8f63dab5",
   "metadata": {},
   "outputs": [],
   "source": [
    "df.shape"
   ]
  },
  {
   "cell_type": "code",
   "execution_count": 31,
   "id": "cb21d440",
   "metadata": {
    "scrolled": true
   },
   "outputs": [
    {
     "data": {
      "text/plain": [
       "-12628"
      ]
     },
     "execution_count": 31,
     "metadata": {},
     "output_type": "execute_result"
    }
   ],
   "source": [
    "2140235-2152863"
   ]
  },
  {
   "cell_type": "markdown",
   "id": "54563c4e",
   "metadata": {},
   "source": [
    "<div class=\"alert alert-info\">\n",
    "If all null values are dropped we lose 12628 rows"
   ]
  },
  {
   "cell_type": "code",
   "execution_count": null,
   "id": "81cd537e",
   "metadata": {},
   "outputs": [],
   "source": []
  },
  {
   "cell_type": "code",
   "execution_count": 2,
   "id": "9b33c42d",
   "metadata": {},
   "outputs": [],
   "source": [
    "import env\n",
    "def wrangle_single_family_residential():\n",
    "    ''' Wrangle_single_family_residential '''\n",
    "   \n",
    "    # squl query for acquisition\n",
    "    sql_query = \"\"\"\n",
    "                SELECT bedroomcnt, bathroomcnt, calculatedfinishedsquarefeet, taxvaluedollarcnt, yearbuilt, taxamount, fips\n",
    "                FROM properties_2017\n",
    "                Where propertylandusetypeid = 261;\n",
    "                \"\"\"\n",
    "    # Acquisition\n",
    "    df = pd.read_sql(sql_query, env.get_connection('zillow'))\n",
    "    \n",
    "    df = df.dropna()\n",
    "    \n",
    "\n",
    "    return df"
   ]
  },
  {
   "cell_type": "code",
   "execution_count": 4,
   "id": "cfce278c",
   "metadata": {},
   "outputs": [],
   "source": [
    "df = w. wrangle_single_family_residential()"
   ]
  },
  {
   "cell_type": "code",
   "execution_count": 6,
   "id": "8aa30200",
   "metadata": {
    "scrolled": true
   },
   "outputs": [
    {
     "data": {
      "text/html": [
       "<div>\n",
       "<style scoped>\n",
       "    .dataframe tbody tr th:only-of-type {\n",
       "        vertical-align: middle;\n",
       "    }\n",
       "\n",
       "    .dataframe tbody tr th {\n",
       "        vertical-align: top;\n",
       "    }\n",
       "\n",
       "    .dataframe thead th {\n",
       "        text-align: right;\n",
       "    }\n",
       "</style>\n",
       "<table border=\"1\" class=\"dataframe\">\n",
       "  <thead>\n",
       "    <tr style=\"text-align: right;\">\n",
       "      <th></th>\n",
       "      <th>bedroomcnt</th>\n",
       "      <th>bathroomcnt</th>\n",
       "      <th>calculatedfinishedsquarefeet</th>\n",
       "      <th>taxvaluedollarcnt</th>\n",
       "      <th>yearbuilt</th>\n",
       "      <th>taxamount</th>\n",
       "      <th>fips</th>\n",
       "    </tr>\n",
       "  </thead>\n",
       "  <tbody>\n",
       "    <tr>\n",
       "      <th>4</th>\n",
       "      <td>4.0</td>\n",
       "      <td>2.0</td>\n",
       "      <td>3633.0</td>\n",
       "      <td>296425.0</td>\n",
       "      <td>2005.0</td>\n",
       "      <td>6941.39</td>\n",
       "      <td>6037.0</td>\n",
       "    </tr>\n",
       "    <tr>\n",
       "      <th>6</th>\n",
       "      <td>3.0</td>\n",
       "      <td>4.0</td>\n",
       "      <td>1620.0</td>\n",
       "      <td>847770.0</td>\n",
       "      <td>2011.0</td>\n",
       "      <td>10244.94</td>\n",
       "      <td>6037.0</td>\n",
       "    </tr>\n",
       "    <tr>\n",
       "      <th>7</th>\n",
       "      <td>3.0</td>\n",
       "      <td>2.0</td>\n",
       "      <td>2077.0</td>\n",
       "      <td>646760.0</td>\n",
       "      <td>1926.0</td>\n",
       "      <td>7924.68</td>\n",
       "      <td>6037.0</td>\n",
       "    </tr>\n",
       "    <tr>\n",
       "      <th>11</th>\n",
       "      <td>0.0</td>\n",
       "      <td>0.0</td>\n",
       "      <td>1200.0</td>\n",
       "      <td>5328.0</td>\n",
       "      <td>1972.0</td>\n",
       "      <td>91.60</td>\n",
       "      <td>6037.0</td>\n",
       "    </tr>\n",
       "    <tr>\n",
       "      <th>14</th>\n",
       "      <td>0.0</td>\n",
       "      <td>0.0</td>\n",
       "      <td>171.0</td>\n",
       "      <td>6920.0</td>\n",
       "      <td>1973.0</td>\n",
       "      <td>255.17</td>\n",
       "      <td>6037.0</td>\n",
       "    </tr>\n",
       "    <tr>\n",
       "      <th>...</th>\n",
       "      <td>...</td>\n",
       "      <td>...</td>\n",
       "      <td>...</td>\n",
       "      <td>...</td>\n",
       "      <td>...</td>\n",
       "      <td>...</td>\n",
       "      <td>...</td>\n",
       "    </tr>\n",
       "    <tr>\n",
       "      <th>2152856</th>\n",
       "      <td>4.0</td>\n",
       "      <td>4.0</td>\n",
       "      <td>4375.0</td>\n",
       "      <td>422400.0</td>\n",
       "      <td>2015.0</td>\n",
       "      <td>13877.56</td>\n",
       "      <td>6037.0</td>\n",
       "    </tr>\n",
       "    <tr>\n",
       "      <th>2152858</th>\n",
       "      <td>4.0</td>\n",
       "      <td>3.0</td>\n",
       "      <td>2262.0</td>\n",
       "      <td>960756.0</td>\n",
       "      <td>2015.0</td>\n",
       "      <td>13494.52</td>\n",
       "      <td>6059.0</td>\n",
       "    </tr>\n",
       "    <tr>\n",
       "      <th>2152859</th>\n",
       "      <td>4.0</td>\n",
       "      <td>4.5</td>\n",
       "      <td>3127.0</td>\n",
       "      <td>536061.0</td>\n",
       "      <td>2014.0</td>\n",
       "      <td>6244.16</td>\n",
       "      <td>6059.0</td>\n",
       "    </tr>\n",
       "    <tr>\n",
       "      <th>2152861</th>\n",
       "      <td>3.0</td>\n",
       "      <td>2.5</td>\n",
       "      <td>1974.0</td>\n",
       "      <td>424353.0</td>\n",
       "      <td>2015.0</td>\n",
       "      <td>5302.70</td>\n",
       "      <td>6059.0</td>\n",
       "    </tr>\n",
       "    <tr>\n",
       "      <th>2152862</th>\n",
       "      <td>4.0</td>\n",
       "      <td>4.0</td>\n",
       "      <td>2110.0</td>\n",
       "      <td>554009.0</td>\n",
       "      <td>2014.0</td>\n",
       "      <td>6761.20</td>\n",
       "      <td>6037.0</td>\n",
       "    </tr>\n",
       "  </tbody>\n",
       "</table>\n",
       "<p>2140235 rows × 7 columns</p>\n",
       "</div>"
      ],
      "text/plain": [
       "         bedroomcnt  bathroomcnt  calculatedfinishedsquarefeet  \\\n",
       "4               4.0          2.0                        3633.0   \n",
       "6               3.0          4.0                        1620.0   \n",
       "7               3.0          2.0                        2077.0   \n",
       "11              0.0          0.0                        1200.0   \n",
       "14              0.0          0.0                         171.0   \n",
       "...             ...          ...                           ...   \n",
       "2152856         4.0          4.0                        4375.0   \n",
       "2152858         4.0          3.0                        2262.0   \n",
       "2152859         4.0          4.5                        3127.0   \n",
       "2152861         3.0          2.5                        1974.0   \n",
       "2152862         4.0          4.0                        2110.0   \n",
       "\n",
       "         taxvaluedollarcnt  yearbuilt  taxamount    fips  \n",
       "4                 296425.0     2005.0    6941.39  6037.0  \n",
       "6                 847770.0     2011.0   10244.94  6037.0  \n",
       "7                 646760.0     1926.0    7924.68  6037.0  \n",
       "11                  5328.0     1972.0      91.60  6037.0  \n",
       "14                  6920.0     1973.0     255.17  6037.0  \n",
       "...                    ...        ...        ...     ...  \n",
       "2152856           422400.0     2015.0   13877.56  6037.0  \n",
       "2152858           960756.0     2015.0   13494.52  6059.0  \n",
       "2152859           536061.0     2014.0    6244.16  6059.0  \n",
       "2152861           424353.0     2015.0    5302.70  6059.0  \n",
       "2152862           554009.0     2014.0    6761.20  6037.0  \n",
       "\n",
       "[2140235 rows x 7 columns]"
      ]
     },
     "execution_count": 6,
     "metadata": {},
     "output_type": "execute_result"
    }
   ],
   "source": [
    "df"
   ]
  },
  {
   "cell_type": "code",
   "execution_count": 10,
   "id": "86f6ce93",
   "metadata": {},
   "outputs": [
    {
     "data": {
      "text/plain": [
       "Index(['bedroomcnt', 'bathroomcnt', 'calculatedfinishedsquarefeet',\n",
       "       'taxvaluedollarcnt', 'yearbuilt', 'taxamount', 'fips'],\n",
       "      dtype='object')"
      ]
     },
     "execution_count": 10,
     "metadata": {},
     "output_type": "execute_result"
    }
   ],
   "source": [
    "df.columns"
   ]
  },
  {
   "cell_type": "code",
   "execution_count": 26,
   "id": "e1c915e7",
   "metadata": {},
   "outputs": [
    {
     "data": {
      "image/png": "[encoded data removed]",
      "text/plain": [
       "<Figure size 1800x360 with 7 Axes>"
      ]
     },
     "metadata": {
      "needs_background": "light"
     },
     "output_type": "display_data"
    }
   ],
   "source": [
    "plt.figure(figsize=(25, 5))\n",
    "\n",
    "for i, col in enumerate(df):\n",
    "    \n",
    "    # i starts at 0, but plot nos should start at 1\n",
    "    plot_number = i + 1\n",
    "    \n",
    "    # Create subplot.\n",
    "    # plt.subplot(row X col, where?)\n",
    "    plt.subplot(1,7,plot_number)\n",
    "    \n",
    "    # Title with column name.\n",
    "    plt.title(col)\n",
    "    \n",
    "    # Display histogram for column.\n",
    "    df.boxplot(column=[col])\n",
    "    \n",
    "    # Hide gridlines.\n",
    "    plt.grid(False)"
   ]
  },
  {
   "cell_type": "code",
   "execution_count": 22,
   "id": "7f862f97",
   "metadata": {},
   "outputs": [
    {
     "data": {
      "text/html": [
       "<div>\n",
       "<style scoped>\n",
       "    .dataframe tbody tr th:only-of-type {\n",
       "        vertical-align: middle;\n",
       "    }\n",
       "\n",
       "    .dataframe tbody tr th {\n",
       "        vertical-align: top;\n",
       "    }\n",
       "\n",
       "    .dataframe thead th {\n",
       "        text-align: right;\n",
       "    }\n",
       "</style>\n",
       "<table border=\"1\" class=\"dataframe\">\n",
       "  <thead>\n",
       "    <tr style=\"text-align: right;\">\n",
       "      <th></th>\n",
       "      <th>count</th>\n",
       "      <th>mean</th>\n",
       "      <th>std</th>\n",
       "      <th>min</th>\n",
       "      <th>25%</th>\n",
       "      <th>50%</th>\n",
       "      <th>75%</th>\n",
       "      <th>max</th>\n",
       "    </tr>\n",
       "  </thead>\n",
       "  <tbody>\n",
       "    <tr>\n",
       "      <th>bedroomcnt</th>\n",
       "      <td>2140235.0</td>\n",
       "      <td>3.301419</td>\n",
       "      <td>0.932600</td>\n",
       "      <td>0.00</td>\n",
       "      <td>3.00</td>\n",
       "      <td>3.00</td>\n",
       "      <td>4.00</td>\n",
       "      <td>25.00</td>\n",
       "    </tr>\n",
       "    <tr>\n",
       "      <th>bathroomcnt</th>\n",
       "      <td>2140235.0</td>\n",
       "      <td>2.240352</td>\n",
       "      <td>0.990549</td>\n",
       "      <td>0.00</td>\n",
       "      <td>2.00</td>\n",
       "      <td>2.00</td>\n",
       "      <td>3.00</td>\n",
       "      <td>32.00</td>\n",
       "    </tr>\n",
       "    <tr>\n",
       "      <th>calculatedfinishedsquarefeet</th>\n",
       "      <td>2140235.0</td>\n",
       "      <td>1863.193970</td>\n",
       "      <td>1221.754161</td>\n",
       "      <td>1.00</td>\n",
       "      <td>1258.00</td>\n",
       "      <td>1623.00</td>\n",
       "      <td>2208.00</td>\n",
       "      <td>952576.00</td>\n",
       "    </tr>\n",
       "    <tr>\n",
       "      <th>taxvaluedollarcnt</th>\n",
       "      <td>2140235.0</td>\n",
       "      <td>460641.625164</td>\n",
       "      <td>677157.635675</td>\n",
       "      <td>22.00</td>\n",
       "      <td>189166.00</td>\n",
       "      <td>328296.00</td>\n",
       "      <td>534606.00</td>\n",
       "      <td>90188462.00</td>\n",
       "    </tr>\n",
       "    <tr>\n",
       "      <th>yearbuilt</th>\n",
       "      <td>2140235.0</td>\n",
       "      <td>1960.967545</td>\n",
       "      <td>22.150563</td>\n",
       "      <td>1801.00</td>\n",
       "      <td>1949.00</td>\n",
       "      <td>1958.00</td>\n",
       "      <td>1976.00</td>\n",
       "      <td>2016.00</td>\n",
       "    </tr>\n",
       "    <tr>\n",
       "      <th>taxamount</th>\n",
       "      <td>2140235.0</td>\n",
       "      <td>5616.711322</td>\n",
       "      <td>7814.562798</td>\n",
       "      <td>6.34</td>\n",
       "      <td>2540.85</td>\n",
       "      <td>4111.47</td>\n",
       "      <td>6411.93</td>\n",
       "      <td>1078101.87</td>\n",
       "    </tr>\n",
       "    <tr>\n",
       "      <th>fips</th>\n",
       "      <td>2140235.0</td>\n",
       "      <td>6048.309556</td>\n",
       "      <td>20.344910</td>\n",
       "      <td>6037.00</td>\n",
       "      <td>6037.00</td>\n",
       "      <td>6037.00</td>\n",
       "      <td>6059.00</td>\n",
       "      <td>6111.00</td>\n",
       "    </tr>\n",
       "  </tbody>\n",
       "</table>\n",
       "</div>"
      ],
      "text/plain": [
       "                                  count           mean            std  \\\n",
       "bedroomcnt                    2140235.0       3.301419       0.932600   \n",
       "bathroomcnt                   2140235.0       2.240352       0.990549   \n",
       "calculatedfinishedsquarefeet  2140235.0    1863.193970    1221.754161   \n",
       "taxvaluedollarcnt             2140235.0  460641.625164  677157.635675   \n",
       "yearbuilt                     2140235.0    1960.967545      22.150563   \n",
       "taxamount                     2140235.0    5616.711322    7814.562798   \n",
       "fips                          2140235.0    6048.309556      20.344910   \n",
       "\n",
       "                                  min        25%        50%        75%  \\\n",
       "bedroomcnt                       0.00       3.00       3.00       4.00   \n",
       "bathroomcnt                      0.00       2.00       2.00       3.00   \n",
       "calculatedfinishedsquarefeet     1.00    1258.00    1623.00    2208.00   \n",
       "taxvaluedollarcnt               22.00  189166.00  328296.00  534606.00   \n",
       "yearbuilt                     1801.00    1949.00    1958.00    1976.00   \n",
       "taxamount                        6.34    2540.85    4111.47    6411.93   \n",
       "fips                          6037.00    6037.00    6037.00    6059.00   \n",
       "\n",
       "                                      max  \n",
       "bedroomcnt                          25.00  \n",
       "bathroomcnt                         32.00  \n",
       "calculatedfinishedsquarefeet    952576.00  \n",
       "taxvaluedollarcnt             90188462.00  \n",
       "yearbuilt                         2016.00  \n",
       "taxamount                      1078101.87  \n",
       "fips                              6111.00  "
      ]
     },
     "execution_count": 22,
     "metadata": {},
     "output_type": "execute_result"
    }
   ],
   "source": [
    "df.describe().T"
   ]
  },
  {
   "cell_type": "code",
   "execution_count": 23,
   "id": "68eebae3",
   "metadata": {},
   "outputs": [
    {
     "data": {
      "text/plain": [
       "(2140235, 7)"
      ]
     },
     "execution_count": 23,
     "metadata": {},
     "output_type": "execute_result"
    }
   ],
   "source": [
    "df.shape"
   ]
  },
  {
   "cell_type": "code",
   "execution_count": null,
   "id": "ce4d5466",
   "metadata": {},
   "outputs": [],
   "source": []
  },
  {
   "cell_type": "code",
   "execution_count": null,
   "id": "d4ab65dc",
   "metadata": {},
   "outputs": [],
   "source": []
  },
  {
   "cell_type": "code",
   "execution_count": null,
   "id": "5c76ccf4",
   "metadata": {},
   "outputs": [],
   "source": []
  },
  {
   "cell_type": "code",
   "execution_count": null,
   "id": "53f4dce1",
   "metadata": {},
   "outputs": [],
   "source": []
  }
 ],
 "metadata": {
  "kernelspec": {
   "display_name": "Python 3 (ipykernel)",
   "language": "python",
   "name": "python3"
  },
  "language_info": {
   "codemirror_mode": {
    "name": "ipython",
    "version": 3
   },
   "file_extension": ".py",
   "mimetype": "text/x-python",
   "name": "python",
   "nbconvert_exporter": "python",
   "pygments_lexer": "ipython3",
   "version": "3.9.12"
  }
 },
 "nbformat": 4,
 "nbformat_minor": 5
}
