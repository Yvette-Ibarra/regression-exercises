{
 "cells": [
  {
   "cell_type": "markdown",
   "id": "c0e0336b",
   "metadata": {},
   "source": [
    "# $Explore$ $Zillow$"
   ]
  },
  {
   "cell_type": "markdown",
   "id": "4aa8a661",
   "metadata": {},
   "source": [
    "### Imports"
   ]
  },
  {
   "cell_type": "code",
   "execution_count": 31,
   "id": "23f08293",
   "metadata": {},
   "outputs": [],
   "source": [
    "import numpy as np\n",
    "import pandas as pd\n",
    "from scipy import stats\n",
    "import sklearn.preprocessing\n",
    "from sklearn.model_selection import train_test_split\n",
    "from sklearn.preprocessing import QuantileTransformer\n",
    "from sklearn.model_selection import train_test_split\n",
    "from statsmodels.stats.outliers_influence import variance_inflation_factor\n",
    "import seaborn as sns\n",
    "import matplotlib.pyplot as plt\n",
    "import wrangle as w"
   ]
  },
  {
   "cell_type": "code",
   "execution_count": 33,
   "id": "b2eaf46a",
   "metadata": {},
   "outputs": [],
   "source": [
    "# wrangel zillow data\n",
    "df = w.wrangle_single_family_residential()"
   ]
  },
  {
   "cell_type": "code",
   "execution_count": 34,
   "id": "0879a1a4",
   "metadata": {},
   "outputs": [
    {
     "data": {
      "text/plain": [
       "(2140235, 7)"
      ]
     },
     "execution_count": 34,
     "metadata": {},
     "output_type": "execute_result"
    }
   ],
   "source": [
    "# shape of data after dropping NAN and Nulls\n",
    "df.shape"
   ]
  },
  {
   "cell_type": "code",
   "execution_count": 35,
   "id": "5d6d3c23",
   "metadata": {},
   "outputs": [
    {
     "data": {
      "text/plain": [
       "107011.75"
      ]
     },
     "execution_count": 35,
     "metadata": {},
     "output_type": "execute_result"
    }
   ],
   "source": [
    "2140235*0.05"
   ]
  },
  {
   "cell_type": "code",
   "execution_count": 36,
   "id": "24fd6b14",
   "metadata": {},
   "outputs": [
    {
     "data": {
      "text/plain": [
       "Index(['bedroom', 'bathroom', 'squarefeet', 'tax_value', 'yearbuilt',\n",
       "       'taxamount', 'fips'],\n",
       "      dtype='object')"
      ]
     },
     "execution_count": 36,
     "metadata": {},
     "output_type": "execute_result"
    }
   ],
   "source": [
    "df.columns"
   ]
  },
  {
   "cell_type": "code",
   "execution_count": 37,
   "id": "f4f5b9b8",
   "metadata": {
    "scrolled": true
   },
   "outputs": [],
   "source": [
    "df = w.remove_outliers(df,['squarefeet','taxamount','tax_value'])"
   ]
  },
  {
   "cell_type": "code",
   "execution_count": 38,
   "id": "55e7591f",
   "metadata": {},
   "outputs": [
    {
     "data": {
      "text/plain": [
       "(2057057, 7)"
      ]
     },
     "execution_count": 38,
     "metadata": {},
     "output_type": "execute_result"
    }
   ],
   "source": [
    "df.shape"
   ]
  },
  {
   "cell_type": "code",
   "execution_count": 39,
   "id": "f36b801f",
   "metadata": {},
   "outputs": [
    {
     "data": {
      "text/plain": [
       "0.03886395652813823"
      ]
     },
     "execution_count": 39,
     "metadata": {},
     "output_type": "execute_result"
    }
   ],
   "source": [
    "1-(2057057/2140235)"
   ]
  },
  {
   "cell_type": "code",
   "execution_count": 40,
   "id": "609bd584",
   "metadata": {},
   "outputs": [
    {
     "data": {
      "text/plain": [
       "0.0512672673795167"
      ]
     },
     "execution_count": 40,
     "metadata": {},
     "output_type": "execute_result"
    }
   ],
   "source": [
    "1-(2030511/2140235)"
   ]
  },
  {
   "cell_type": "markdown",
   "id": "01fa739e",
   "metadata": {},
   "source": [
    "### 2 Make sure to perform a train, validate, test split before and use only your train dataset to explore the relationships between independent variables with other independent variables or independent variables with your target variable."
   ]
  },
  {
   "cell_type": "code",
   "execution_count": 41,
   "id": "e1998872",
   "metadata": {},
   "outputs": [],
   "source": [
    "# Split data to train , test validate, using random state 123\n",
    "train, validate, test = w.split_data(df)"
   ]
  },
  {
   "cell_type": "code",
   "execution_count": 42,
   "id": "3743aaa7",
   "metadata": {},
   "outputs": [
    {
     "data": {
      "text/plain": [
       "(1151951, 7)"
      ]
     },
     "execution_count": 42,
     "metadata": {},
     "output_type": "execute_result"
    }
   ],
   "source": [
    "# shape of train\n",
    "train.shape"
   ]
  },
  {
   "cell_type": "code",
   "execution_count": 43,
   "id": "d89ab34e",
   "metadata": {
    "scrolled": false
   },
   "outputs": [
    {
     "data": {
      "text/html": [
       "<div>\n",
       "<style scoped>\n",
       "    .dataframe tbody tr th:only-of-type {\n",
       "        vertical-align: middle;\n",
       "    }\n",
       "\n",
       "    .dataframe tbody tr th {\n",
       "        vertical-align: top;\n",
       "    }\n",
       "\n",
       "    .dataframe thead th {\n",
       "        text-align: right;\n",
       "    }\n",
       "</style>\n",
       "<table border=\"1\" class=\"dataframe\">\n",
       "  <thead>\n",
       "    <tr style=\"text-align: right;\">\n",
       "      <th></th>\n",
       "      <th>bedroom</th>\n",
       "      <th>bathroom</th>\n",
       "      <th>squarefeet</th>\n",
       "      <th>tax_value</th>\n",
       "      <th>yearbuilt</th>\n",
       "      <th>taxamount</th>\n",
       "      <th>fips</th>\n",
       "    </tr>\n",
       "  </thead>\n",
       "  <tbody>\n",
       "    <tr>\n",
       "      <th>1032588</th>\n",
       "      <td>4.0</td>\n",
       "      <td>2.5</td>\n",
       "      <td>2453.0</td>\n",
       "      <td>323391.0</td>\n",
       "      <td>1980.0</td>\n",
       "      <td>3355.12</td>\n",
       "      <td>6059.0</td>\n",
       "    </tr>\n",
       "    <tr>\n",
       "      <th>1167072</th>\n",
       "      <td>3.0</td>\n",
       "      <td>2.0</td>\n",
       "      <td>1042.0</td>\n",
       "      <td>411045.0</td>\n",
       "      <td>1923.0</td>\n",
       "      <td>4807.42</td>\n",
       "      <td>6037.0</td>\n",
       "    </tr>\n",
       "    <tr>\n",
       "      <th>652578</th>\n",
       "      <td>5.0</td>\n",
       "      <td>3.0</td>\n",
       "      <td>2857.0</td>\n",
       "      <td>484821.0</td>\n",
       "      <td>1964.0</td>\n",
       "      <td>6312.92</td>\n",
       "      <td>6037.0</td>\n",
       "    </tr>\n",
       "    <tr>\n",
       "      <th>1102488</th>\n",
       "      <td>6.0</td>\n",
       "      <td>3.0</td>\n",
       "      <td>2813.0</td>\n",
       "      <td>215971.0</td>\n",
       "      <td>1924.0</td>\n",
       "      <td>2872.30</td>\n",
       "      <td>6037.0</td>\n",
       "    </tr>\n",
       "    <tr>\n",
       "      <th>43744</th>\n",
       "      <td>4.0</td>\n",
       "      <td>1.5</td>\n",
       "      <td>1227.0</td>\n",
       "      <td>379260.0</td>\n",
       "      <td>1961.0</td>\n",
       "      <td>4448.38</td>\n",
       "      <td>6111.0</td>\n",
       "    </tr>\n",
       "  </tbody>\n",
       "</table>\n",
       "</div>"
      ],
      "text/plain": [
       "         bedroom  bathroom  squarefeet  tax_value  yearbuilt  taxamount  \\\n",
       "1032588      4.0       2.5      2453.0   323391.0     1980.0    3355.12   \n",
       "1167072      3.0       2.0      1042.0   411045.0     1923.0    4807.42   \n",
       "652578       5.0       3.0      2857.0   484821.0     1964.0    6312.92   \n",
       "1102488      6.0       3.0      2813.0   215971.0     1924.0    2872.30   \n",
       "43744        4.0       1.5      1227.0   379260.0     1961.0    4448.38   \n",
       "\n",
       "           fips  \n",
       "1032588  6059.0  \n",
       "1167072  6037.0  \n",
       "652578   6037.0  \n",
       "1102488  6037.0  \n",
       "43744    6111.0  "
      ]
     },
     "execution_count": 43,
     "metadata": {},
     "output_type": "execute_result"
    }
   ],
   "source": [
    "# firs look at train data\n",
    "train.head()"
   ]
  },
  {
   "cell_type": "code",
   "execution_count": 44,
   "id": "5b26fcc7",
   "metadata": {},
   "outputs": [
    {
     "data": {
      "text/html": [
       "<div>\n",
       "<style scoped>\n",
       "    .dataframe tbody tr th:only-of-type {\n",
       "        vertical-align: middle;\n",
       "    }\n",
       "\n",
       "    .dataframe tbody tr th {\n",
       "        vertical-align: top;\n",
       "    }\n",
       "\n",
       "    .dataframe thead th {\n",
       "        text-align: right;\n",
       "    }\n",
       "</style>\n",
       "<table border=\"1\" class=\"dataframe\">\n",
       "  <thead>\n",
       "    <tr style=\"text-align: right;\">\n",
       "      <th></th>\n",
       "      <th>count</th>\n",
       "      <th>mean</th>\n",
       "      <th>std</th>\n",
       "      <th>min</th>\n",
       "      <th>25%</th>\n",
       "      <th>50%</th>\n",
       "      <th>75%</th>\n",
       "      <th>max</th>\n",
       "    </tr>\n",
       "  </thead>\n",
       "  <tbody>\n",
       "    <tr>\n",
       "      <th>bedroom</th>\n",
       "      <td>1151951.0</td>\n",
       "      <td>3.261111</td>\n",
       "      <td>0.895247</td>\n",
       "      <td>0.00</td>\n",
       "      <td>3.00</td>\n",
       "      <td>3.00</td>\n",
       "      <td>4.00</td>\n",
       "      <td>14.00</td>\n",
       "    </tr>\n",
       "    <tr>\n",
       "      <th>bathroom</th>\n",
       "      <td>1151951.0</td>\n",
       "      <td>2.150434</td>\n",
       "      <td>0.839051</td>\n",
       "      <td>0.00</td>\n",
       "      <td>2.00</td>\n",
       "      <td>2.00</td>\n",
       "      <td>3.00</td>\n",
       "      <td>20.00</td>\n",
       "    </tr>\n",
       "    <tr>\n",
       "      <th>squarefeet</th>\n",
       "      <td>1151951.0</td>\n",
       "      <td>1759.565230</td>\n",
       "      <td>717.570666</td>\n",
       "      <td>1.00</td>\n",
       "      <td>1245.00</td>\n",
       "      <td>1595.00</td>\n",
       "      <td>2123.00</td>\n",
       "      <td>5057.00</td>\n",
       "    </tr>\n",
       "    <tr>\n",
       "      <th>tax_value</th>\n",
       "      <td>1151951.0</td>\n",
       "      <td>375362.129464</td>\n",
       "      <td>265165.470398</td>\n",
       "      <td>22.00</td>\n",
       "      <td>183509.00</td>\n",
       "      <td>316423.00</td>\n",
       "      <td>500511.00</td>\n",
       "      <td>1460470.00</td>\n",
       "    </tr>\n",
       "    <tr>\n",
       "      <th>yearbuilt</th>\n",
       "      <td>1151951.0</td>\n",
       "      <td>1960.347539</td>\n",
       "      <td>21.619648</td>\n",
       "      <td>1801.00</td>\n",
       "      <td>1949.00</td>\n",
       "      <td>1958.00</td>\n",
       "      <td>1974.00</td>\n",
       "      <td>2016.00</td>\n",
       "    </tr>\n",
       "    <tr>\n",
       "      <th>taxamount</th>\n",
       "      <td>1151951.0</td>\n",
       "      <td>4635.686431</td>\n",
       "      <td>3057.070805</td>\n",
       "      <td>6.34</td>\n",
       "      <td>2475.84</td>\n",
       "      <td>3976.76</td>\n",
       "      <td>6035.03</td>\n",
       "      <td>17607.08</td>\n",
       "    </tr>\n",
       "    <tr>\n",
       "      <th>fips</th>\n",
       "      <td>1151951.0</td>\n",
       "      <td>6048.360155</td>\n",
       "      <td>20.465567</td>\n",
       "      <td>6037.00</td>\n",
       "      <td>6037.00</td>\n",
       "      <td>6037.00</td>\n",
       "      <td>6059.00</td>\n",
       "      <td>6111.00</td>\n",
       "    </tr>\n",
       "  </tbody>\n",
       "</table>\n",
       "</div>"
      ],
      "text/plain": [
       "                count           mean            std      min        25%  \\\n",
       "bedroom     1151951.0       3.261111       0.895247     0.00       3.00   \n",
       "bathroom    1151951.0       2.150434       0.839051     0.00       2.00   \n",
       "squarefeet  1151951.0    1759.565230     717.570666     1.00    1245.00   \n",
       "tax_value   1151951.0  375362.129464  265165.470398    22.00  183509.00   \n",
       "yearbuilt   1151951.0    1960.347539      21.619648  1801.00    1949.00   \n",
       "taxamount   1151951.0    4635.686431    3057.070805     6.34    2475.84   \n",
       "fips        1151951.0    6048.360155      20.465567  6037.00    6037.00   \n",
       "\n",
       "                  50%        75%         max  \n",
       "bedroom          3.00       4.00       14.00  \n",
       "bathroom         2.00       3.00       20.00  \n",
       "squarefeet    1595.00    2123.00     5057.00  \n",
       "tax_value   316423.00  500511.00  1460470.00  \n",
       "yearbuilt     1958.00    1974.00     2016.00  \n",
       "taxamount     3976.76    6035.03    17607.08  \n",
       "fips          6037.00    6059.00     6111.00  "
      ]
     },
     "execution_count": 44,
     "metadata": {},
     "output_type": "execute_result"
    }
   ],
   "source": [
    "# stats in zillow train set\n",
    "train.describe().T"
   ]
  },
  {
   "cell_type": "code",
   "execution_count": 45,
   "id": "8024b91f",
   "metadata": {
    "scrolled": true
   },
   "outputs": [
    {
     "data": {
      "text/plain": [
       "Index(['bedroom', 'bathroom', 'squarefeet', 'tax_value', 'yearbuilt',\n",
       "       'taxamount', 'fips'],\n",
       "      dtype='object')"
      ]
     },
     "execution_count": 45,
     "metadata": {},
     "output_type": "execute_result"
    }
   ],
   "source": [
    "# name of columns in train\n",
    "train.columns"
   ]
  },
  {
   "cell_type": "code",
   "execution_count": 46,
   "id": "aee502f4",
   "metadata": {},
   "outputs": [
    {
     "data": {
      "text/plain": [
       "6037.0    767956\n",
       "6059.0    294794\n",
       "6111.0     89201\n",
       "Name: fips, dtype: int64"
      ]
     },
     "execution_count": 46,
     "metadata": {},
     "output_type": "execute_result"
    }
   ],
   "source": [
    "train.fips.value_counts()"
   ]
  },
  {
   "cell_type": "markdown",
   "id": "4cd72cc5",
   "metadata": {},
   "source": [
    "fips will be taken out because it is a county code \n"
   ]
  },
  {
   "cell_type": "code",
   "execution_count": 47,
   "id": "1ef63bef",
   "metadata": {},
   "outputs": [],
   "source": [
    "train['age'] = 2017-train.yearbuilt"
   ]
  },
  {
   "cell_type": "code",
   "execution_count": 48,
   "id": "c250d9f5",
   "metadata": {
    "scrolled": true
   },
   "outputs": [],
   "source": [
    "# sample= train.sample(1_000, random_state=123)"
   ]
  },
  {
   "cell_type": "code",
   "execution_count": 49,
   "id": "dc6a13b8",
   "metadata": {},
   "outputs": [
    {
     "data": {
      "text/html": [
       "<div>\n",
       "<style scoped>\n",
       "    .dataframe tbody tr th:only-of-type {\n",
       "        vertical-align: middle;\n",
       "    }\n",
       "\n",
       "    .dataframe tbody tr th {\n",
       "        vertical-align: top;\n",
       "    }\n",
       "\n",
       "    .dataframe thead th {\n",
       "        text-align: right;\n",
       "    }\n",
       "</style>\n",
       "<table border=\"1\" class=\"dataframe\">\n",
       "  <thead>\n",
       "    <tr style=\"text-align: right;\">\n",
       "      <th></th>\n",
       "      <th>bedroom</th>\n",
       "      <th>bathroom</th>\n",
       "      <th>squarefeet</th>\n",
       "      <th>tax_value</th>\n",
       "      <th>yearbuilt</th>\n",
       "      <th>taxamount</th>\n",
       "      <th>fips</th>\n",
       "      <th>age</th>\n",
       "    </tr>\n",
       "  </thead>\n",
       "  <tbody>\n",
       "    <tr>\n",
       "      <th>count</th>\n",
       "      <td>1.151951e+06</td>\n",
       "      <td>1.151951e+06</td>\n",
       "      <td>1.151951e+06</td>\n",
       "      <td>1.151951e+06</td>\n",
       "      <td>1.151951e+06</td>\n",
       "      <td>1.151951e+06</td>\n",
       "      <td>1.151951e+06</td>\n",
       "      <td>1.151951e+06</td>\n",
       "    </tr>\n",
       "    <tr>\n",
       "      <th>mean</th>\n",
       "      <td>3.261111e+00</td>\n",
       "      <td>2.150434e+00</td>\n",
       "      <td>1.759565e+03</td>\n",
       "      <td>3.753621e+05</td>\n",
       "      <td>1.960348e+03</td>\n",
       "      <td>4.635686e+03</td>\n",
       "      <td>6.048360e+03</td>\n",
       "      <td>5.665246e+01</td>\n",
       "    </tr>\n",
       "    <tr>\n",
       "      <th>std</th>\n",
       "      <td>8.952470e-01</td>\n",
       "      <td>8.390511e-01</td>\n",
       "      <td>7.175707e+02</td>\n",
       "      <td>2.651655e+05</td>\n",
       "      <td>2.161965e+01</td>\n",
       "      <td>3.057071e+03</td>\n",
       "      <td>2.046557e+01</td>\n",
       "      <td>2.161965e+01</td>\n",
       "    </tr>\n",
       "    <tr>\n",
       "      <th>min</th>\n",
       "      <td>0.000000e+00</td>\n",
       "      <td>0.000000e+00</td>\n",
       "      <td>1.000000e+00</td>\n",
       "      <td>2.200000e+01</td>\n",
       "      <td>1.801000e+03</td>\n",
       "      <td>6.340000e+00</td>\n",
       "      <td>6.037000e+03</td>\n",
       "      <td>1.000000e+00</td>\n",
       "    </tr>\n",
       "    <tr>\n",
       "      <th>25%</th>\n",
       "      <td>3.000000e+00</td>\n",
       "      <td>2.000000e+00</td>\n",
       "      <td>1.245000e+03</td>\n",
       "      <td>1.835090e+05</td>\n",
       "      <td>1.949000e+03</td>\n",
       "      <td>2.475840e+03</td>\n",
       "      <td>6.037000e+03</td>\n",
       "      <td>4.300000e+01</td>\n",
       "    </tr>\n",
       "    <tr>\n",
       "      <th>50%</th>\n",
       "      <td>3.000000e+00</td>\n",
       "      <td>2.000000e+00</td>\n",
       "      <td>1.595000e+03</td>\n",
       "      <td>3.164230e+05</td>\n",
       "      <td>1.958000e+03</td>\n",
       "      <td>3.976760e+03</td>\n",
       "      <td>6.037000e+03</td>\n",
       "      <td>5.900000e+01</td>\n",
       "    </tr>\n",
       "    <tr>\n",
       "      <th>75%</th>\n",
       "      <td>4.000000e+00</td>\n",
       "      <td>3.000000e+00</td>\n",
       "      <td>2.123000e+03</td>\n",
       "      <td>5.005110e+05</td>\n",
       "      <td>1.974000e+03</td>\n",
       "      <td>6.035030e+03</td>\n",
       "      <td>6.059000e+03</td>\n",
       "      <td>6.800000e+01</td>\n",
       "    </tr>\n",
       "    <tr>\n",
       "      <th>max</th>\n",
       "      <td>1.400000e+01</td>\n",
       "      <td>2.000000e+01</td>\n",
       "      <td>5.057000e+03</td>\n",
       "      <td>1.460470e+06</td>\n",
       "      <td>2.016000e+03</td>\n",
       "      <td>1.760708e+04</td>\n",
       "      <td>6.111000e+03</td>\n",
       "      <td>2.160000e+02</td>\n",
       "    </tr>\n",
       "  </tbody>\n",
       "</table>\n",
       "</div>"
      ],
      "text/plain": [
       "            bedroom      bathroom    squarefeet     tax_value     yearbuilt  \\\n",
       "count  1.151951e+06  1.151951e+06  1.151951e+06  1.151951e+06  1.151951e+06   \n",
       "mean   3.261111e+00  2.150434e+00  1.759565e+03  3.753621e+05  1.960348e+03   \n",
       "std    8.952470e-01  8.390511e-01  7.175707e+02  2.651655e+05  2.161965e+01   \n",
       "min    0.000000e+00  0.000000e+00  1.000000e+00  2.200000e+01  1.801000e+03   \n",
       "25%    3.000000e+00  2.000000e+00  1.245000e+03  1.835090e+05  1.949000e+03   \n",
       "50%    3.000000e+00  2.000000e+00  1.595000e+03  3.164230e+05  1.958000e+03   \n",
       "75%    4.000000e+00  3.000000e+00  2.123000e+03  5.005110e+05  1.974000e+03   \n",
       "max    1.400000e+01  2.000000e+01  5.057000e+03  1.460470e+06  2.016000e+03   \n",
       "\n",
       "          taxamount          fips           age  \n",
       "count  1.151951e+06  1.151951e+06  1.151951e+06  \n",
       "mean   4.635686e+03  6.048360e+03  5.665246e+01  \n",
       "std    3.057071e+03  2.046557e+01  2.161965e+01  \n",
       "min    6.340000e+00  6.037000e+03  1.000000e+00  \n",
       "25%    2.475840e+03  6.037000e+03  4.300000e+01  \n",
       "50%    3.976760e+03  6.037000e+03  5.900000e+01  \n",
       "75%    6.035030e+03  6.059000e+03  6.800000e+01  \n",
       "max    1.760708e+04  6.111000e+03  2.160000e+02  "
      ]
     },
     "execution_count": 49,
     "metadata": {},
     "output_type": "execute_result"
    }
   ],
   "source": [
    "train.describe()"
   ]
  },
  {
   "cell_type": "code",
   "execution_count": 50,
   "id": "057aa7c4",
   "metadata": {
    "scrolled": true
   },
   "outputs": [
    {
     "data": {
      "text/html": [
       "<div>\n",
       "<style scoped>\n",
       "    .dataframe tbody tr th:only-of-type {\n",
       "        vertical-align: middle;\n",
       "    }\n",
       "\n",
       "    .dataframe tbody tr th {\n",
       "        vertical-align: top;\n",
       "    }\n",
       "\n",
       "    .dataframe thead th {\n",
       "        text-align: right;\n",
       "    }\n",
       "</style>\n",
       "<table border=\"1\" class=\"dataframe\">\n",
       "  <thead>\n",
       "    <tr style=\"text-align: right;\">\n",
       "      <th></th>\n",
       "      <th>bedroom</th>\n",
       "      <th>bathroom</th>\n",
       "      <th>squarefeet</th>\n",
       "      <th>tax_value</th>\n",
       "      <th>yearbuilt</th>\n",
       "      <th>taxamount</th>\n",
       "      <th>fips</th>\n",
       "      <th>age</th>\n",
       "    </tr>\n",
       "  </thead>\n",
       "  <tbody>\n",
       "    <tr>\n",
       "      <th>2023880</th>\n",
       "      <td>4.0</td>\n",
       "      <td>2.0</td>\n",
       "      <td>1237.0</td>\n",
       "      <td>22.0</td>\n",
       "      <td>1957.0</td>\n",
       "      <td>1595.67</td>\n",
       "      <td>6037.0</td>\n",
       "      <td>60.0</td>\n",
       "    </tr>\n",
       "    <tr>\n",
       "      <th>570504</th>\n",
       "      <td>0.0</td>\n",
       "      <td>0.0</td>\n",
       "      <td>20.0</td>\n",
       "      <td>22.0</td>\n",
       "      <td>2005.0</td>\n",
       "      <td>24.92</td>\n",
       "      <td>6037.0</td>\n",
       "      <td>12.0</td>\n",
       "    </tr>\n",
       "    <tr>\n",
       "      <th>1765721</th>\n",
       "      <td>2.0</td>\n",
       "      <td>1.0</td>\n",
       "      <td>943.0</td>\n",
       "      <td>22.0</td>\n",
       "      <td>1949.0</td>\n",
       "      <td>135.93</td>\n",
       "      <td>6037.0</td>\n",
       "      <td>68.0</td>\n",
       "    </tr>\n",
       "    <tr>\n",
       "      <th>1509785</th>\n",
       "      <td>0.0</td>\n",
       "      <td>0.0</td>\n",
       "      <td>792.0</td>\n",
       "      <td>23.0</td>\n",
       "      <td>1985.0</td>\n",
       "      <td>99.24</td>\n",
       "      <td>6037.0</td>\n",
       "      <td>32.0</td>\n",
       "    </tr>\n",
       "    <tr>\n",
       "      <th>1851761</th>\n",
       "      <td>3.0</td>\n",
       "      <td>3.0</td>\n",
       "      <td>1428.0</td>\n",
       "      <td>22.0</td>\n",
       "      <td>1954.0</td>\n",
       "      <td>6834.33</td>\n",
       "      <td>6037.0</td>\n",
       "      <td>63.0</td>\n",
       "    </tr>\n",
       "    <tr>\n",
       "      <th>2125248</th>\n",
       "      <td>3.0</td>\n",
       "      <td>1.0</td>\n",
       "      <td>1128.0</td>\n",
       "      <td>23.0</td>\n",
       "      <td>1925.0</td>\n",
       "      <td>427.61</td>\n",
       "      <td>6037.0</td>\n",
       "      <td>92.0</td>\n",
       "    </tr>\n",
       "    <tr>\n",
       "      <th>1259495</th>\n",
       "      <td>0.0</td>\n",
       "      <td>0.0</td>\n",
       "      <td>150.0</td>\n",
       "      <td>22.0</td>\n",
       "      <td>2005.0</td>\n",
       "      <td>24.92</td>\n",
       "      <td>6037.0</td>\n",
       "      <td>12.0</td>\n",
       "    </tr>\n",
       "    <tr>\n",
       "      <th>1574215</th>\n",
       "      <td>2.0</td>\n",
       "      <td>1.0</td>\n",
       "      <td>924.0</td>\n",
       "      <td>23.0</td>\n",
       "      <td>1949.0</td>\n",
       "      <td>113.50</td>\n",
       "      <td>6037.0</td>\n",
       "      <td>68.0</td>\n",
       "    </tr>\n",
       "    <tr>\n",
       "      <th>764209</th>\n",
       "      <td>0.0</td>\n",
       "      <td>0.0</td>\n",
       "      <td>140.0</td>\n",
       "      <td>22.0</td>\n",
       "      <td>2005.0</td>\n",
       "      <td>24.92</td>\n",
       "      <td>6037.0</td>\n",
       "      <td>12.0</td>\n",
       "    </tr>\n",
       "    <tr>\n",
       "      <th>1619739</th>\n",
       "      <td>2.0</td>\n",
       "      <td>1.0</td>\n",
       "      <td>800.0</td>\n",
       "      <td>23.0</td>\n",
       "      <td>1922.0</td>\n",
       "      <td>403.33</td>\n",
       "      <td>6037.0</td>\n",
       "      <td>95.0</td>\n",
       "    </tr>\n",
       "    <tr>\n",
       "      <th>1151823</th>\n",
       "      <td>0.0</td>\n",
       "      <td>0.0</td>\n",
       "      <td>140.0</td>\n",
       "      <td>22.0</td>\n",
       "      <td>2005.0</td>\n",
       "      <td>24.92</td>\n",
       "      <td>6037.0</td>\n",
       "      <td>12.0</td>\n",
       "    </tr>\n",
       "  </tbody>\n",
       "</table>\n",
       "</div>"
      ],
      "text/plain": [
       "         bedroom  bathroom  squarefeet  tax_value  yearbuilt  taxamount  \\\n",
       "2023880      4.0       2.0      1237.0       22.0     1957.0    1595.67   \n",
       "570504       0.0       0.0        20.0       22.0     2005.0      24.92   \n",
       "1765721      2.0       1.0       943.0       22.0     1949.0     135.93   \n",
       "1509785      0.0       0.0       792.0       23.0     1985.0      99.24   \n",
       "1851761      3.0       3.0      1428.0       22.0     1954.0    6834.33   \n",
       "2125248      3.0       1.0      1128.0       23.0     1925.0     427.61   \n",
       "1259495      0.0       0.0       150.0       22.0     2005.0      24.92   \n",
       "1574215      2.0       1.0       924.0       23.0     1949.0     113.50   \n",
       "764209       0.0       0.0       140.0       22.0     2005.0      24.92   \n",
       "1619739      2.0       1.0       800.0       23.0     1922.0     403.33   \n",
       "1151823      0.0       0.0       140.0       22.0     2005.0      24.92   \n",
       "\n",
       "           fips   age  \n",
       "2023880  6037.0  60.0  \n",
       "570504   6037.0  12.0  \n",
       "1765721  6037.0  68.0  \n",
       "1509785  6037.0  32.0  \n",
       "1851761  6037.0  63.0  \n",
       "2125248  6037.0  92.0  \n",
       "1259495  6037.0  12.0  \n",
       "1574215  6037.0  68.0  \n",
       "764209   6037.0  12.0  \n",
       "1619739  6037.0  95.0  \n",
       "1151823  6037.0  12.0  "
      ]
     },
     "execution_count": 50,
     "metadata": {},
     "output_type": "execute_result"
    }
   ],
   "source": [
    "train[train.tax_value<100]"
   ]
  },
  {
   "cell_type": "code",
   "execution_count": 51,
   "id": "db2240f7",
   "metadata": {},
   "outputs": [],
   "source": [
    "# columns of interest as potenital usage in model\n",
    "columns = ['bedroom', 'bathroom', 'squarefeet', 'yearbuilt',\n",
    "       'taxamount','tax_value','age']"
   ]
  },
  {
   "cell_type": "code",
   "execution_count": 52,
   "id": "58b7fae1",
   "metadata": {
    "scrolled": false
   },
   "outputs": [
    {
     "data": {
      "text/html": [
       "<div>\n",
       "<style scoped>\n",
       "    .dataframe tbody tr th:only-of-type {\n",
       "        vertical-align: middle;\n",
       "    }\n",
       "\n",
       "    .dataframe tbody tr th {\n",
       "        vertical-align: top;\n",
       "    }\n",
       "\n",
       "    .dataframe thead th {\n",
       "        text-align: right;\n",
       "    }\n",
       "</style>\n",
       "<table border=\"1\" class=\"dataframe\">\n",
       "  <thead>\n",
       "    <tr style=\"text-align: right;\">\n",
       "      <th></th>\n",
       "      <th>bedroom</th>\n",
       "      <th>bathroom</th>\n",
       "      <th>squarefeet</th>\n",
       "      <th>tax_value</th>\n",
       "      <th>yearbuilt</th>\n",
       "      <th>taxamount</th>\n",
       "      <th>fips</th>\n",
       "      <th>age</th>\n",
       "    </tr>\n",
       "  </thead>\n",
       "  <tbody>\n",
       "    <tr>\n",
       "      <th>bedroom</th>\n",
       "      <td>1.000000</td>\n",
       "      <td>0.619506</td>\n",
       "      <td>0.644076</td>\n",
       "      <td>0.260295</td>\n",
       "      <td>0.425246</td>\n",
       "      <td>0.261996</td>\n",
       "      <td>0.187788</td>\n",
       "      <td>-0.425246</td>\n",
       "    </tr>\n",
       "    <tr>\n",
       "      <th>bathroom</th>\n",
       "      <td>0.619506</td>\n",
       "      <td>1.000000</td>\n",
       "      <td>0.810440</td>\n",
       "      <td>0.433123</td>\n",
       "      <td>0.573774</td>\n",
       "      <td>0.432671</td>\n",
       "      <td>0.198521</td>\n",
       "      <td>-0.573774</td>\n",
       "    </tr>\n",
       "    <tr>\n",
       "      <th>squarefeet</th>\n",
       "      <td>0.644076</td>\n",
       "      <td>0.810440</td>\n",
       "      <td>1.000000</td>\n",
       "      <td>0.476794</td>\n",
       "      <td>0.510152</td>\n",
       "      <td>0.474157</td>\n",
       "      <td>0.197782</td>\n",
       "      <td>-0.510152</td>\n",
       "    </tr>\n",
       "    <tr>\n",
       "      <th>tax_value</th>\n",
       "      <td>0.260295</td>\n",
       "      <td>0.433123</td>\n",
       "      <td>0.476794</td>\n",
       "      <td>1.000000</td>\n",
       "      <td>0.275825</td>\n",
       "      <td>0.976400</td>\n",
       "      <td>0.162982</td>\n",
       "      <td>-0.275825</td>\n",
       "    </tr>\n",
       "    <tr>\n",
       "      <th>yearbuilt</th>\n",
       "      <td>0.425246</td>\n",
       "      <td>0.573774</td>\n",
       "      <td>0.510152</td>\n",
       "      <td>0.275825</td>\n",
       "      <td>1.000000</td>\n",
       "      <td>0.273808</td>\n",
       "      <td>0.416903</td>\n",
       "      <td>-1.000000</td>\n",
       "    </tr>\n",
       "    <tr>\n",
       "      <th>taxamount</th>\n",
       "      <td>0.261996</td>\n",
       "      <td>0.432671</td>\n",
       "      <td>0.474157</td>\n",
       "      <td>0.976400</td>\n",
       "      <td>0.273808</td>\n",
       "      <td>1.000000</td>\n",
       "      <td>0.093082</td>\n",
       "      <td>-0.273808</td>\n",
       "    </tr>\n",
       "    <tr>\n",
       "      <th>fips</th>\n",
       "      <td>0.187788</td>\n",
       "      <td>0.198521</td>\n",
       "      <td>0.197782</td>\n",
       "      <td>0.162982</td>\n",
       "      <td>0.416903</td>\n",
       "      <td>0.093082</td>\n",
       "      <td>1.000000</td>\n",
       "      <td>-0.416903</td>\n",
       "    </tr>\n",
       "    <tr>\n",
       "      <th>age</th>\n",
       "      <td>-0.425246</td>\n",
       "      <td>-0.573774</td>\n",
       "      <td>-0.510152</td>\n",
       "      <td>-0.275825</td>\n",
       "      <td>-1.000000</td>\n",
       "      <td>-0.273808</td>\n",
       "      <td>-0.416903</td>\n",
       "      <td>1.000000</td>\n",
       "    </tr>\n",
       "  </tbody>\n",
       "</table>\n",
       "</div>"
      ],
      "text/plain": [
       "             bedroom  bathroom  squarefeet  tax_value  yearbuilt  taxamount  \\\n",
       "bedroom     1.000000  0.619506    0.644076   0.260295   0.425246   0.261996   \n",
       "bathroom    0.619506  1.000000    0.810440   0.433123   0.573774   0.432671   \n",
       "squarefeet  0.644076  0.810440    1.000000   0.476794   0.510152   0.474157   \n",
       "tax_value   0.260295  0.433123    0.476794   1.000000   0.275825   0.976400   \n",
       "yearbuilt   0.425246  0.573774    0.510152   0.275825   1.000000   0.273808   \n",
       "taxamount   0.261996  0.432671    0.474157   0.976400   0.273808   1.000000   \n",
       "fips        0.187788  0.198521    0.197782   0.162982   0.416903   0.093082   \n",
       "age        -0.425246 -0.573774   -0.510152  -0.275825  -1.000000  -0.273808   \n",
       "\n",
       "                fips       age  \n",
       "bedroom     0.187788 -0.425246  \n",
       "bathroom    0.198521 -0.573774  \n",
       "squarefeet  0.197782 -0.510152  \n",
       "tax_value   0.162982 -0.275825  \n",
       "yearbuilt   0.416903 -1.000000  \n",
       "taxamount   0.093082 -0.273808  \n",
       "fips        1.000000 -0.416903  \n",
       "age        -0.416903  1.000000  "
      ]
     },
     "execution_count": 52,
     "metadata": {},
     "output_type": "execute_result"
    }
   ],
   "source": [
    "# correaltion between variables\n",
    "zillow_corr = train.corr(method='spearman')\n",
    "zillow_corr"
   ]
  },
  {
   "cell_type": "code",
   "execution_count": 53,
   "id": "c0584b99",
   "metadata": {
    "scrolled": false
   },
   "outputs": [
    {
     "data": {
      "image/png": "[encoded data removed]",
      "text/plain": [
       "<Figure size 432x288 with 2 Axes>"
      ]
     },
     "metadata": {
      "needs_background": "light"
     },
     "output_type": "display_data"
    }
   ],
   "source": [
    "# pass my correlation matrix to Seaborn's heatmap \n",
    "kwargs = {'alpha':.9,\n",
    "          'linewidth':3, \n",
    "          'linestyle':'-',\n",
    "          'linecolor':'black'}\n",
    "\n",
    "sns.heatmap(zillow_corr, cmap='Purples', annot=True, \n",
    "            mask=np.triu(zillow_corr), **kwargs)\n",
    "plt.show()"
   ]
  },
  {
   "cell_type": "markdown",
   "id": "33d491d8",
   "metadata": {},
   "source": [
    "### outliers Taken out\n",
    "The strongest correlation is tax_value and taxamount at 0.98 The strongest correlation is squarefeet vs bathrooms at 0.82\n",
    "* Next strongest is squarefeet vs bedrooms at 0.65\n",
    "* Next strongest is bathroom vs bedroom at 0.63\n",
    "* Others above 0.50:\n",
    "  * yearbuild(age) vs bathrooms at 0.57\n",
    "  * taxammount vs squarefeet at 0.50\n",
    "  * year built(age) vs squarefeet at 0.51\n",
    "The target is tax_value has a strong correlation with taxamount (0.98), and a correlation of (0.50) with squarefeet"
   ]
  },
  {
   "cell_type": "markdown",
   "id": "e4272028",
   "metadata": {},
   "source": [
    "### with outliers\n",
    "The strongest correlation is tax_value and taxamount at 0.98\n",
    "The strongest correlation is squarefeet vs bathrooms at 0.83\n",
    "\n",
    "* Next strongest is  squarefeet vs bedrooms at 0.66\n",
    "* Next  strongest is  bathroom vs bedroom at 0.63\n",
    "* Others above 0.5:\n",
    "        * yearbuild(age) vs bathrooms at 0.57\n",
    "        * taxammount vs squarefeet at 0.52\n",
    "        * year built(age) vs squarefeet at 0.51\n",
    "        \n",
    "The **target is tax_value** has a strong correlation with taxamount (0.98), and a correlation of (0.52) with squarefeet \n",
    "        "
   ]
  },
  {
   "cell_type": "code",
   "execution_count": 54,
   "id": "8c51940b",
   "metadata": {},
   "outputs": [
    {
     "data": {
      "text/html": [
       "<div>\n",
       "<style scoped>\n",
       "    .dataframe tbody tr th:only-of-type {\n",
       "        vertical-align: middle;\n",
       "    }\n",
       "\n",
       "    .dataframe tbody tr th {\n",
       "        vertical-align: top;\n",
       "    }\n",
       "\n",
       "    .dataframe thead th {\n",
       "        text-align: right;\n",
       "    }\n",
       "</style>\n",
       "<table border=\"1\" class=\"dataframe\">\n",
       "  <thead>\n",
       "    <tr style=\"text-align: right;\">\n",
       "      <th></th>\n",
       "      <th>feature</th>\n",
       "      <th>VIF</th>\n",
       "    </tr>\n",
       "  </thead>\n",
       "  <tbody>\n",
       "    <tr>\n",
       "      <th>0</th>\n",
       "      <td>yearbuilt</td>\n",
       "      <td>15.071644</td>\n",
       "    </tr>\n",
       "    <tr>\n",
       "      <th>1</th>\n",
       "      <td>taxamount</td>\n",
       "      <td>3.552628</td>\n",
       "    </tr>\n",
       "    <tr>\n",
       "      <th>2</th>\n",
       "      <td>bedroom</td>\n",
       "      <td>15.669824</td>\n",
       "    </tr>\n",
       "  </tbody>\n",
       "</table>\n",
       "</div>"
      ],
      "text/plain": [
       "     feature        VIF\n",
       "0  yearbuilt  15.071644\n",
       "1  taxamount   3.552628\n",
       "2    bedroom  15.669824"
      ]
     },
     "execution_count": 54,
     "metadata": {},
     "output_type": "execute_result"
    }
   ],
   "source": [
    "X = train[[ 'yearbuilt',\n",
    "       'taxamount','bedroom']]\n",
    "# VIF dataframe\n",
    "vif_data = pd.DataFrame()\n",
    "vif_data[\"feature\"] = X.columns\n",
    "  \n",
    "# calculating VIF for each feature\n",
    "vif_data[\"VIF\"] = [variance_inflation_factor(X.values, i)\n",
    "                          for i in range(len(X.columns))]\n",
    "  \n",
    "vif_data"
   ]
  },
  {
   "cell_type": "code",
   "execution_count": 55,
   "id": "b71ac08a",
   "metadata": {},
   "outputs": [
    {
     "data": {
      "text/html": [
       "<div>\n",
       "<style scoped>\n",
       "    .dataframe tbody tr th:only-of-type {\n",
       "        vertical-align: middle;\n",
       "    }\n",
       "\n",
       "    .dataframe tbody tr th {\n",
       "        vertical-align: top;\n",
       "    }\n",
       "\n",
       "    .dataframe thead th {\n",
       "        text-align: right;\n",
       "    }\n",
       "</style>\n",
       "<table border=\"1\" class=\"dataframe\">\n",
       "  <thead>\n",
       "    <tr style=\"text-align: right;\">\n",
       "      <th></th>\n",
       "      <th>feature</th>\n",
       "      <th>VIF</th>\n",
       "    </tr>\n",
       "  </thead>\n",
       "  <tbody>\n",
       "    <tr>\n",
       "      <th>0</th>\n",
       "      <td>bedroom</td>\n",
       "      <td>20.357679</td>\n",
       "    </tr>\n",
       "    <tr>\n",
       "      <th>1</th>\n",
       "      <td>bathroom</td>\n",
       "      <td>23.650302</td>\n",
       "    </tr>\n",
       "    <tr>\n",
       "      <th>2</th>\n",
       "      <td>squarefeet</td>\n",
       "      <td>24.370896</td>\n",
       "    </tr>\n",
       "    <tr>\n",
       "      <th>3</th>\n",
       "      <td>taxamount</td>\n",
       "      <td>4.729849</td>\n",
       "    </tr>\n",
       "    <tr>\n",
       "      <th>4</th>\n",
       "      <td>age</td>\n",
       "      <td>4.193125</td>\n",
       "    </tr>\n",
       "  </tbody>\n",
       "</table>\n",
       "</div>"
      ],
      "text/plain": [
       "      feature        VIF\n",
       "0     bedroom  20.357679\n",
       "1    bathroom  23.650302\n",
       "2  squarefeet  24.370896\n",
       "3   taxamount   4.729849\n",
       "4         age   4.193125"
      ]
     },
     "execution_count": 55,
     "metadata": {},
     "output_type": "execute_result"
    }
   ],
   "source": [
    "X = train[['bedroom', 'bathroom', 'squarefeet' ,\n",
    "       'taxamount','age' ]]\n",
    "# VIF dataframe\n",
    "vif_data = pd.DataFrame()\n",
    "vif_data[\"feature\"] = X.columns\n",
    "  \n",
    "# calculating VIF for each feature\n",
    "vif_data[\"VIF\"] = [variance_inflation_factor(X.values, i)\n",
    "                          for i in range(len(X.columns))]\n",
    "  \n",
    "vif_data"
   ]
  },
  {
   "cell_type": "code",
   "execution_count": 56,
   "id": "c5662b8f",
   "metadata": {},
   "outputs": [
    {
     "data": {
      "text/html": [
       "<div>\n",
       "<style scoped>\n",
       "    .dataframe tbody tr th:only-of-type {\n",
       "        vertical-align: middle;\n",
       "    }\n",
       "\n",
       "    .dataframe tbody tr th {\n",
       "        vertical-align: top;\n",
       "    }\n",
       "\n",
       "    .dataframe thead th {\n",
       "        text-align: right;\n",
       "    }\n",
       "</style>\n",
       "<table border=\"1\" class=\"dataframe\">\n",
       "  <thead>\n",
       "    <tr style=\"text-align: right;\">\n",
       "      <th></th>\n",
       "      <th>feature</th>\n",
       "      <th>VIF</th>\n",
       "    </tr>\n",
       "  </thead>\n",
       "  <tbody>\n",
       "    <tr>\n",
       "      <th>0</th>\n",
       "      <td>squarefeet</td>\n",
       "      <td>6.153265</td>\n",
       "    </tr>\n",
       "    <tr>\n",
       "      <th>1</th>\n",
       "      <td>taxamount</td>\n",
       "      <td>4.649956</td>\n",
       "    </tr>\n",
       "    <tr>\n",
       "      <th>2</th>\n",
       "      <td>age</td>\n",
       "      <td>2.795005</td>\n",
       "    </tr>\n",
       "  </tbody>\n",
       "</table>\n",
       "</div>"
      ],
      "text/plain": [
       "      feature       VIF\n",
       "0  squarefeet  6.153265\n",
       "1   taxamount  4.649956\n",
       "2         age  2.795005"
      ]
     },
     "execution_count": 56,
     "metadata": {},
     "output_type": "execute_result"
    }
   ],
   "source": [
    "X = train[[ 'squarefeet' ,\n",
    "       'taxamount','age']]\n",
    "# VIF dataframe\n",
    "vif_data = pd.DataFrame()\n",
    "vif_data[\"feature\"] = X.columns\n",
    "  \n",
    "# calculating VIF for each feature\n",
    "vif_data[\"VIF\"] = [variance_inflation_factor(X.values, i)\n",
    "                          for i in range(len(X.columns))]\n",
    "  \n",
    "vif_data"
   ]
  },
  {
   "cell_type": "markdown",
   "id": "d9a603e4",
   "metadata": {},
   "source": [
    "### might use these features for model since the combination had the most independence \n",
    "* 'squarefeet' ,'taxamount','bedroom'\n",
    "* 'squarefeet' ,'taxamount','age'\n",
    "\n",
    "### Maybe these features but there is a vif score above 5 in (bedroom/bathroom)\n",
    "* 'squarefeet' , 'taxamount','age', 'bedroom'(7.22)\n",
    "* 'squarefeet' , 'taxamount','age', 'bathroom'(6.38)\n",
    "\n",
    "###  * Still need to see which ones have an association with target variable\n",
    "\n",
    "## After taking outlier out previous groups VIF changed \n",
    "    * maybe use taxamount and square feet"
   ]
  },
  {
   "cell_type": "markdown",
   "id": "6da8206a",
   "metadata": {},
   "source": [
    "### 3.  Write a function named plot_variable_pairs that accepts a dataframe as input and plots all of the pairwise relationships along with the regression line for each pair."
   ]
  },
  {
   "cell_type": "code",
   "execution_count": 57,
   "id": "18045a44",
   "metadata": {},
   "outputs": [],
   "source": [
    "# how to create a list from train columns\n",
    "col = train.columns.to_list()"
   ]
  },
  {
   "cell_type": "markdown",
   "id": "d914640f",
   "metadata": {},
   "source": [
    "### reverse the columns\n",
    "col.reverse()"
   ]
  },
  {
   "cell_type": "code",
   "execution_count": 58,
   "id": "8dc8663e",
   "metadata": {},
   "outputs": [
    {
     "name": "stdout",
     "output_type": "stream",
     "text": [
      "<class 'pandas.core.frame.DataFrame'>\n",
      "Int64Index: 1151951 entries, 1032588 to 66871\n",
      "Data columns (total 8 columns):\n",
      " #   Column      Non-Null Count    Dtype  \n",
      "---  ------      --------------    -----  \n",
      " 0   bedroom     1151951 non-null  float64\n",
      " 1   bathroom    1151951 non-null  float64\n",
      " 2   squarefeet  1151951 non-null  float64\n",
      " 3   tax_value   1151951 non-null  float64\n",
      " 4   yearbuilt   1151951 non-null  float64\n",
      " 5   taxamount   1151951 non-null  float64\n",
      " 6   fips        1151951 non-null  float64\n",
      " 7   age         1151951 non-null  float64\n",
      "dtypes: float64(8)\n",
      "memory usage: 79.1 MB\n"
     ]
    }
   ],
   "source": [
    "train.info()"
   ]
  },
  {
   "cell_type": "code",
   "execution_count": 59,
   "id": "d6f467aa",
   "metadata": {},
   "outputs": [],
   "source": [
    "def plot_variable_pair(df):\n",
    "    columns = df.columns.to_list()\n",
    "    for i, col in enumerate(columns):\n",
    "        sns.lmplot(data=df, x=col, y='tax_value', line_kws={'color':'red'})\n",
    "        plt.show()"
   ]
  },
  {
   "cell_type": "markdown",
   "id": "49558f8f",
   "metadata": {},
   "source": [
    "def plot_variable_pair1(df):\n",
    "    columns = df.columns.to_list()\n",
    "    for i, col in enumerate(columns):\n",
    "        subplot_number = i + 1\n",
    "        plt.subplot(1,4,subplot_number)\n",
    "        plt.title(col)\n",
    "        sns.lmplot(data=df, x=df[col], y='tax_value', line_kws={'color':'red'})\n",
    "        plt.show()"
   ]
  },
  {
   "cell_type": "code",
   "execution_count": 60,
   "id": "09a967f2",
   "metadata": {
    "scrolled": true
   },
   "outputs": [
    {
     "data": {
      "image/png": "[encoded data removed]",
      "text/plain": [
       "<Figure size 360x360 with 1 Axes>"
      ]
     },
     "metadata": {
      "needs_background": "light"
     },
     "output_type": "display_data"
    },
    {
     "data": {
      "image/png": "[encoded data removed]",
      "text/plain": [
       "<Figure size 360x360 with 1 Axes>"
      ]
     },
     "metadata": {
      "needs_background": "light"
     },
     "output_type": "display_data"
    },
    {
     "data": {
      "image/png": "[encoded data removed]",
      "text/plain": [
       "<Figure size 360x360 with 1 Axes>"
      ]
     },
     "metadata": {
      "needs_background": "light"
     },
     "output_type": "display_data"
    },
    {
     "data": {
      "image/png": "[encoded data removed]",
      "text/plain": [
       "<Figure size 360x360 with 1 Axes>"
      ]
     },
     "metadata": {
      "needs_background": "light"
     },
     "output_type": "display_data"
    },
    {
     "data": {
      "image/png": "[encoded data removed]",
      "text/plain": [
       "<Figure size 360x360 with 1 Axes>"
      ]
     },
     "metadata": {
      "needs_background": "light"
     },
     "output_type": "display_data"
    },
    {
     "data": {
      "image/png": "[encoded data removed]",
      "text/plain": [
       "<Figure size 360x360 with 1 Axes>"
      ]
     },
     "metadata": {
      "needs_background": "light"
     },
     "output_type": "display_data"
    },
    {
     "data": {
      "image/png": "[encoded data removed]",
      "text/plain": [
       "<Figure size 360x360 with 1 Axes>"
      ]
     },
     "metadata": {
      "needs_background": "light"
     },
     "output_type": "display_data"
    },
    {
     "data": {
      "image/png": "[encoded data removed]",
      "text/plain": [
       "<Figure size 360x360 with 1 Axes>"
      ]
     },
     "metadata": {
      "needs_background": "light"
     },
     "output_type": "display_data"
    }
   ],
   "source": [
    "plot_variable_pair(train)"
   ]
  },
  {
   "cell_type": "code",
   "execution_count": 61,
   "id": "0a17d9bd",
   "metadata": {
    "scrolled": false
   },
   "outputs": [
    {
     "data": {
      "text/plain": [
       "<seaborn.axisgrid.JointGrid at 0x175a366a0>"
      ]
     },
     "execution_count": 61,
     "metadata": {},
     "output_type": "execute_result"
    },
    {
     "data": {
      "image/png": "[encoded data removed]",
      "text/plain": [
       "<Figure size 432x432 with 3 Axes>"
      ]
     },
     "metadata": {
      "needs_background": "light"
     },
     "output_type": "display_data"
    }
   ],
   "source": [
    "sns.jointplot(data=train, x='bedroom', y='tax_value', kind='reg')"
   ]
  },
  {
   "cell_type": "markdown",
   "id": "26c4816a",
   "metadata": {},
   "source": [
    "Normal distribution, linear function has a positive slope close to 0."
   ]
  },
  {
   "cell_type": "code",
   "execution_count": null,
   "id": "d8e64184",
   "metadata": {
    "scrolled": true
   },
   "outputs": [],
   "source": [
    "sns.jointplot(data=train, x='bathroom', y='tax_value', kind='reg')"
   ]
  },
  {
   "cell_type": "markdown",
   "id": "f64fe811",
   "metadata": {},
   "source": [
    "normal distribution, slope is positive"
   ]
  },
  {
   "cell_type": "code",
   "execution_count": null,
   "id": "ca1fe041",
   "metadata": {},
   "outputs": [],
   "source": []
  },
  {
   "cell_type": "code",
   "execution_count": null,
   "id": "7890526b",
   "metadata": {
    "scrolled": true
   },
   "outputs": [],
   "source": [
    "sns.jointplot(data=train, x='squarefeet', y='tax_value', kind='reg')"
   ]
  },
  {
   "cell_type": "code",
   "execution_count": null,
   "id": "6672cd26",
   "metadata": {},
   "outputs": [],
   "source": [
    "Outliers are skewing the data here"
   ]
  },
  {
   "cell_type": "code",
   "execution_count": null,
   "id": "415ca451",
   "metadata": {
    "scrolled": false
   },
   "outputs": [],
   "source": [
    "sns.jointplot(data=train, x='yearbuilt', y='tax_value', kind='reg')"
   ]
  },
  {
   "cell_type": "markdown",
   "id": "99271ca8",
   "metadata": {},
   "source": [
    "line has a slope close to 0"
   ]
  },
  {
   "cell_type": "code",
   "execution_count": null,
   "id": "1fc90e0b",
   "metadata": {
    "scrolled": false
   },
   "outputs": [],
   "source": [
    "sns.jointplot(data=train, x='taxamount', y='tax_value', kind='reg')"
   ]
  },
  {
   "cell_type": "markdown",
   "id": "fb47e824",
   "metadata": {},
   "source": [
    "Strong positive correlation, outliers are present but doent seem to skew at this axis scale"
   ]
  },
  {
   "cell_type": "code",
   "execution_count": null,
   "id": "94bcc504",
   "metadata": {
    "scrolled": false
   },
   "outputs": [],
   "source": [
    "sns.jointplot(data=train, x='age', y='tax_value', kind='reg')"
   ]
  },
  {
   "cell_type": "markdown",
   "id": "d58efd57",
   "metadata": {},
   "source": [
    "Slope is close to 0"
   ]
  },
  {
   "cell_type": "code",
   "execution_count": null,
   "id": "b3859fbd",
   "metadata": {
    "scrolled": true
   },
   "outputs": [],
   "source": [
    "sns.pairplot(data=train.drop(columns='fips'),\n",
    "            corner=True,kind='reg')\n",
    "plt.show()"
   ]
  },
  {
   "cell_type": "code",
   "execution_count": null,
   "id": "a17c53bd",
   "metadata": {},
   "outputs": [],
   "source": []
  },
  {
   "cell_type": "markdown",
   "id": "ebafff83",
   "metadata": {},
   "source": [
    "### 4. Write a function named plot_categorical_and_continuous_vars that accepts your dataframe and the name of the columns that hold the continuous and categorical features and outputs 3 different plots for visualizing a categorical variable and a continuous variable."
   ]
  },
  {
   "cell_type": "code",
   "execution_count": null,
   "id": "a8376515",
   "metadata": {
    "scrolled": false
   },
   "outputs": [],
   "source": [
    "sample.dtypes"
   ]
  },
  {
   "cell_type": "code",
   "execution_count": null,
   "id": "df5e9f6d",
   "metadata": {},
   "outputs": [],
   "source": [
    "train.fips = train.fips.astype(object)"
   ]
  },
  {
   "cell_type": "code",
   "execution_count": null,
   "id": "00baa939",
   "metadata": {},
   "outputs": [],
   "source": [
    "train.bedroom = train.bedroom.astype(object)"
   ]
  },
  {
   "cell_type": "code",
   "execution_count": null,
   "id": "59cf113b",
   "metadata": {},
   "outputs": [],
   "source": [
    "train.bathroom = train.bathroom.astype(object)"
   ]
  },
  {
   "cell_type": "code",
   "execution_count": null,
   "id": "e3b9ba7e",
   "metadata": {},
   "outputs": [],
   "source": [
    "sample= train.sample(1_000, random_state=123)"
   ]
  },
  {
   "cell_type": "code",
   "execution_count": null,
   "id": "cd04abc7",
   "metadata": {},
   "outputs": [],
   "source": [
    "train.dtypes"
   ]
  },
  {
   "cell_type": "code",
   "execution_count": null,
   "id": "063f3ecd",
   "metadata": {},
   "outputs": [],
   "source": [
    "def plot_categorical_and_continuous_vars(df, cat, cont):\n",
    "\n",
    "    plt.title(cat, cont)\n",
    "    \n",
    "    sns.boxplot(x = df[cat], y = df[cont])\n",
    "    sns.barplot(x = df[cat], y = df[cont])\n",
    "    sns.violinplot(x=df[cat], y=df[cont])\n",
    "    \n",
    "    "
   ]
  },
  {
   "cell_type": "code",
   "execution_count": null,
   "id": "0bb6e28b",
   "metadata": {},
   "outputs": [],
   "source": [
    "cat_vars = ['bathroom', 'bedroom', 'fips']\n",
    "cont_vars = ['taxamount', 'tax_value', 'yearbuilt','age']"
   ]
  },
  {
   "cell_type": "code",
   "execution_count": null,
   "id": "6f4499d5",
   "metadata": {},
   "outputs": [],
   "source": [
    "def plot_categorical_and_continuous_vars(df, cat_vars, cont_vars):\n",
    "    for col in cat_vars:\n",
    "        for col2 in cont_vars:\n",
    "            fig, (ax1, ax2, ax3) = plt.subplots(1,3, figsize=(16,6))\n",
    "            fig.suptitle(f'{col} vs. {col2}')\n",
    "            sns.boxplot(data=df, x=col, y=col2, ax=ax1)\n",
    "            sns.violinplot(data=df, x=col, y=col2, ax=ax2)\n",
    "            sns.barplot(data=df, x=col, y=col2, ax=ax3)\n",
    "            plt.show()\n"
   ]
  },
  {
   "cell_type": "code",
   "execution_count": null,
   "id": "47cd825a",
   "metadata": {
    "scrolled": true
   },
   "outputs": [],
   "source": [
    "plot_categorical_and_continuous_vars(sample,cat_vars, cont_vars)"
   ]
  },
  {
   "cell_type": "code",
   "execution_count": null,
   "id": "14e54c52",
   "metadata": {},
   "outputs": [],
   "source": []
  },
  {
   "cell_type": "code",
   "execution_count": null,
   "id": "769ea1f1",
   "metadata": {},
   "outputs": [],
   "source": [
    "sample.columns.is_object"
   ]
  },
  {
   "cell_type": "code",
   "execution_count": null,
   "id": "2aafb8cb",
   "metadata": {
    "scrolled": false
   },
   "outputs": [],
   "source": [
    "sns.boxplot(x = sample.bedroom, y = sample.tax_value)"
   ]
  },
  {
   "cell_type": "code",
   "execution_count": null,
   "id": "442fc9b2",
   "metadata": {},
   "outputs": [],
   "source": [
    "sns.barplot(x = sample.bedroom, y = sample.tax_value)"
   ]
  },
  {
   "cell_type": "code",
   "execution_count": null,
   "id": "820905e7",
   "metadata": {},
   "outputs": [],
   "source": [
    "sns.violinplot(x=sample.bedroom, y=sample.tax_value)"
   ]
  },
  {
   "cell_type": "code",
   "execution_count": null,
   "id": "fe318697",
   "metadata": {
    "scrolled": true
   },
   "outputs": [],
   "source": [
    "plot_categorical_and_continuous_vars(train, 'bedroom', 'tax_value')"
   ]
  },
  {
   "cell_type": "code",
   "execution_count": null,
   "id": "e87c5a06",
   "metadata": {},
   "outputs": [],
   "source": [
    "for i, col in enumerate(cols):\n",
    "    # i starts at 0, but plot nos should start at 1\n",
    "    subplot_num = i+1\n",
    "    # Create subplot.\n",
    "    plt.subplot(1,4,subplot_num)\n",
    "    # Title with column name.\n",
    "    plt.title(col)\n",
    "    # Display histogram for column.\n",
    "    sns.boxplot(y = '', x = 'species', data = iris)\n",
    "    # Hide gridlines.\n",
    "    plt.grid(False)"
   ]
  },
  {
   "cell_type": "markdown",
   "id": "48c292c0",
   "metadata": {},
   "source": [
    "### 5. Save the functions you have written to create visualizations in your explore.py file. Rewrite your notebook code so that you are using the functions imported from this file."
   ]
  },
  {
   "cell_type": "code",
   "execution_count": null,
   "id": "db42655e",
   "metadata": {
    "scrolled": false
   },
   "outputs": [],
   "source": [
    "for i in cat_vars:\n",
    "    corr, p = stats.pearsonr(sample[i], sample.tax_value)\n",
    "    print(f'{i} correlation {corr}, p-val{p}')"
   ]
  },
  {
   "cell_type": "code",
   "execution_count": null,
   "id": "a4b2304e",
   "metadata": {},
   "outputs": [],
   "source": [
    "for i in cat_vars:\n",
    "    corr, p = stats.spearmanr(sample[i], sample.tax_value)\n",
    "    print(f'{i} correlation {corr}, p-val{p}')"
   ]
  },
  {
   "cell_type": "code",
   "execution_count": null,
   "id": "56609f60",
   "metadata": {
    "scrolled": true
   },
   "outputs": [],
   "source": [
    "for i in cont_vars:\n",
    "    corr, p = stats.pearsonr(sample[i], sample.tax_value)\n",
    "    print(f'{i} correlation {corr}, p-val{p}')"
   ]
  },
  {
   "cell_type": "code",
   "execution_count": null,
   "id": "87a88929",
   "metadata": {},
   "outputs": [],
   "source": [
    "train.bathroom.mean()"
   ]
  },
  {
   "cell_type": "code",
   "execution_count": null,
   "id": "a02151bf",
   "metadata": {
    "scrolled": true
   },
   "outputs": [],
   "source": [
    "train.bedroom.mean()"
   ]
  },
  {
   "cell_type": "code",
   "execution_count": null,
   "id": "3464049b",
   "metadata": {},
   "outputs": [],
   "source": [
    "train.head()"
   ]
  },
  {
   "cell_type": "code",
   "execution_count": null,
   "id": "bec6d981",
   "metadata": {},
   "outputs": [],
   "source": [
    "sample.bathroom.dtype"
   ]
  },
  {
   "cell_type": "code",
   "execution_count": null,
   "id": "9b98f59d",
   "metadata": {},
   "outputs": [],
   "source": [
    "\n",
    "for i in cont_vars:\n",
    "    overall_mean = sample[i].mean()\n",
    "    t, p = stats.ttest_1samp(i,overall_mean )\n",
    "    "
   ]
  },
  {
   "cell_type": "code",
   "execution_count": null,
   "id": "8f0011ce",
   "metadata": {},
   "outputs": [],
   "source": []
  },
  {
   "cell_type": "markdown",
   "id": "40a96aee",
   "metadata": {},
   "source": [
    "# TEST"
   ]
  },
  {
   "cell_type": "code",
   "execution_count": 64,
   "id": "b4724afa",
   "metadata": {},
   "outputs": [
    {
     "data": {
      "text/plain": [
       "2.00     524448\n",
       "1.00     230760\n",
       "3.00     228599\n",
       "2.50      79042\n",
       "4.00      37746\n",
       "1.50      17382\n",
       "3.50      13510\n",
       "5.00       8615\n",
       "4.50       7026\n",
       "0.00       2297\n",
       "6.00       1405\n",
       "5.50        791\n",
       "7.00        206\n",
       "6.50         57\n",
       "7.50         25\n",
       "8.00         19\n",
       "0.50          8\n",
       "9.00          4\n",
       "1.75          2\n",
       "20.00         2\n",
       "11.00         2\n",
       "9.50          1\n",
       "10.00         1\n",
       "16.00         1\n",
       "15.00         1\n",
       "14.00         1\n",
       "Name: bathroom, dtype: int64"
      ]
     },
     "execution_count": 64,
     "metadata": {},
     "output_type": "execute_result"
    }
   ],
   "source": [
    "train.bathroom.value_counts()"
   ]
  },
  {
   "cell_type": "code",
   "execution_count": 65,
   "id": "034a70c6",
   "metadata": {},
   "outputs": [
    {
     "data": {
      "text/plain": [
       "3.0     530814\n",
       "4.0     338689\n",
       "2.0     184917\n",
       "5.0      70866\n",
       "1.0      12582\n",
       "6.0       9854\n",
       "0.0       2356\n",
       "7.0       1531\n",
       "8.0        265\n",
       "9.0         51\n",
       "10.0        18\n",
       "11.0         5\n",
       "14.0         2\n",
       "13.0         1\n",
       "Name: bedroom, dtype: int64"
      ]
     },
     "execution_count": 65,
     "metadata": {},
     "output_type": "execute_result"
    }
   ],
   "source": [
    "train.bedroom.value_counts()"
   ]
  },
  {
   "cell_type": "code",
   "execution_count": 69,
   "id": "55731738",
   "metadata": {},
   "outputs": [],
   "source": [
    "\n",
    "one = train[train.bathroom.between(0,1.5,inclusive='both')]"
   ]
  },
  {
   "cell_type": "code",
   "execution_count": 70,
   "id": "e05d9708",
   "metadata": {
    "scrolled": true
   },
   "outputs": [
    {
     "data": {
      "text/html": [
       "<div>\n",
       "<style scoped>\n",
       "    .dataframe tbody tr th:only-of-type {\n",
       "        vertical-align: middle;\n",
       "    }\n",
       "\n",
       "    .dataframe tbody tr th {\n",
       "        vertical-align: top;\n",
       "    }\n",
       "\n",
       "    .dataframe thead th {\n",
       "        text-align: right;\n",
       "    }\n",
       "</style>\n",
       "<table border=\"1\" class=\"dataframe\">\n",
       "  <thead>\n",
       "    <tr style=\"text-align: right;\">\n",
       "      <th></th>\n",
       "      <th>bedroom</th>\n",
       "      <th>bathroom</th>\n",
       "      <th>squarefeet</th>\n",
       "      <th>tax_value</th>\n",
       "      <th>yearbuilt</th>\n",
       "      <th>taxamount</th>\n",
       "      <th>fips</th>\n",
       "      <th>age</th>\n",
       "    </tr>\n",
       "  </thead>\n",
       "  <tbody>\n",
       "    <tr>\n",
       "      <th>43744</th>\n",
       "      <td>4.0</td>\n",
       "      <td>1.5</td>\n",
       "      <td>1227.0</td>\n",
       "      <td>379260.0</td>\n",
       "      <td>1961.0</td>\n",
       "      <td>4448.38</td>\n",
       "      <td>6111.0</td>\n",
       "      <td>56.0</td>\n",
       "    </tr>\n",
       "    <tr>\n",
       "      <th>1069458</th>\n",
       "      <td>3.0</td>\n",
       "      <td>1.0</td>\n",
       "      <td>1415.0</td>\n",
       "      <td>195044.0</td>\n",
       "      <td>1938.0</td>\n",
       "      <td>2418.62</td>\n",
       "      <td>6037.0</td>\n",
       "      <td>79.0</td>\n",
       "    </tr>\n",
       "    <tr>\n",
       "      <th>1566195</th>\n",
       "      <td>2.0</td>\n",
       "      <td>1.0</td>\n",
       "      <td>852.0</td>\n",
       "      <td>282181.0</td>\n",
       "      <td>1929.0</td>\n",
       "      <td>3638.30</td>\n",
       "      <td>6037.0</td>\n",
       "      <td>88.0</td>\n",
       "    </tr>\n",
       "    <tr>\n",
       "      <th>577550</th>\n",
       "      <td>2.0</td>\n",
       "      <td>1.0</td>\n",
       "      <td>1173.0</td>\n",
       "      <td>230816.0</td>\n",
       "      <td>1929.0</td>\n",
       "      <td>2998.59</td>\n",
       "      <td>6037.0</td>\n",
       "      <td>88.0</td>\n",
       "    </tr>\n",
       "    <tr>\n",
       "      <th>493817</th>\n",
       "      <td>3.0</td>\n",
       "      <td>1.5</td>\n",
       "      <td>1170.0</td>\n",
       "      <td>230272.0</td>\n",
       "      <td>1964.0</td>\n",
       "      <td>2850.56</td>\n",
       "      <td>6059.0</td>\n",
       "      <td>53.0</td>\n",
       "    </tr>\n",
       "    <tr>\n",
       "      <th>...</th>\n",
       "      <td>...</td>\n",
       "      <td>...</td>\n",
       "      <td>...</td>\n",
       "      <td>...</td>\n",
       "      <td>...</td>\n",
       "      <td>...</td>\n",
       "      <td>...</td>\n",
       "      <td>...</td>\n",
       "    </tr>\n",
       "    <tr>\n",
       "      <th>151023</th>\n",
       "      <td>2.0</td>\n",
       "      <td>1.0</td>\n",
       "      <td>576.0</td>\n",
       "      <td>178835.0</td>\n",
       "      <td>1924.0</td>\n",
       "      <td>1906.22</td>\n",
       "      <td>6111.0</td>\n",
       "      <td>93.0</td>\n",
       "    </tr>\n",
       "    <tr>\n",
       "      <th>1167781</th>\n",
       "      <td>2.0</td>\n",
       "      <td>1.0</td>\n",
       "      <td>1118.0</td>\n",
       "      <td>282764.0</td>\n",
       "      <td>1930.0</td>\n",
       "      <td>3618.13</td>\n",
       "      <td>6037.0</td>\n",
       "      <td>87.0</td>\n",
       "    </tr>\n",
       "    <tr>\n",
       "      <th>27260</th>\n",
       "      <td>3.0</td>\n",
       "      <td>1.0</td>\n",
       "      <td>1014.0</td>\n",
       "      <td>186062.0</td>\n",
       "      <td>1955.0</td>\n",
       "      <td>2861.25</td>\n",
       "      <td>6037.0</td>\n",
       "      <td>62.0</td>\n",
       "    </tr>\n",
       "    <tr>\n",
       "      <th>90508</th>\n",
       "      <td>4.0</td>\n",
       "      <td>1.0</td>\n",
       "      <td>1644.0</td>\n",
       "      <td>340260.0</td>\n",
       "      <td>1923.0</td>\n",
       "      <td>4086.47</td>\n",
       "      <td>6037.0</td>\n",
       "      <td>94.0</td>\n",
       "    </tr>\n",
       "    <tr>\n",
       "      <th>1534000</th>\n",
       "      <td>2.0</td>\n",
       "      <td>1.0</td>\n",
       "      <td>769.0</td>\n",
       "      <td>196290.0</td>\n",
       "      <td>1945.0</td>\n",
       "      <td>3686.26</td>\n",
       "      <td>6037.0</td>\n",
       "      <td>72.0</td>\n",
       "    </tr>\n",
       "  </tbody>\n",
       "</table>\n",
       "<p>250447 rows × 8 columns</p>\n",
       "</div>"
      ],
      "text/plain": [
       "         bedroom  bathroom  squarefeet  tax_value  yearbuilt  taxamount  \\\n",
       "43744        4.0       1.5      1227.0   379260.0     1961.0    4448.38   \n",
       "1069458      3.0       1.0      1415.0   195044.0     1938.0    2418.62   \n",
       "1566195      2.0       1.0       852.0   282181.0     1929.0    3638.30   \n",
       "577550       2.0       1.0      1173.0   230816.0     1929.0    2998.59   \n",
       "493817       3.0       1.5      1170.0   230272.0     1964.0    2850.56   \n",
       "...          ...       ...         ...        ...        ...        ...   \n",
       "151023       2.0       1.0       576.0   178835.0     1924.0    1906.22   \n",
       "1167781      2.0       1.0      1118.0   282764.0     1930.0    3618.13   \n",
       "27260        3.0       1.0      1014.0   186062.0     1955.0    2861.25   \n",
       "90508        4.0       1.0      1644.0   340260.0     1923.0    4086.47   \n",
       "1534000      2.0       1.0       769.0   196290.0     1945.0    3686.26   \n",
       "\n",
       "           fips   age  \n",
       "43744    6111.0  56.0  \n",
       "1069458  6037.0  79.0  \n",
       "1566195  6037.0  88.0  \n",
       "577550   6037.0  88.0  \n",
       "493817   6059.0  53.0  \n",
       "...         ...   ...  \n",
       "151023   6111.0  93.0  \n",
       "1167781  6037.0  87.0  \n",
       "27260    6037.0  62.0  \n",
       "90508    6037.0  94.0  \n",
       "1534000  6037.0  72.0  \n",
       "\n",
       "[250447 rows x 8 columns]"
      ]
     },
     "execution_count": 70,
     "metadata": {},
     "output_type": "execute_result"
    }
   ],
   "source": [
    "one"
   ]
  },
  {
   "cell_type": "code",
   "execution_count": 72,
   "id": "6f57ec91",
   "metadata": {},
   "outputs": [],
   "source": [
    "one = train[train.bathroom.between(0,1.5,inclusive='both')]\n",
    "two = train[train.bathroom.between(1.5,2.5,inclusive='right')]\n",
    "three = train[train.bathroom.between(2.5,3.5,inclusive='right')]\n",
    "four = train[train.bathroom.between(3.5,4.5,inclusive='right')]\n",
    "five = train[train.bathroom.between(4.5,5.5,inclusive='right')]\n",
    "six = train[train.bathroom.between(6.5,7.5,inclusive='right')]\n",
    "seven_plus = train[train.bathroom.between(7.5,100,inclusive='right')]"
   ]
  },
  {
   "cell_type": "code",
   "execution_count": null,
   "id": "7c4e521d",
   "metadata": {},
   "outputs": [],
   "source": [
    "stats.f_oneway(sdfs,)"
   ]
  },
  {
   "cell_type": "code",
   "execution_count": 76,
   "id": "011bd14c",
   "metadata": {},
   "outputs": [
    {
     "data": {
      "text/plain": [
       "0.0"
      ]
     },
     "execution_count": 76,
     "metadata": {},
     "output_type": "execute_result"
    }
   ],
   "source": [
    "stat, pval = stats.levene(one.tax_value,two.tax_value,three.tax_value, four.tax_value, five.tax_value, six.tax_value, seven_plus.tax_value)\n",
    "pval"
   ]
  },
  {
   "cell_type": "code",
   "execution_count": 75,
   "id": "61a167b8",
   "metadata": {},
   "outputs": [
    {
     "data": {
      "text/plain": [
       "(48846.19647023644, 0.0)"
      ]
     },
     "execution_count": 75,
     "metadata": {},
     "output_type": "execute_result"
    }
   ],
   "source": [
    "f, p = stats.f_oneway(one.tax_value,two.tax_value,three.tax_value, four.tax_value, five.tax_value, six.tax_value, seven_plus.tax_value)\n",
    "f, p"
   ]
  }
 ],
 "metadata": {
  "kernelspec": {
   "display_name": "Python 3 (ipykernel)",
   "language": "python",
   "name": "python3"
  },
  "language_info": {
   "codemirror_mode": {
    "name": "ipython",
    "version": 3
   },
   "file_extension": ".py",
   "mimetype": "text/x-python",
   "name": "python",
   "nbconvert_exporter": "python",
   "pygments_lexer": "ipython3",
   "version": "3.9.12"
  }
 },
 "nbformat": 4,
 "nbformat_minor": 5
}
