{
 "cells": [
  {
   "cell_type": "markdown",
   "id": "4ee176bb",
   "metadata": {},
   "source": [
    "# $Modeling$"
   ]
  },
  {
   "cell_type": "markdown",
   "id": "02f2eea2",
   "metadata": {},
   "source": [
    "## Imports"
   ]
  },
  {
   "cell_type": "code",
   "execution_count": 47,
   "id": "6419914d",
   "metadata": {},
   "outputs": [],
   "source": [
    "import numpy as np\n",
    "import pandas as pd\n",
    "from scipy import stats\n",
    "import sklearn.preprocessing\n",
    "from sklearn.model_selection import train_test_split\n",
    "from sklearn.preprocessing import QuantileTransformer\n",
    "from sklearn.linear_model import LinearRegression\n",
    "import matplotlib.pyplot as plt\n",
    "from sklearn.feature_selection import RFE\n",
    "from statsmodels.stats.outliers_influence import variance_inflation_factor\n",
    "import seaborn as sns\n",
    "import matplotlib.pyplot as plt\n",
    "import wrangle as w\n",
    "import explore as e"
   ]
  },
  {
   "cell_type": "markdown",
   "id": "4362d572",
   "metadata": {},
   "source": [
    "# 1. Select a dataset with a continuous target variable."
   ]
  },
  {
   "cell_type": "code",
   "execution_count": 3,
   "id": "97684d0c",
   "metadata": {},
   "outputs": [],
   "source": [
    "# wrangel zillow data\n",
    "df = w.wrangle_single_family_residential()"
   ]
  },
  {
   "cell_type": "code",
   "execution_count": 4,
   "id": "4c04edc1",
   "metadata": {},
   "outputs": [],
   "source": [
    "df = w.remove_outliers(df,['bedroom','bathroom','squarefeet','taxamount','tax_value'])"
   ]
  },
  {
   "cell_type": "markdown",
   "id": "e8022530",
   "metadata": {},
   "source": [
    "# 2. Be sure your data is prepared (no missing values, numeric datatypes) and split into samples."
   ]
  },
  {
   "cell_type": "code",
   "execution_count": 5,
   "id": "9b30d2f8",
   "metadata": {},
   "outputs": [],
   "source": [
    "# Split data to train , test validate, using random state 123\n",
    "train, validate, test = w.split_data(df)"
   ]
  },
  {
   "cell_type": "code",
   "execution_count": 8,
   "id": "4a7c4b0d",
   "metadata": {},
   "outputs": [
    {
     "data": {
      "text/plain": [
       "bedroom       float64\n",
       "bathroom      float64\n",
       "squarefeet    float64\n",
       "tax_value     float64\n",
       "yearbuilt     float64\n",
       "taxamount     float64\n",
       "fips           object\n",
       "home_age      float64\n",
       "dtype: object"
      ]
     },
     "execution_count": 8,
     "metadata": {},
     "output_type": "execute_result"
    }
   ],
   "source": [
    "train.dtypes"
   ]
  },
  {
   "cell_type": "markdown",
   "id": "cdf07b71",
   "metadata": {},
   "source": [
    "# 3. Work through all of the steps outlined in the lesson, from setting the baseline to selected a model and evaluating the final model on your test data."
   ]
  },
  {
   "cell_type": "code",
   "execution_count": 22,
   "id": "8d83483b",
   "metadata": {},
   "outputs": [],
   "source": [
    "# set up dataframe for predictions, add actual values\n",
    "predictions = pd.DataFrame({\n",
    "    'actual': validate.tax_value\n",
    "}) "
   ]
  },
  {
   "cell_type": "code",
   "execution_count": 24,
   "id": "81533fb4",
   "metadata": {},
   "outputs": [
    {
     "data": {
      "text/html": [
       "<div>\n",
       "<style scoped>\n",
       "    .dataframe tbody tr th:only-of-type {\n",
       "        vertical-align: middle;\n",
       "    }\n",
       "\n",
       "    .dataframe tbody tr th {\n",
       "        vertical-align: top;\n",
       "    }\n",
       "\n",
       "    .dataframe thead th {\n",
       "        text-align: right;\n",
       "    }\n",
       "</style>\n",
       "<table border=\"1\" class=\"dataframe\">\n",
       "  <thead>\n",
       "    <tr style=\"text-align: right;\">\n",
       "      <th></th>\n",
       "      <th>actual</th>\n",
       "    </tr>\n",
       "  </thead>\n",
       "  <tbody>\n",
       "    <tr>\n",
       "      <th>1292142</th>\n",
       "      <td>224327.0</td>\n",
       "    </tr>\n",
       "    <tr>\n",
       "      <th>2058386</th>\n",
       "      <td>146000.0</td>\n",
       "    </tr>\n",
       "    <tr>\n",
       "      <th>1883615</th>\n",
       "      <td>489000.0</td>\n",
       "    </tr>\n",
       "    <tr>\n",
       "      <th>1580431</th>\n",
       "      <td>269076.0</td>\n",
       "    </tr>\n",
       "    <tr>\n",
       "      <th>711630</th>\n",
       "      <td>104263.0</td>\n",
       "    </tr>\n",
       "  </tbody>\n",
       "</table>\n",
       "</div>"
      ],
      "text/plain": [
       "           actual\n",
       "1292142  224327.0\n",
       "2058386  146000.0\n",
       "1883615  489000.0\n",
       "1580431  269076.0\n",
       "711630   104263.0"
      ]
     },
     "execution_count": 24,
     "metadata": {},
     "output_type": "execute_result"
    }
   ],
   "source": [
    "predictions.head()"
   ]
  },
  {
   "cell_type": "markdown",
   "id": "b1c67c09",
   "metadata": {},
   "source": [
    "### **Simple Model**"
   ]
  },
  {
   "cell_type": "code",
   "execution_count": 25,
   "id": "7adcad28",
   "metadata": {},
   "outputs": [],
   "source": [
    "# X must be 2-d array\n",
    "X_train = train[['taxamount']]\n",
    "# y can be 1-d array\n",
    "y_train = train.tax_value\n",
    "\n",
    "# 1. make the thing\n",
    "lm = LinearRegression()\n",
    "# 2. fit the thing\n",
    "lm.fit(X_train, y_train)\n",
    "# 3. use the thing (make predictions)\n",
    "X_validate = validate[['taxamount']]\n",
    "predictions['simple_lm'] = lm.predict(X_validate)"
   ]
  },
  {
   "cell_type": "code",
   "execution_count": 26,
   "id": "0e077a90",
   "metadata": {},
   "outputs": [
    {
     "data": {
      "text/html": [
       "<div>\n",
       "<style scoped>\n",
       "    .dataframe tbody tr th:only-of-type {\n",
       "        vertical-align: middle;\n",
       "    }\n",
       "\n",
       "    .dataframe tbody tr th {\n",
       "        vertical-align: top;\n",
       "    }\n",
       "\n",
       "    .dataframe thead th {\n",
       "        text-align: right;\n",
       "    }\n",
       "</style>\n",
       "<table border=\"1\" class=\"dataframe\">\n",
       "  <thead>\n",
       "    <tr style=\"text-align: right;\">\n",
       "      <th></th>\n",
       "      <th>actual</th>\n",
       "      <th>simple_lm</th>\n",
       "    </tr>\n",
       "  </thead>\n",
       "  <tbody>\n",
       "    <tr>\n",
       "      <th>1292142</th>\n",
       "      <td>224327.0</td>\n",
       "      <td>216633.023808</td>\n",
       "    </tr>\n",
       "    <tr>\n",
       "      <th>2058386</th>\n",
       "      <td>146000.0</td>\n",
       "      <td>204330.521354</td>\n",
       "    </tr>\n",
       "    <tr>\n",
       "      <th>1883615</th>\n",
       "      <td>489000.0</td>\n",
       "      <td>481736.907417</td>\n",
       "    </tr>\n",
       "    <tr>\n",
       "      <th>1580431</th>\n",
       "      <td>269076.0</td>\n",
       "      <td>253885.366359</td>\n",
       "    </tr>\n",
       "    <tr>\n",
       "      <th>711630</th>\n",
       "      <td>104263.0</td>\n",
       "      <td>111585.069010</td>\n",
       "    </tr>\n",
       "  </tbody>\n",
       "</table>\n",
       "</div>"
      ],
      "text/plain": [
       "           actual      simple_lm\n",
       "1292142  224327.0  216633.023808\n",
       "2058386  146000.0  204330.521354\n",
       "1883615  489000.0  481736.907417\n",
       "1580431  269076.0  253885.366359\n",
       "711630   104263.0  111585.069010"
      ]
     },
     "execution_count": 26,
     "metadata": {},
     "output_type": "execute_result"
    }
   ],
   "source": [
    "predictions.head()"
   ]
  },
  {
   "cell_type": "code",
   "execution_count": 27,
   "id": "ab4256ba",
   "metadata": {},
   "outputs": [
    {
     "data": {
      "text/plain": [
       "(array([84.51842851]), -16365.68954562716)"
      ]
     },
     "execution_count": 27,
     "metadata": {},
     "output_type": "execute_result"
    }
   ],
   "source": [
    "# look into modesl make up \n",
    "lm.coef_, lm.intercept_"
   ]
  },
  {
   "cell_type": "code",
   "execution_count": 33,
   "id": "21ffedb3",
   "metadata": {},
   "outputs": [
    {
     "name": "stderr",
     "output_type": "stream",
     "text": [
      "/opt/homebrew/anaconda3/lib/python3.9/site-packages/sklearn/base.py:450: UserWarning: X does not have valid feature names, but LinearRegression was fitted with feature names\n",
      "  warnings.warn(\n"
     ]
    },
    {
     "data": {
      "text/plain": [
       "<matplotlib.legend.Legend at 0x2a4b83c10>"
      ]
     },
     "execution_count": 33,
     "metadata": {},
     "output_type": "execute_result"
    },
    {
     "name": "stderr",
     "output_type": "stream",
     "text": [
      "/opt/homebrew/anaconda3/lib/python3.9/site-packages/IPython/core/pylabtools.py:151: UserWarning: Creating legend with loc=\"best\" can be slow with large amounts of data.\n",
      "  fig.canvas.print_figure(bytes_io, **kw)\n"
     ]
    },
    {
     "data": {
      "image/png": "[encoded data removed]",
      "text/plain": [
       "<Figure size 1152x648 with 1 Axes>"
      ]
     },
     "metadata": {
      "needs_background": "light"
     },
     "output_type": "display_data"
    }
   ],
   "source": [
    "x_pred = np.array([-25, 100]).reshape(-1, 1)\n",
    "y_pred = lm.predict(x_pred)\n",
    "\n",
    "plt.figure(figsize=(16, 9))\n",
    "plt.scatter(train.taxamount, train.tax_value, label='actual')\n",
    "plt.scatter(train.taxamount, lm.predict(train[['taxamount']]), label='simple_lm')\n",
    "plt.plot(x_pred, y_pred, ls='--', c='red', label='linear model prediction line')\n",
    "plt.hlines(0, -25, 100, ls=':', color='grey')\n",
    "plt.vlines(0, -10, 100, ls=':', color='grey')\n",
    "\n",
    "plt.xlabel('Taxamount')\n",
    "plt.ylabel('Tax_value')\n",
    "plt.legend()"
   ]
  },
  {
   "cell_type": "code",
   "execution_count": 35,
   "id": "08847712",
   "metadata": {},
   "outputs": [
    {
     "name": "stdout",
     "output_type": "stream",
     "text": [
      "tax_value = 84.518 * taxamount + -16365.690\n"
     ]
    }
   ],
   "source": [
    "print('tax_value = {:.3f} * taxamount + {:.3f}'.format(lm.coef_[0], lm.intercept_))"
   ]
  },
  {
   "cell_type": "code",
   "execution_count": 41,
   "id": "e282a890",
   "metadata": {},
   "outputs": [
    {
     "data": {
      "text/plain": [
       "1454758.0"
      ]
     },
     "execution_count": 41,
     "metadata": {},
     "output_type": "execute_result"
    }
   ],
   "source": [
    "train.tax_value.max()"
   ]
  },
  {
   "cell_type": "code",
   "execution_count": 43,
   "id": "78be7f9e",
   "metadata": {},
   "outputs": [
    {
     "name": "stderr",
     "output_type": "stream",
     "text": [
      "/opt/homebrew/anaconda3/lib/python3.9/site-packages/sklearn/base.py:450: UserWarning: X does not have valid feature names, but LinearRegression was fitted with feature names\n",
      "  warnings.warn(\n"
     ]
    },
    {
     "data": {
      "text/html": [
       "<div>\n",
       "<style scoped>\n",
       "    .dataframe tbody tr th:only-of-type {\n",
       "        vertical-align: middle;\n",
       "    }\n",
       "\n",
       "    .dataframe tbody tr th {\n",
       "        vertical-align: top;\n",
       "    }\n",
       "\n",
       "    .dataframe thead th {\n",
       "        text-align: right;\n",
       "    }\n",
       "</style>\n",
       "<table border=\"1\" class=\"dataframe\">\n",
       "  <thead>\n",
       "    <tr style=\"text-align: right;\">\n",
       "      <th></th>\n",
       "      <th>taxamount</th>\n",
       "      <th>predicted_home_value</th>\n",
       "    </tr>\n",
       "  </thead>\n",
       "  <tbody>\n",
       "    <tr>\n",
       "      <th>0</th>\n",
       "      <td>16.48</td>\n",
       "      <td>-1.497283e+04</td>\n",
       "    </tr>\n",
       "    <tr>\n",
       "      <th>1</th>\n",
       "      <td>17.48</td>\n",
       "      <td>-1.488831e+04</td>\n",
       "    </tr>\n",
       "    <tr>\n",
       "      <th>2</th>\n",
       "      <td>18.48</td>\n",
       "      <td>-1.480379e+04</td>\n",
       "    </tr>\n",
       "    <tr>\n",
       "      <th>3</th>\n",
       "      <td>19.48</td>\n",
       "      <td>-1.471927e+04</td>\n",
       "    </tr>\n",
       "    <tr>\n",
       "      <th>4</th>\n",
       "      <td>20.48</td>\n",
       "      <td>-1.463475e+04</td>\n",
       "    </tr>\n",
       "    <tr>\n",
       "      <th>...</th>\n",
       "      <td>...</td>\n",
       "      <td>...</td>\n",
       "    </tr>\n",
       "    <tr>\n",
       "      <th>17463</th>\n",
       "      <td>17479.48</td>\n",
       "      <td>1.460972e+06</td>\n",
       "    </tr>\n",
       "    <tr>\n",
       "      <th>17464</th>\n",
       "      <td>17480.48</td>\n",
       "      <td>1.461057e+06</td>\n",
       "    </tr>\n",
       "    <tr>\n",
       "      <th>17465</th>\n",
       "      <td>17481.48</td>\n",
       "      <td>1.461142e+06</td>\n",
       "    </tr>\n",
       "    <tr>\n",
       "      <th>17466</th>\n",
       "      <td>17482.48</td>\n",
       "      <td>1.461226e+06</td>\n",
       "    </tr>\n",
       "    <tr>\n",
       "      <th>17467</th>\n",
       "      <td>17483.48</td>\n",
       "      <td>1.461311e+06</td>\n",
       "    </tr>\n",
       "  </tbody>\n",
       "</table>\n",
       "<p>17468 rows × 2 columns</p>\n",
       "</div>"
      ],
      "text/plain": [
       "       taxamount  predicted_home_value\n",
       "0          16.48         -1.497283e+04\n",
       "1          17.48         -1.488831e+04\n",
       "2          18.48         -1.480379e+04\n",
       "3          19.48         -1.471927e+04\n",
       "4          20.48         -1.463475e+04\n",
       "...          ...                   ...\n",
       "17463   17479.48          1.460972e+06\n",
       "17464   17480.48          1.461057e+06\n",
       "17465   17481.48          1.461142e+06\n",
       "17466   17482.48          1.461226e+06\n",
       "17467   17483.48          1.461311e+06\n",
       "\n",
       "[17468 rows x 2 columns]"
      ]
     },
     "execution_count": 43,
     "metadata": {},
     "output_type": "execute_result"
    }
   ],
   "source": [
    "taxamount = np.arange(train.taxamount.min(), train.taxamount.max())\n",
    "tax_value = lm.predict(taxamount.reshape(-1, 1))\n",
    "pd.DataFrame(dict(taxamount=taxamount, predicted_home_value=tax_value))"
   ]
  },
  {
   "cell_type": "markdown",
   "id": "1454d521",
   "metadata": {},
   "source": [
    "### Multiple Regression + RFE"
   ]
  },
  {
   "cell_type": "code",
   "execution_count": null,
   "id": "5d72ab25",
   "metadata": {},
   "outputs": [],
   "source": []
  },
  {
   "cell_type": "raw",
   "id": "b5ec85d8",
   "metadata": {},
   "source": []
  },
  {
   "cell_type": "code",
   "execution_count": 49,
   "id": "b5c501cc",
   "metadata": {},
   "outputs": [
    {
     "name": "stdout",
     "output_type": "stream",
     "text": [
      "selected top 2 features: Index(['bedroom', 'bathroom'], dtype='object')\n"
     ]
    }
   ],
   "source": [
    "X_train = train.drop(columns=['tax_value','fips','yearbuilt'])\n",
    "y_train = train.tax_value\n",
    "X_validate = validate.drop(columns=['tax_value','fips','yearbuilt'])\n",
    "\n",
    "lm = LinearRegression()\n",
    "k = 2\n",
    "\n",
    "# 1. Transform our X\n",
    "rfe = RFE(lm, n_features_to_select=2)\n",
    "rfe.fit(X_train, y_train)\n",
    "print('selected top 2 features:', X_train.columns[rfe.support_])\n",
    "X_train_rfe = rfe.transform(X_train)"
   ]
  },
  {
   "cell_type": "code",
   "execution_count": 50,
   "id": "d58578c5",
   "metadata": {},
   "outputs": [
    {
     "data": {
      "text/plain": [
       "(1145530, 5)"
      ]
     },
     "execution_count": 50,
     "metadata": {},
     "output_type": "execute_result"
    }
   ],
   "source": [
    "X_train.shape"
   ]
  },
  {
   "cell_type": "code",
   "execution_count": 51,
   "id": "22007075",
   "metadata": {},
   "outputs": [
    {
     "data": {
      "text/plain": [
       "(1145530, 2)"
      ]
     },
     "execution_count": 51,
     "metadata": {},
     "output_type": "execute_result"
    }
   ],
   "source": [
    "X_train_rfe.shape"
   ]
  },
  {
   "cell_type": "code",
   "execution_count": 52,
   "id": "03ab5714",
   "metadata": {},
   "outputs": [
    {
     "data": {
      "text/html": [
       "<div>\n",
       "<style scoped>\n",
       "    .dataframe tbody tr th:only-of-type {\n",
       "        vertical-align: middle;\n",
       "    }\n",
       "\n",
       "    .dataframe tbody tr th {\n",
       "        vertical-align: top;\n",
       "    }\n",
       "\n",
       "    .dataframe thead th {\n",
       "        text-align: right;\n",
       "    }\n",
       "</style>\n",
       "<table border=\"1\" class=\"dataframe\">\n",
       "  <thead>\n",
       "    <tr style=\"text-align: right;\">\n",
       "      <th></th>\n",
       "      <th>actual</th>\n",
       "      <th>simple_lm</th>\n",
       "      <th>multiple_rfe</th>\n",
       "    </tr>\n",
       "  </thead>\n",
       "  <tbody>\n",
       "    <tr>\n",
       "      <th>1292142</th>\n",
       "      <td>224327.0</td>\n",
       "      <td>216633.023808</td>\n",
       "      <td>340649.388370</td>\n",
       "    </tr>\n",
       "    <tr>\n",
       "      <th>2058386</th>\n",
       "      <td>146000.0</td>\n",
       "      <td>204330.521354</td>\n",
       "      <td>355188.019470</td>\n",
       "    </tr>\n",
       "    <tr>\n",
       "      <th>1883615</th>\n",
       "      <td>489000.0</td>\n",
       "      <td>481736.907417</td>\n",
       "      <td>419780.457533</td>\n",
       "    </tr>\n",
       "    <tr>\n",
       "      <th>1580431</th>\n",
       "      <td>269076.0</td>\n",
       "      <td>253885.366359</td>\n",
       "      <td>355188.019470</td>\n",
       "    </tr>\n",
       "    <tr>\n",
       "      <th>711630</th>\n",
       "      <td>104263.0</td>\n",
       "      <td>111585.069010</td>\n",
       "      <td>340649.388370</td>\n",
       "    </tr>\n",
       "  </tbody>\n",
       "</table>\n",
       "</div>"
      ],
      "text/plain": [
       "           actual      simple_lm   multiple_rfe\n",
       "1292142  224327.0  216633.023808  340649.388370\n",
       "2058386  146000.0  204330.521354  355188.019470\n",
       "1883615  489000.0  481736.907417  419780.457533\n",
       "1580431  269076.0  253885.366359  355188.019470\n",
       "711630   104263.0  111585.069010  340649.388370"
      ]
     },
     "execution_count": 52,
     "metadata": {},
     "output_type": "execute_result"
    }
   ],
   "source": [
    "# 2. Use the transformed x in our model\n",
    "lm.fit(X_train_rfe, y_train)\n",
    "\n",
    "# 3. Make predictions\n",
    "X_validate_rfe = rfe.transform(X_validate)\n",
    "predictions['multiple_rfe'] = lm.predict(X_validate_rfe)\n",
    "\n",
    "predictions.head()"
   ]
  },
  {
   "cell_type": "code",
   "execution_count": 53,
   "id": "77518308",
   "metadata": {},
   "outputs": [
    {
     "data": {
      "text/plain": [
       "(array([-14538.63109986, 158262.1383257 ]), 82279.63611829915)"
      ]
     },
     "execution_count": 53,
     "metadata": {},
     "output_type": "execute_result"
    }
   ],
   "source": [
    "# look into models make up\n",
    "lm.coef_, lm.intercept_"
   ]
  },
  {
   "cell_type": "code",
   "execution_count": 55,
   "id": "b72acf11",
   "metadata": {},
   "outputs": [
    {
     "name": "stdout",
     "output_type": "stream",
     "text": [
      "tax_value = -14538.63 x bedroom + 158262.14 x bathroom + 82279.64\n"
     ]
    }
   ],
   "source": [
    "print(f'tax_value = {lm.coef_[0]:.2f} x bedroom + {lm.coef_[1]:.2f} x bathroom + {lm.intercept_:.2f}')"
   ]
  },
  {
   "cell_type": "code",
   "execution_count": 54,
   "id": "19b78d6e",
   "metadata": {},
   "outputs": [
    {
     "name": "stderr",
     "output_type": "stream",
     "text": [
      "/opt/homebrew/anaconda3/lib/python3.9/site-packages/sklearn/base.py:443: UserWarning: X has feature names, but LinearRegression was fitted without feature names\n",
      "  warnings.warn(\n"
     ]
    },
    {
     "data": {
      "text/html": [
       "<div>\n",
       "<style scoped>\n",
       "    .dataframe tbody tr th:only-of-type {\n",
       "        vertical-align: middle;\n",
       "    }\n",
       "\n",
       "    .dataframe tbody tr th {\n",
       "        vertical-align: top;\n",
       "    }\n",
       "\n",
       "    .dataframe thead th {\n",
       "        text-align: right;\n",
       "    }\n",
       "</style>\n",
       "<table border=\"1\" class=\"dataframe\">\n",
       "  <thead>\n",
       "    <tr style=\"text-align: right;\">\n",
       "      <th></th>\n",
       "      <th>bedrooms</th>\n",
       "      <th>bathrooms</th>\n",
       "      <th>predicted_tax_value</th>\n",
       "    </tr>\n",
       "  </thead>\n",
       "  <tbody>\n",
       "    <tr>\n",
       "      <th>717802</th>\n",
       "      <td>3.0</td>\n",
       "      <td>1.0</td>\n",
       "      <td>196925.881144</td>\n",
       "    </tr>\n",
       "    <tr>\n",
       "      <th>664602</th>\n",
       "      <td>3.0</td>\n",
       "      <td>3.0</td>\n",
       "      <td>513450.157796</td>\n",
       "    </tr>\n",
       "    <tr>\n",
       "      <th>91875</th>\n",
       "      <td>2.0</td>\n",
       "      <td>1.0</td>\n",
       "      <td>211464.512244</td>\n",
       "    </tr>\n",
       "    <tr>\n",
       "      <th>1390318</th>\n",
       "      <td>5.0</td>\n",
       "      <td>3.0</td>\n",
       "      <td>484372.895596</td>\n",
       "    </tr>\n",
       "    <tr>\n",
       "      <th>1287692</th>\n",
       "      <td>3.0</td>\n",
       "      <td>2.0</td>\n",
       "      <td>355188.019470</td>\n",
       "    </tr>\n",
       "    <tr>\n",
       "      <th>...</th>\n",
       "      <td>...</td>\n",
       "      <td>...</td>\n",
       "      <td>...</td>\n",
       "    </tr>\n",
       "    <tr>\n",
       "      <th>122849</th>\n",
       "      <td>3.0</td>\n",
       "      <td>2.0</td>\n",
       "      <td>355188.019470</td>\n",
       "    </tr>\n",
       "    <tr>\n",
       "      <th>1505697</th>\n",
       "      <td>4.0</td>\n",
       "      <td>2.0</td>\n",
       "      <td>340649.388370</td>\n",
       "    </tr>\n",
       "    <tr>\n",
       "      <th>105279</th>\n",
       "      <td>4.0</td>\n",
       "      <td>2.0</td>\n",
       "      <td>340649.388370</td>\n",
       "    </tr>\n",
       "    <tr>\n",
       "      <th>1188418</th>\n",
       "      <td>4.0</td>\n",
       "      <td>3.0</td>\n",
       "      <td>498911.526696</td>\n",
       "    </tr>\n",
       "    <tr>\n",
       "      <th>1699654</th>\n",
       "      <td>3.0</td>\n",
       "      <td>2.0</td>\n",
       "      <td>355188.019470</td>\n",
       "    </tr>\n",
       "  </tbody>\n",
       "</table>\n",
       "<p>1145530 rows × 3 columns</p>\n",
       "</div>"
      ],
      "text/plain": [
       "         bedrooms  bathrooms  predicted_tax_value\n",
       "717802        3.0        1.0        196925.881144\n",
       "664602        3.0        3.0        513450.157796\n",
       "91875         2.0        1.0        211464.512244\n",
       "1390318       5.0        3.0        484372.895596\n",
       "1287692       3.0        2.0        355188.019470\n",
       "...           ...        ...                  ...\n",
       "122849        3.0        2.0        355188.019470\n",
       "1505697       4.0        2.0        340649.388370\n",
       "105279        4.0        2.0        340649.388370\n",
       "1188418       4.0        3.0        498911.526696\n",
       "1699654       3.0        2.0        355188.019470\n",
       "\n",
       "[1145530 rows x 3 columns]"
      ]
     },
     "execution_count": 54,
     "metadata": {},
     "output_type": "execute_result"
    }
   ],
   "source": [
    "X = pd.DataFrame({\n",
    "    'bedrooms': train.bedroom,\n",
    "    'bathrooms': train.bathroom\n",
    "})\n",
    "\n",
    "X['predicted_tax_value'] = lm.predict(X)\n",
    "X"
   ]
  },
  {
   "cell_type": "code",
   "execution_count": null,
   "id": "e46b4c7c",
   "metadata": {},
   "outputs": [],
   "source": []
  }
 ],
 "metadata": {
  "kernelspec": {
   "display_name": "Python 3 (ipykernel)",
   "language": "python",
   "name": "python3"
  },
  "language_info": {
   "codemirror_mode": {
    "name": "ipython",
    "version": 3
   },
   "file_extension": ".py",
   "mimetype": "text/x-python",
   "name": "python",
   "nbconvert_exporter": "python",
   "pygments_lexer": "ipython3",
   "version": "3.9.12"
  }
 },
 "nbformat": 4,
 "nbformat_minor": 5
}
